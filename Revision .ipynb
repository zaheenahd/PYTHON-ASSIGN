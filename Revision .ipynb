{
  "nbformat": 4,
  "nbformat_minor": 0,
  "metadata": {
    "colab": {
      "name": "Revision.ipynb",
      "provenance": [],
      "collapsed_sections": [],
      "toc_visible": true
    },
    "kernelspec": {
      "name": "python3",
      "display_name": "Python 3"
    }
  },
  "cells": [
    {
      "cell_type": "code",
      "metadata": {
        "colab": {
          "base_uri": "https://localhost:8080/"
        },
        "id": "P_w36amCrh1K",
        "outputId": "0f0e9a09-a670-4de8-9b58-cbcb152938cb"
      },
      "source": [
        "print('welcome to the revision class of python')"
      ],
      "execution_count": null,
      "outputs": [
        {
          "output_type": "stream",
          "text": [
            "welcome to the revision class of python\n"
          ],
          "name": "stdout"
        }
      ]
    },
    {
      "cell_type": "code",
      "metadata": {
        "colab": {
          "base_uri": "https://localhost:8080/"
        },
        "id": "EXlxQ2DfsALR",
        "outputId": "50fee0b9-9323-4c6e-fb9c-78566ba81b40"
      },
      "source": [
        "if 5>2:\n",
        "  print('welcome to the revision class of python')"
      ],
      "execution_count": null,
      "outputs": [
        {
          "output_type": "stream",
          "text": [
            "welcome to the revision class of python\n"
          ],
          "name": "stdout"
        }
      ]
    },
    {
      "cell_type": "code",
      "metadata": {
        "id": "mo7cbbgSshn0"
      },
      "source": [
        "if 5>12:\n",
        "  print('welcome to the revision class of python')"
      ],
      "execution_count": null,
      "outputs": []
    },
    {
      "cell_type": "code",
      "metadata": {
        "colab": {
          "base_uri": "https://localhost:8080/"
        },
        "id": "i-bmc3zosnYL",
        "outputId": "4ec000d3-6216-4438-c30a-8a331039e0c3"
      },
      "source": [
        "if 5>12:\n",
        "  print('welcome to the revision class of python')\n",
        "else:\n",
        "  print('ok')"
      ],
      "execution_count": null,
      "outputs": [
        {
          "output_type": "stream",
          "text": [
            "ok\n"
          ],
          "name": "stdout"
        }
      ]
    },
    {
      "cell_type": "code",
      "metadata": {
        "id": "tIGXxl1Hs0pz"
      },
      "source": [
        "x=5\n",
        "y='hello world'"
      ],
      "execution_count": null,
      "outputs": []
    },
    {
      "cell_type": "code",
      "metadata": {
        "colab": {
          "base_uri": "https://localhost:8080/"
        },
        "id": "-Se3L2i1s_1a",
        "outputId": "4e583fde-1058-4707-b785-284063b0cf68"
      },
      "source": [
        "x"
      ],
      "execution_count": null,
      "outputs": [
        {
          "output_type": "execute_result",
          "data": {
            "text/plain": [
              "5"
            ]
          },
          "metadata": {
            "tags": []
          },
          "execution_count": 625
        }
      ]
    },
    {
      "cell_type": "code",
      "metadata": {
        "colab": {
          "base_uri": "https://localhost:8080/",
          "height": 35
        },
        "id": "_nxmxAu6tBDr",
        "outputId": "e7eae6a9-c402-4a43-a897-68dff0bf079b"
      },
      "source": [
        "y"
      ],
      "execution_count": null,
      "outputs": [
        {
          "output_type": "execute_result",
          "data": {
            "application/vnd.google.colaboratory.intrinsic+json": {
              "type": "string"
            },
            "text/plain": [
              "'hello world'"
            ]
          },
          "metadata": {
            "tags": []
          },
          "execution_count": 626
        }
      ]
    },
    {
      "cell_type": "code",
      "metadata": {
        "id": "fJWyUyr2tD2R"
      },
      "source": [
        "#this is a comment"
      ],
      "execution_count": null,
      "outputs": []
    },
    {
      "cell_type": "code",
      "metadata": {
        "colab": {
          "base_uri": "https://localhost:8080/"
        },
        "id": "JcaoJcp_tJgw",
        "outputId": "9d81f949-7ac8-411f-9037-3897d858a223"
      },
      "source": [
        "x=5\n",
        "y='hello world'\n",
        "print(x)\n",
        "print(y)"
      ],
      "execution_count": null,
      "outputs": [
        {
          "output_type": "stream",
          "text": [
            "5\n",
            "hello world\n"
          ],
          "name": "stdout"
        }
      ]
    },
    {
      "cell_type": "code",
      "metadata": {
        "colab": {
          "base_uri": "https://localhost:8080/"
        },
        "id": "-3YhYtpJtwC8",
        "outputId": "ebc27809-fd54-43d0-e680-54328f2fd77f"
      },
      "source": [
        "x=b\"hrello\"\n",
        "print(type(x))\n",
        "print(x)"
      ],
      "execution_count": null,
      "outputs": [
        {
          "output_type": "stream",
          "text": [
            "<class 'bytes'>\n",
            "b'hrello'\n"
          ],
          "name": "stdout"
        }
      ]
    },
    {
      "cell_type": "code",
      "metadata": {
        "colab": {
          "base_uri": "https://localhost:8080/"
        },
        "id": "1RrVv1c7wjWG",
        "outputId": "09a67665-47b1-4777-b81e-891238327db2"
      },
      "source": [
        "x=bytearray(5)\n",
        "print(x)"
      ],
      "execution_count": null,
      "outputs": [
        {
          "output_type": "stream",
          "text": [
            "bytearray(b'\\x00\\x00\\x00\\x00\\x00')\n"
          ],
          "name": "stdout"
        }
      ]
    },
    {
      "cell_type": "code",
      "metadata": {
        "id": "I6SIxiSIw5Ju"
      },
      "source": [
        "#python numbers\n",
        "x=1 #int\n",
        "y=6.9 #float\n",
        "z=6j #complex"
      ],
      "execution_count": null,
      "outputs": []
    },
    {
      "cell_type": "code",
      "metadata": {
        "colab": {
          "base_uri": "https://localhost:8080/"
        },
        "id": "O7I3gpbPxJuZ",
        "outputId": "8ecacecb-d2e4-48c6-bde3-2ee015f6237b"
      },
      "source": [
        "x"
      ],
      "execution_count": null,
      "outputs": [
        {
          "output_type": "execute_result",
          "data": {
            "text/plain": [
              "1"
            ]
          },
          "metadata": {
            "tags": []
          },
          "execution_count": 632
        }
      ]
    },
    {
      "cell_type": "code",
      "metadata": {
        "colab": {
          "base_uri": "https://localhost:8080/"
        },
        "id": "iTslGZAHxLC3",
        "outputId": "bd0d16e3-eecc-424e-fa1e-fcd8be05e4b0"
      },
      "source": [
        "y"
      ],
      "execution_count": null,
      "outputs": [
        {
          "output_type": "execute_result",
          "data": {
            "text/plain": [
              "6.9"
            ]
          },
          "metadata": {
            "tags": []
          },
          "execution_count": 633
        }
      ]
    },
    {
      "cell_type": "code",
      "metadata": {
        "colab": {
          "base_uri": "https://localhost:8080/"
        },
        "id": "p1Oc2-_SxRd6",
        "outputId": "9ab5af9a-9d4e-4de4-a873-f105e4b8a34e"
      },
      "source": [
        "print(z)\n",
        "print(type(z))"
      ],
      "execution_count": null,
      "outputs": [
        {
          "output_type": "stream",
          "text": [
            "6j\n",
            "<class 'complex'>\n"
          ],
          "name": "stdout"
        }
      ]
    },
    {
      "cell_type": "code",
      "metadata": {
        "colab": {
          "base_uri": "https://localhost:8080/"
        },
        "id": "oi7vjqkoxSYK",
        "outputId": "704c0a0e-67f2-47e7-b9fb-27bc6b36b9e3"
      },
      "source": [
        "x=int(8)\n",
        "y=int(9.8)\n",
        "z=int(\"3\")\n",
        "print(x)\n",
        "print(y)\n",
        "print(z)"
      ],
      "execution_count": null,
      "outputs": [
        {
          "output_type": "stream",
          "text": [
            "8\n",
            "9\n",
            "3\n"
          ],
          "name": "stdout"
        }
      ]
    },
    {
      "cell_type": "code",
      "metadata": {
        "colab": {
          "base_uri": "https://localhost:8080/"
        },
        "id": "galh7kF7x9Mt",
        "outputId": "b2a8fd74-6deb-4375-d5bf-dc0b0a96ce53"
      },
      "source": [
        "x=str(8)\n",
        "y=str(9.8)\n",
        "z=str(\"3\")\n",
        "print(x)\n",
        "print(y)\n",
        "print(z)\n",
        "print(type(x))\n",
        "print(type(y))\n",
        "print(type(z))"
      ],
      "execution_count": null,
      "outputs": [
        {
          "output_type": "stream",
          "text": [
            "8\n",
            "9.8\n",
            "3\n",
            "<class 'str'>\n",
            "<class 'str'>\n",
            "<class 'str'>\n"
          ],
          "name": "stdout"
        }
      ]
    },
    {
      "cell_type": "code",
      "metadata": {
        "colab": {
          "base_uri": "https://localhost:8080/"
        },
        "id": "1NuFnZ0EyRdc",
        "outputId": "51d09792-d0e5-4e3d-806f-7cdff30def64"
      },
      "source": [
        "a=\"\"\" aditya has a doubt,\n",
        "which is regarding scan,\n",
        "we need to adress,\n",
        "the topic.\"\"\"\n",
        "print(a)"
      ],
      "execution_count": null,
      "outputs": [
        {
          "output_type": "stream",
          "text": [
            " aditya has a doubt,\n",
            "which is regarding scan,\n",
            "we need to adress,\n",
            "the topic.\n"
          ],
          "name": "stdout"
        }
      ]
    },
    {
      "cell_type": "code",
      "metadata": {
        "colab": {
          "base_uri": "https://localhost:8080/"
        },
        "id": "Zua9eHDVzMbb",
        "outputId": "dea26737-03dc-4854-9ddb-bc7526477298"
      },
      "source": [
        "print(10>9)\n",
        "print(10==9)\n",
        "print(10<9)"
      ],
      "execution_count": null,
      "outputs": [
        {
          "output_type": "stream",
          "text": [
            "True\n",
            "False\n",
            "False\n"
          ],
          "name": "stdout"
        }
      ]
    },
    {
      "cell_type": "markdown",
      "metadata": {
        "id": "pMBQ1U6K1PdH"
      },
      "source": [
        "***python lists***"
      ]
    },
    {
      "cell_type": "code",
      "metadata": {
        "colab": {
          "base_uri": "https://localhost:8080/"
        },
        "id": "3H6-MGZ_zjks",
        "outputId": "93e3b3fd-8bd5-4209-aa4b-9960a0fc49f3"
      },
      "source": [
        "thisislist=['apple','banana','grapes']\n",
        "thisislist"
      ],
      "execution_count": null,
      "outputs": [
        {
          "output_type": "execute_result",
          "data": {
            "text/plain": [
              "['apple', 'banana', 'grapes']"
            ]
          },
          "metadata": {
            "tags": []
          },
          "execution_count": 639
        }
      ]
    },
    {
      "cell_type": "code",
      "metadata": {
        "colab": {
          "base_uri": "https://localhost:8080/"
        },
        "id": "hriCEiOf1eav",
        "outputId": "e090a824-8700-443c-b919-8ab267ca9664"
      },
      "source": [
        "type(thisislist)"
      ],
      "execution_count": null,
      "outputs": [
        {
          "output_type": "execute_result",
          "data": {
            "text/plain": [
              "list"
            ]
          },
          "metadata": {
            "tags": []
          },
          "execution_count": 640
        }
      ]
    },
    {
      "cell_type": "code",
      "metadata": {
        "colab": {
          "base_uri": "https://localhost:8080/"
        },
        "id": "4lNNMCN81lcz",
        "outputId": "8c6d43fc-9495-4360-bc4d-61ae1a4eff3d"
      },
      "source": [
        "thisislist=['apple','banana','grapes','apple1','banana1','grapes1']\n",
        "print(thisislist)"
      ],
      "execution_count": null,
      "outputs": [
        {
          "output_type": "stream",
          "text": [
            "['apple', 'banana', 'grapes', 'apple1', 'banana1', 'grapes1']\n"
          ],
          "name": "stdout"
        }
      ]
    },
    {
      "cell_type": "code",
      "metadata": {
        "colab": {
          "base_uri": "https://localhost:8080/"
        },
        "id": "d_DTouhI15Ih",
        "outputId": "0eb4a368-743c-427d-8c3f-4d263e4651d7"
      },
      "source": [
        "thisislist=['apple','banana','grapes','apple1','banana1','grapes1']\n",
        "print(thisislist[1])"
      ],
      "execution_count": null,
      "outputs": [
        {
          "output_type": "stream",
          "text": [
            "banana\n"
          ],
          "name": "stdout"
        }
      ]
    },
    {
      "cell_type": "code",
      "metadata": {
        "colab": {
          "base_uri": "https://localhost:8080/"
        },
        "id": "w7_FdFLX1_yj",
        "outputId": "0652e439-7cb9-44b5-8aa3-de0f5bc49f34"
      },
      "source": [
        "thisislist=['apple','banana','grapes','apple1','banana1','grapes1']\n",
        "print(thisislist[0:4])"
      ],
      "execution_count": null,
      "outputs": [
        {
          "output_type": "stream",
          "text": [
            "['apple', 'banana', 'grapes', 'apple1']\n"
          ],
          "name": "stdout"
        }
      ]
    },
    {
      "cell_type": "code",
      "metadata": {
        "colab": {
          "base_uri": "https://localhost:8080/"
        },
        "id": "acRJyE_q2LJo",
        "outputId": "239593c6-63d4-443d-e941-1147b3f62259"
      },
      "source": [
        "thisislist=['apple','banana','grapes','apple1','banana1','grapes1']\n",
        "print(thisislist[:4])"
      ],
      "execution_count": null,
      "outputs": [
        {
          "output_type": "stream",
          "text": [
            "['apple', 'banana', 'grapes', 'apple1']\n"
          ],
          "name": "stdout"
        }
      ]
    },
    {
      "cell_type": "code",
      "metadata": {
        "colab": {
          "base_uri": "https://localhost:8080/"
        },
        "id": "obfUFWx82gAF",
        "outputId": "11e6d480-d07d-4598-df17-1243bf787ff0"
      },
      "source": [
        "thisislist=['apple','banana','grapes','apple1','banana1','grapes1']\n",
        "print(thisislist[2:])"
      ],
      "execution_count": null,
      "outputs": [
        {
          "output_type": "stream",
          "text": [
            "['grapes', 'apple1', 'banana1', 'grapes1']\n"
          ],
          "name": "stdout"
        }
      ]
    },
    {
      "cell_type": "code",
      "metadata": {
        "colab": {
          "base_uri": "https://localhost:8080/"
        },
        "id": "2onCMRUV2imX",
        "outputId": "5449b4e6-be82-476a-9697-554a15586a4b"
      },
      "source": [
        "thisislist=['apple','banana','grapes','apple1','banana1','grapes1']\n",
        "thisislist[1]='bingo'\n",
        "print(thisislist)"
      ],
      "execution_count": null,
      "outputs": [
        {
          "output_type": "stream",
          "text": [
            "['apple', 'bingo', 'grapes', 'apple1', 'banana1', 'grapes1']\n"
          ],
          "name": "stdout"
        }
      ]
    },
    {
      "cell_type": "code",
      "metadata": {
        "colab": {
          "base_uri": "https://localhost:8080/"
        },
        "id": "cKGghBuH3Vd_",
        "outputId": "86f926da-1ad2-4835-d886-fc0e094f2949"
      },
      "source": [
        "thisislist=['apple','banana','grapes','apple1','banana1','grapes1']\n",
        "thisislist[1]=['bingo','mango']\n",
        "print(thisislist)"
      ],
      "execution_count": null,
      "outputs": [
        {
          "output_type": "stream",
          "text": [
            "['apple', ['bingo', 'mango'], 'grapes', 'apple1', 'banana1', 'grapes1']\n"
          ],
          "name": "stdout"
        }
      ]
    },
    {
      "cell_type": "code",
      "metadata": {
        "colab": {
          "base_uri": "https://localhost:8080/"
        },
        "id": "wRtuHVmw3kAL",
        "outputId": "d1952e73-a7b8-4358-b61b-dae385a074d6"
      },
      "source": [
        "thisislist=['apple','banana','grapes','apple1','banana1','grapes1']\n",
        "thisislist.append('orange')\n",
        "print(thisislist)"
      ],
      "execution_count": null,
      "outputs": [
        {
          "output_type": "stream",
          "text": [
            "['apple', 'banana', 'grapes', 'apple1', 'banana1', 'grapes1', 'orange']\n"
          ],
          "name": "stdout"
        }
      ]
    },
    {
      "cell_type": "code",
      "metadata": {
        "colab": {
          "base_uri": "https://localhost:8080/"
        },
        "id": "DuFRvu6H6Aj9",
        "outputId": "de8d33b1-3834-4c55-a10a-1381ff6ec06a"
      },
      "source": [
        "thisislist=['apple','banana','grapes','apple1','banana1','grapes1']\n",
        "thisislist.insert(2,'orange')\n",
        "print(thisislist)"
      ],
      "execution_count": null,
      "outputs": [
        {
          "output_type": "stream",
          "text": [
            "['apple', 'banana', 'orange', 'grapes', 'apple1', 'banana1', 'grapes1']\n"
          ],
          "name": "stdout"
        }
      ]
    },
    {
      "cell_type": "code",
      "metadata": {
        "colab": {
          "base_uri": "https://localhost:8080/"
        },
        "id": "jKs2lwpZ6TwN",
        "outputId": "357e8c5b-0def-4198-c3d2-453afc9722ea"
      },
      "source": [
        "thisislist=['apple','banana','grapes','apple1','banana1','grapes1']\n",
        "tropical=['mango','pineapple','papaya','mango1','pineapple1','papaya1']\n",
        "thisislist.extend(tropical)\n",
        "print(thisislist)"
      ],
      "execution_count": null,
      "outputs": [
        {
          "output_type": "stream",
          "text": [
            "['apple', 'banana', 'grapes', 'apple1', 'banana1', 'grapes1', 'mango', 'pineapple', 'papaya', 'mango1', 'pineapple1', 'papaya1']\n"
          ],
          "name": "stdout"
        }
      ]
    },
    {
      "cell_type": "code",
      "metadata": {
        "colab": {
          "base_uri": "https://localhost:8080/"
        },
        "id": "SlKT8UtR62kT",
        "outputId": "20fc48ff-3ffb-491c-d051-d8475861accd"
      },
      "source": [
        "thisislist=['apple','banana','grapes','apple1','banana1','grapes1']\n",
        "thisistuple=('mango','pineapple','papaya','mango1','pineapple1','papaya1')\n",
        "thisislist.extend(thisistuple)\n",
        "print(thisislist)"
      ],
      "execution_count": null,
      "outputs": [
        {
          "output_type": "stream",
          "text": [
            "['apple', 'banana', 'grapes', 'apple1', 'banana1', 'grapes1', 'mango', 'pineapple', 'papaya', 'mango1', 'pineapple1', 'papaya1']\n"
          ],
          "name": "stdout"
        }
      ]
    },
    {
      "cell_type": "code",
      "metadata": {
        "colab": {
          "base_uri": "https://localhost:8080/"
        },
        "id": "QpWFPfAH7W7_",
        "outputId": "6055fc7c-7d37-4c12-999a-c3787d86248b"
      },
      "source": [
        "thisislist=['apple','banana','grapes','apple1','banana1','grapes1']\n",
        "tropical=['mango','pineapple','papaya','mango1','pineapple1','papaya1']\n",
        "thisislist.remove('apple1')\n",
        "print(thisislist)"
      ],
      "execution_count": null,
      "outputs": [
        {
          "output_type": "stream",
          "text": [
            "['apple', 'banana', 'grapes', 'banana1', 'grapes1']\n"
          ],
          "name": "stdout"
        }
      ]
    },
    {
      "cell_type": "code",
      "metadata": {
        "colab": {
          "base_uri": "https://localhost:8080/"
        },
        "id": "vs1c9W-w7pYc",
        "outputId": "a5ae973f-7623-4631-f4b1-87c28ac54f6d"
      },
      "source": [
        "thisislist=['apple','banana','grapes','apple1','banana1','grapes1']\n",
        "tropical=['mango','pineapple','papaya','mango1','pineapple1','papaya1']\n",
        "thisislist.pop(0)\n",
        "print(thisislist)"
      ],
      "execution_count": null,
      "outputs": [
        {
          "output_type": "stream",
          "text": [
            "['banana', 'grapes', 'apple1', 'banana1', 'grapes1']\n"
          ],
          "name": "stdout"
        }
      ]
    },
    {
      "cell_type": "code",
      "metadata": {
        "id": "qzyosIsa8EtY"
      },
      "source": [
        "thisislist=['apple','banana','grapes','apple1','banana1','grapes1']\n",
        "tropical=['mango','pineapple','papaya','mango1','pineapple1','papaya1']\n",
        "del thisislist #thisislist gets deleted"
      ],
      "execution_count": null,
      "outputs": []
    },
    {
      "cell_type": "code",
      "metadata": {
        "colab": {
          "base_uri": "https://localhost:8080/"
        },
        "id": "h_P4aWHw8QjE",
        "outputId": "9d52f44d-79cc-487d-aef9-ad8201c2ea05"
      },
      "source": [
        "thisislist=['apple','banana','grapes','apple1','banana1','grapes1']\n",
        "tropical=['mango','pineapple','papaya','mango1','pineapple1','papaya1']\n",
        "thisislist.clear()\n",
        "print(thisislist)"
      ],
      "execution_count": null,
      "outputs": [
        {
          "output_type": "stream",
          "text": [
            "[]\n"
          ],
          "name": "stdout"
        }
      ]
    },
    {
      "cell_type": "markdown",
      "metadata": {
        "id": "brNaGBWm9QXN"
      },
      "source": [
        "loops through list"
      ]
    },
    {
      "cell_type": "code",
      "metadata": {
        "colab": {
          "base_uri": "https://localhost:8080/"
        },
        "id": "bnQehNL08tdb",
        "outputId": "1266af96-def8-4d83-a59a-92df69a7d4e7"
      },
      "source": [
        "thisislist=['apple','banana','grapes','apple1','banana1','grapes1']\n",
        "for x in thisislist:\n",
        "  print(x)"
      ],
      "execution_count": null,
      "outputs": [
        {
          "output_type": "stream",
          "text": [
            "apple\n",
            "banana\n",
            "grapes\n",
            "apple1\n",
            "banana1\n",
            "grapes1\n"
          ],
          "name": "stdout"
        }
      ]
    },
    {
      "cell_type": "code",
      "metadata": {
        "colab": {
          "base_uri": "https://localhost:8080/"
        },
        "id": "f9FSyreR9gmQ",
        "outputId": "1dfb8103-4207-42fa-ac89-ffd803e3379c"
      },
      "source": [
        "thisislist=['apple','banana','grapes','apple1','banana1','grapes1']\n",
        "i=0\n",
        "while i<len(thisislist):\n",
        " print(thisislist[i])\n",
        " i+=1"
      ],
      "execution_count": null,
      "outputs": [
        {
          "output_type": "stream",
          "text": [
            "apple\n",
            "banana\n",
            "grapes\n",
            "apple1\n",
            "banana1\n",
            "grapes1\n"
          ],
          "name": "stdout"
        }
      ]
    },
    {
      "cell_type": "code",
      "metadata": {
        "colab": {
          "base_uri": "https://localhost:8080/"
        },
        "id": "namElGka_GKf",
        "outputId": "531ab225-1f9c-4257-fa85-1378ce2d29dc"
      },
      "source": [
        "thislist=['apple','banana','cherry']\n",
        "[print (x) for x in thislist]"
      ],
      "execution_count": null,
      "outputs": [
        {
          "output_type": "stream",
          "text": [
            "apple\n",
            "banana\n",
            "cherry\n"
          ],
          "name": "stdout"
        },
        {
          "output_type": "execute_result",
          "data": {
            "text/plain": [
              "[None, None, None]"
            ]
          },
          "metadata": {
            "tags": []
          },
          "execution_count": 658
        }
      ]
    },
    {
      "cell_type": "code",
      "metadata": {
        "colab": {
          "base_uri": "https://localhost:8080/"
        },
        "id": "UP1n8RDW_zvU",
        "outputId": "1a069041-c4aa-425b-cd09-ad4059a1474f"
      },
      "source": [
        "fruits=['apple','banana','cherry','kiwi','mango']\n",
        "newlist=[]\n",
        "for x in fruits:\n",
        "    if 'a' in x:\n",
        "     newlist.append(x)\n",
        "print(newlist)\n"
      ],
      "execution_count": null,
      "outputs": [
        {
          "output_type": "stream",
          "text": [
            "['apple', 'banana', 'mango']\n"
          ],
          "name": "stdout"
        }
      ]
    },
    {
      "cell_type": "code",
      "metadata": {
        "colab": {
          "base_uri": "https://localhost:8080/"
        },
        "id": "arq6Dg2zBtyD",
        "outputId": "838adffb-b4f1-4963-9339-3b820f86a1cd"
      },
      "source": [
        "fruits=['apple','banana','cherry','kiwi','mango']\n",
        "newlist=[x for x in fruits if 'a' in x]\n",
        "print(newlist)"
      ],
      "execution_count": null,
      "outputs": [
        {
          "output_type": "stream",
          "text": [
            "['apple', 'banana', 'mango']\n"
          ],
          "name": "stdout"
        }
      ]
    },
    {
      "cell_type": "code",
      "metadata": {
        "id": "4nbSe5pvCe3R",
        "colab": {
          "base_uri": "https://localhost:8080/"
        },
        "outputId": "4e9bfc3c-5e8b-422c-d669-70203c380d55"
      },
      "source": [
        "fruits=['apple','banana','cherry','kiwi','mango']\n",
        "fruits.sort()\n",
        "print(fruits)"
      ],
      "execution_count": null,
      "outputs": [
        {
          "output_type": "stream",
          "text": [
            "['apple', 'banana', 'cherry', 'kiwi', 'mango']\n"
          ],
          "name": "stdout"
        }
      ]
    },
    {
      "cell_type": "code",
      "metadata": {
        "colab": {
          "base_uri": "https://localhost:8080/"
        },
        "id": "2D1Z5J0Y3_Nq",
        "outputId": "62f2de41-a35f-45a5-c9fc-443aa3214519"
      },
      "source": [
        "thislist=[\"orange\",\"mango\",\"kiwi\",\"pineapple\",\"banana\"]\n",
        "thislist.sort()\n",
        "print(thislist)"
      ],
      "execution_count": null,
      "outputs": [
        {
          "output_type": "stream",
          "text": [
            "['banana', 'kiwi', 'mango', 'orange', 'pineapple']\n"
          ],
          "name": "stdout"
        }
      ]
    },
    {
      "cell_type": "code",
      "metadata": {
        "colab": {
          "base_uri": "https://localhost:8080/"
        },
        "id": "KHsQd7Uj4jrJ",
        "outputId": "5f557bb5-5f12-4011-bb91-6cdab3c8aa43"
      },
      "source": [
        "thislist=[100,40,50,2,22,83,78]\n",
        "thislist.sort()\n",
        "print(thislist)"
      ],
      "execution_count": null,
      "outputs": [
        {
          "output_type": "stream",
          "text": [
            "[2, 22, 40, 50, 78, 83, 100]\n"
          ],
          "name": "stdout"
        }
      ]
    },
    {
      "cell_type": "code",
      "metadata": {
        "colab": {
          "base_uri": "https://localhost:8080/"
        },
        "id": "GoLJI8Er5JtI",
        "outputId": "970f0cd5-190b-4c4e-aa31-84293b2d9902"
      },
      "source": [
        "thislist=[\"orange\",\"mango\",\"kiwi\",\"pineapple\",\"banana\"]\n",
        "thislist.sort(reverse=True)\n",
        "print(thislist)"
      ],
      "execution_count": null,
      "outputs": [
        {
          "output_type": "stream",
          "text": [
            "['pineapple', 'orange', 'mango', 'kiwi', 'banana']\n"
          ],
          "name": "stdout"
        }
      ]
    },
    {
      "cell_type": "code",
      "metadata": {
        "colab": {
          "base_uri": "https://localhost:8080/"
        },
        "id": "CMBNPJsZ5VbG",
        "outputId": "b975a1b9-143e-42df-cde8-ec606d5d04fc"
      },
      "source": [
        "thislist=[100,40,50,2,22,83,78]\n",
        "thislist.sort(reverse=True)\n",
        "print(thislist)"
      ],
      "execution_count": null,
      "outputs": [
        {
          "output_type": "stream",
          "text": [
            "[100, 83, 78, 50, 40, 22, 2]\n"
          ],
          "name": "stdout"
        }
      ]
    },
    {
      "cell_type": "code",
      "metadata": {
        "colab": {
          "base_uri": "https://localhost:8080/"
        },
        "id": "lmZGRdxr5dlU",
        "outputId": "36b301cb-5a65-4ac6-9583-8397121a6882"
      },
      "source": [
        "thislist=[\"orange\",\"mango\",\"kiwi\",\"pineapple\",\"banana\"]\n",
        "newlist=thislist.copy()\n",
        "print(newlist)"
      ],
      "execution_count": null,
      "outputs": [
        {
          "output_type": "stream",
          "text": [
            "['orange', 'mango', 'kiwi', 'pineapple', 'banana']\n"
          ],
          "name": "stdout"
        }
      ]
    },
    {
      "cell_type": "code",
      "metadata": {
        "colab": {
          "base_uri": "https://localhost:8080/"
        },
        "id": "QVg-eddl5-Ew",
        "outputId": "24f743bd-7786-4a17-f4ab-68f4d9f747ec"
      },
      "source": [
        "thislist=[100,40,50,2,22,83,78]\n",
        "newlist=thislist.copy()\n",
        "print(newlist)"
      ],
      "execution_count": null,
      "outputs": [
        {
          "output_type": "stream",
          "text": [
            "[100, 40, 50, 2, 22, 83, 78]\n"
          ],
          "name": "stdout"
        }
      ]
    },
    {
      "cell_type": "code",
      "metadata": {
        "colab": {
          "base_uri": "https://localhost:8080/"
        },
        "id": "IdT6B4aQ6KC6",
        "outputId": "a3f96b58-f534-4e9f-ccad-da2d0a405ec2"
      },
      "source": [
        "thislist1=[\"orange\",\"mango\",\"kiwi\",\"pineapple\",\"banana\"]\n",
        "thislist2=[100,40,50,2,22,83,78]\n",
        "list3=thislist1+thislist2\n",
        "print(list3)"
      ],
      "execution_count": null,
      "outputs": [
        {
          "output_type": "stream",
          "text": [
            "['orange', 'mango', 'kiwi', 'pineapple', 'banana', 100, 40, 50, 2, 22, 83, 78]\n"
          ],
          "name": "stdout"
        }
      ]
    },
    {
      "cell_type": "code",
      "metadata": {
        "colab": {
          "base_uri": "https://localhost:8080/"
        },
        "id": "2Euh6qUN6c2u",
        "outputId": "911476a5-be4f-48b6-bbe5-20ff657f75c9"
      },
      "source": [
        "thislist1=[\"orange\",\"mango\",\"kiwi\",\"pineapple\",\"banana\"]\n",
        "thislist2=[100,40,50,2,22,83,78]\n",
        "for x in thislist2:\n",
        " thislist1.append(x)\n",
        "print(thislist1)"
      ],
      "execution_count": null,
      "outputs": [
        {
          "output_type": "stream",
          "text": [
            "['orange', 'mango', 'kiwi', 'pineapple', 'banana', 100, 40, 50, 2, 22, 83, 78]\n"
          ],
          "name": "stdout"
        }
      ]
    },
    {
      "cell_type": "code",
      "metadata": {
        "colab": {
          "base_uri": "https://localhost:8080/"
        },
        "id": "QuRnfR7B7Jfu",
        "outputId": "0ad23564-6e6b-473b-86e6-fbad4eb661a2"
      },
      "source": [
        "thislist1=[\"orange\",\"mango\",\"kiwi\",\"pineapple\",\"banana\"]\n",
        "thislist2=[100,40,50,2,22,83,78]\n",
        "thislist1.extend(thislist2)\n",
        "print(thislist1)"
      ],
      "execution_count": null,
      "outputs": [
        {
          "output_type": "stream",
          "text": [
            "['orange', 'mango', 'kiwi', 'pineapple', 'banana', 100, 40, 50, 2, 22, 83, 78]\n"
          ],
          "name": "stdout"
        }
      ]
    },
    {
      "cell_type": "code",
      "metadata": {
        "colab": {
          "base_uri": "https://localhost:8080/"
        },
        "id": "lXhT63Px7jOz",
        "outputId": "71a54905-6f3c-4b1a-f4f3-da3df32f16ef"
      },
      "source": [
        "l=['k','a','r','u','n']\n",
        "p=['n','a','y','a','r']\n",
        "for x in p:\n",
        "  l.append(x)\n",
        "print(l)"
      ],
      "execution_count": null,
      "outputs": [
        {
          "output_type": "stream",
          "text": [
            "['k', 'a', 'r', 'u', 'n', 'n', 'a', 'y', 'a', 'r']\n"
          ],
          "name": "stdout"
        }
      ]
    },
    {
      "cell_type": "code",
      "metadata": {
        "colab": {
          "base_uri": "https://localhost:8080/"
        },
        "id": "Xmvi92Z179eR",
        "outputId": "1b3a9c8c-b807-4526-bc09-922f937e9f96"
      },
      "source": [
        "l=['k','a','r','u','n']\n",
        "p=['n','a','y','a','r']\n",
        "l.extend(p)\n",
        "print(l)"
      ],
      "execution_count": null,
      "outputs": [
        {
          "output_type": "stream",
          "text": [
            "['k', 'a', 'r', 'u', 'n', 'n', 'a', 'y', 'a', 'r']\n"
          ],
          "name": "stdout"
        }
      ]
    },
    {
      "cell_type": "code",
      "metadata": {
        "colab": {
          "base_uri": "https://localhost:8080/"
        },
        "id": "qSYC-nkj8bEl",
        "outputId": "08b5fb89-7d19-4507-c659-f3dad71faa21"
      },
      "source": [
        "l=['k','a','r','u','n']\n",
        "p=['n','a','y','a','r']\n",
        "o=l+p\n",
        "print(o)"
      ],
      "execution_count": null,
      "outputs": [
        {
          "output_type": "stream",
          "text": [
            "['k', 'a', 'r', 'u', 'n', 'n', 'a', 'y', 'a', 'r']\n"
          ],
          "name": "stdout"
        }
      ]
    },
    {
      "cell_type": "markdown",
      "metadata": {
        "id": "_u4MiwOO8x1T"
      },
      "source": [
        "python has set of boilt in methods like:\n",
        "append(),clear(),copy(),count(),extend(),index(),insert(),pop(),remove(),sort()"
      ]
    },
    {
      "cell_type": "code",
      "metadata": {
        "colab": {
          "base_uri": "https://localhost:8080/"
        },
        "id": "fLKjw3UT8i_I",
        "outputId": "d5ad953e-921c-4bc0-b65c-0a9cad8f5cc7"
      },
      "source": [
        "l=['k','a','r','u','n']\n",
        "print(l)"
      ],
      "execution_count": null,
      "outputs": [
        {
          "output_type": "stream",
          "text": [
            "['k', 'a', 'r', 'u', 'n']\n"
          ],
          "name": "stdout"
        }
      ]
    },
    {
      "cell_type": "markdown",
      "metadata": {
        "id": "bnxukcJT943g"
      },
      "source": [
        "python--tuple:\n",
        "are used to store multiple items in a single variable\n"
      ]
    },
    {
      "cell_type": "markdown",
      "metadata": {
        "id": "-mrO4bxN-OQu"
      },
      "source": [
        "list-tuple:tuple is unchangable unlike list, tuple is created by using parantheses"
      ]
    },
    {
      "cell_type": "code",
      "metadata": {
        "colab": {
          "base_uri": "https://localhost:8080/"
        },
        "id": "WGgNaDT39mQ3",
        "outputId": "5e91221a-67c1-4036-8009-c3f58c09e0b2"
      },
      "source": [
        "thisistuple=('cherry','banana','apple')\n",
        "print(thisistuple)"
      ],
      "execution_count": null,
      "outputs": [
        {
          "output_type": "stream",
          "text": [
            "('cherry', 'banana', 'apple')\n"
          ],
          "name": "stdout"
        }
      ]
    },
    {
      "cell_type": "code",
      "metadata": {
        "colab": {
          "base_uri": "https://localhost:8080/"
        },
        "id": "7OqAmN-G-u-e",
        "outputId": "5ed6555a-a83a-43a4-ffcd-3659a98c3de1"
      },
      "source": [
        "thisistuple=('cherry','banana','apple','cherry','banana','apple')\n",
        "print(thisistuple)"
      ],
      "execution_count": null,
      "outputs": [
        {
          "output_type": "stream",
          "text": [
            "('cherry', 'banana', 'apple', 'cherry', 'banana', 'apple')\n"
          ],
          "name": "stdout"
        }
      ]
    },
    {
      "cell_type": "code",
      "metadata": {
        "colab": {
          "base_uri": "https://localhost:8080/"
        },
        "id": "sEeCdv2m-4uB",
        "outputId": "553d52ef-836c-4c8c-bd7a-816f05118af8"
      },
      "source": [
        "thisistuple=('cherry','banana','apple','cherry','banana','apple')\n",
        "print(len(thisistuple))"
      ],
      "execution_count": null,
      "outputs": [
        {
          "output_type": "stream",
          "text": [
            "6\n"
          ],
          "name": "stdout"
        }
      ]
    },
    {
      "cell_type": "code",
      "metadata": {
        "colab": {
          "base_uri": "https://localhost:8080/"
        },
        "id": "jSMW0lzS_ArG",
        "outputId": "5c3bba23-394f-427a-9daa-623e1a3b5c96"
      },
      "source": [
        "tuple1=(\"orange\",\"mango\",\"kiwi\",\"pineapple\",\"banana\")\n",
        "tuple2=(100,40,50,2,22,83,78)\n",
        "tuple3=(True,False,False)\n",
        "print(tuple1)\n",
        "print(tuple2)\n",
        "print(tuple3)"
      ],
      "execution_count": null,
      "outputs": [
        {
          "output_type": "stream",
          "text": [
            "('orange', 'mango', 'kiwi', 'pineapple', 'banana')\n",
            "(100, 40, 50, 2, 22, 83, 78)\n",
            "(True, False, False)\n"
          ],
          "name": "stdout"
        }
      ]
    },
    {
      "cell_type": "code",
      "metadata": {
        "colab": {
          "base_uri": "https://localhost:8080/"
        },
        "id": "PjtyX_MZ_p5n",
        "outputId": "58ecf9fc-5535-43f3-e6d9-7ba9b9b23db6"
      },
      "source": [
        "tuple1=(\"orange\",3,True,\"pineapple\",\"banana\")\n",
        "tuple2=(100,40,50,2,22,83,78)\n",
        "tuple3=(True,False,False)\n",
        "print(tuple1)\n",
        "print(type(tuple1))\n"
      ],
      "execution_count": null,
      "outputs": [
        {
          "output_type": "stream",
          "text": [
            "('orange', 3, True, 'pineapple', 'banana')\n",
            "<class 'tuple'>\n"
          ],
          "name": "stdout"
        }
      ]
    },
    {
      "cell_type": "markdown",
      "metadata": {
        "id": "y1me-W_SAUuh"
      },
      "source": [
        "python collections/arrays: 4 types--list,tuple,set,dictionary"
      ]
    },
    {
      "cell_type": "markdown",
      "metadata": {
        "id": "Jm6a5dENAoGl"
      },
      "source": [
        "set is unordered and unindexed-no duplicate members are allowed"
      ]
    },
    {
      "cell_type": "markdown",
      "metadata": {
        "id": "8S9pMf32Ax5R"
      },
      "source": [
        "dictionary is unordered and changable-no duplicate members"
      ]
    },
    {
      "cell_type": "code",
      "metadata": {
        "colab": {
          "base_uri": "https://localhost:8080/"
        },
        "id": "jBZpBtKN_6Hr",
        "outputId": "9fce224b-7d05-4d98-b18a-da3caa70f3e9"
      },
      "source": [
        "tuple1=(\"orange\",3,True,\"pineapple\",\"banana\")\n",
        "print(tuple1[1])"
      ],
      "execution_count": null,
      "outputs": [
        {
          "output_type": "stream",
          "text": [
            "3\n"
          ],
          "name": "stdout"
        }
      ]
    },
    {
      "cell_type": "code",
      "metadata": {
        "colab": {
          "base_uri": "https://localhost:8080/"
        },
        "id": "pBXVYa6XBFrd",
        "outputId": "b7b58ab6-017e-47ff-a115-4468f224db47"
      },
      "source": [
        "tuple1=(\"orange\",3,True,\"pineapple\",\"banana\")\n",
        "print(tuple1[-2])"
      ],
      "execution_count": null,
      "outputs": [
        {
          "output_type": "stream",
          "text": [
            "pineapple\n"
          ],
          "name": "stdout"
        }
      ]
    },
    {
      "cell_type": "code",
      "metadata": {
        "colab": {
          "base_uri": "https://localhost:8080/"
        },
        "id": "yPWLUNkaBd92",
        "outputId": "c13bce7e-18ad-459d-d93c-cd4ef14edd2c"
      },
      "source": [
        "tuple1=(\"orange\",3,True,\"pineapple\",\"banana\")\n",
        "print(tuple1[:4])"
      ],
      "execution_count": null,
      "outputs": [
        {
          "output_type": "stream",
          "text": [
            "('orange', 3, True, 'pineapple')\n"
          ],
          "name": "stdout"
        }
      ]
    },
    {
      "cell_type": "code",
      "metadata": {
        "colab": {
          "base_uri": "https://localhost:8080/"
        },
        "id": "c2NKRGTRBtKu",
        "outputId": "ed722e9a-22bf-4ab5-c79a-eb965cf42ba5"
      },
      "source": [
        "tuple1=(\"orange\",3,True,\"pineapple\",\"banana\")\n",
        "print(tuple1[1:7])"
      ],
      "execution_count": null,
      "outputs": [
        {
          "output_type": "stream",
          "text": [
            "(3, True, 'pineapple', 'banana')\n"
          ],
          "name": "stdout"
        }
      ]
    },
    {
      "cell_type": "code",
      "metadata": {
        "colab": {
          "base_uri": "https://localhost:8080/"
        },
        "id": "IbC0Pq68B7il",
        "outputId": "8087cdf8-f629-472b-aa7f-e3008446cd9c"
      },
      "source": [
        "x=('apple','banana','cherry')\n",
        "y=list(x)\n",
        "y[1]='kiwi'\n",
        "x=tuple(y)\n",
        "print(x)"
      ],
      "execution_count": null,
      "outputs": [
        {
          "output_type": "stream",
          "text": [
            "('apple', 'kiwi', 'cherry')\n"
          ],
          "name": "stdout"
        }
      ]
    },
    {
      "cell_type": "code",
      "metadata": {
        "colab": {
          "base_uri": "https://localhost:8080/"
        },
        "id": "O3xtq7KlCV2l",
        "outputId": "e005d36a-ca26-4217-fc77-2ded245939e4"
      },
      "source": [
        "tuple1=(\"orange\",3,True,\"pineapple\",\"banana\")\n",
        "y=list(tuple1)\n",
        "y.append('apple')\n",
        "tuple1=tuple(y)\n",
        "print(tuple1)"
      ],
      "execution_count": null,
      "outputs": [
        {
          "output_type": "stream",
          "text": [
            "('orange', 3, True, 'pineapple', 'banana', 'apple')\n"
          ],
          "name": "stdout"
        }
      ]
    },
    {
      "cell_type": "code",
      "metadata": {
        "colab": {
          "base_uri": "https://localhost:8080/"
        },
        "id": "dx0uYVvDC8Il",
        "outputId": "cc78ae26-6c3a-4d66-b37c-2774c5317ba4"
      },
      "source": [
        "tuple1=(\"orange\",3,True,\"pineapple\",\"banana\")\n",
        "y=list(tuple1)\n",
        "y.remove('banana')\n",
        "tuple1=tuple(y)\n",
        "print(tuple1)"
      ],
      "execution_count": null,
      "outputs": [
        {
          "output_type": "stream",
          "text": [
            "('orange', 3, True, 'pineapple')\n"
          ],
          "name": "stdout"
        }
      ]
    },
    {
      "cell_type": "code",
      "metadata": {
        "colab": {
          "base_uri": "https://localhost:8080/"
        },
        "id": "DLRv4I-XEQBt",
        "outputId": "be1a673b-67d1-4542-e4ad-f0c1cb5ccba9"
      },
      "source": [
        "colours=(\"orange\",\"pineapple\",\"banana\")\n",
        "(green,yellow,red)=colours\n",
        "print(green)\n",
        "print(yellow)\n",
        "print(red)"
      ],
      "execution_count": null,
      "outputs": [
        {
          "output_type": "stream",
          "text": [
            "orange\n",
            "pineapple\n",
            "banana\n"
          ],
          "name": "stdout"
        }
      ]
    },
    {
      "cell_type": "code",
      "metadata": {
        "colab": {
          "base_uri": "https://localhost:8080/"
        },
        "id": "gVn0-HbNFRhQ",
        "outputId": "071c338b-cc97-487d-f53a-220285a77ba0"
      },
      "source": [
        "colours=(\"orange\",\"pineapple\",\"banana\",\"cherry\",\"mango\")\n",
        "(green,yellow,*red)=colours\n",
        "print(green)\n",
        "print(yellow)\n",
        "print(red)"
      ],
      "execution_count": null,
      "outputs": [
        {
          "output_type": "stream",
          "text": [
            "orange\n",
            "pineapple\n",
            "['banana', 'cherry', 'mango']\n"
          ],
          "name": "stdout"
        }
      ]
    },
    {
      "cell_type": "code",
      "metadata": {
        "colab": {
          "base_uri": "https://localhost:8080/"
        },
        "id": "32PyuOkvF034",
        "outputId": "ff75152c-51eb-461d-b052-50b6fbe07fe3"
      },
      "source": [
        "colours=(\"orange\",\"pineapple\",\"banana\",\"cherry\",\"mango\")\n",
        "(green,*yellow,red)=colours\n",
        "print(green)\n",
        "print(yellow)\n",
        "print(red)"
      ],
      "execution_count": null,
      "outputs": [
        {
          "output_type": "stream",
          "text": [
            "orange\n",
            "['pineapple', 'banana', 'cherry']\n",
            "mango\n"
          ],
          "name": "stdout"
        }
      ]
    },
    {
      "cell_type": "code",
      "metadata": {
        "colab": {
          "base_uri": "https://localhost:8080/"
        },
        "id": "2wLbs0eMGZRn",
        "outputId": "692ef918-68bc-43af-ce50-5b863dbc77ea"
      },
      "source": [
        "colours=(\"orange\",\"pineapple\",\"banana\",\"cherry\",\"mango\")\n",
        "for x in colours:\n",
        "  print(x)"
      ],
      "execution_count": null,
      "outputs": [
        {
          "output_type": "stream",
          "text": [
            "orange\n",
            "pineapple\n",
            "banana\n",
            "cherry\n",
            "mango\n"
          ],
          "name": "stdout"
        }
      ]
    },
    {
      "cell_type": "code",
      "metadata": {
        "colab": {
          "base_uri": "https://localhost:8080/"
        },
        "id": "5NCksfjJG7Xj",
        "outputId": "3113bd94-e7b6-4614-c764-e9e4c1cadc10"
      },
      "source": [
        "colours=(\"orange\",\"pineapple\",\"banana\",\"cherry\",\"mango\")\n",
        "for i in range(len(colours)):\n",
        "  print(colours[i])"
      ],
      "execution_count": null,
      "outputs": [
        {
          "output_type": "stream",
          "text": [
            "orange\n",
            "pineapple\n",
            "banana\n",
            "cherry\n",
            "mango\n"
          ],
          "name": "stdout"
        }
      ]
    },
    {
      "cell_type": "code",
      "metadata": {
        "id": "012-BulWHTFj"
      },
      "source": [
        "#concatenatioin, merge and joining dataframes in pandas"
      ],
      "execution_count": null,
      "outputs": []
    },
    {
      "cell_type": "markdown",
      "metadata": {
        "id": "QzmkhEZraxWy"
      },
      "source": [
        "let us understand concatenetion"
      ]
    },
    {
      "cell_type": "code",
      "metadata": {
        "colab": {
          "base_uri": "https://localhost:8080/"
        },
        "id": "U2SWEU2Sat5m",
        "outputId": "bc932ab7-1e79-4d99-ae4d-45f6c35919db"
      },
      "source": [
        "import pandas as pd\n",
        "df1=pd.DataFrame({'item':['a','b','c','d'],'value':[1,2,3,5]})\n",
        "df2=pd.DataFrame({'item':['e','f','g','h'],'value':[5,6,7,8]})\n",
        "print(df1)\n",
        "print(df2)"
      ],
      "execution_count": null,
      "outputs": [
        {
          "output_type": "stream",
          "text": [
            "  item  value\n",
            "0    a      1\n",
            "1    b      2\n",
            "2    c      3\n",
            "3    d      5\n",
            "  item  value\n",
            "0    e      5\n",
            "1    f      6\n",
            "2    g      7\n",
            "3    h      8\n"
          ],
          "name": "stdout"
        }
      ]
    },
    {
      "cell_type": "code",
      "metadata": {
        "colab": {
          "base_uri": "https://localhost:8080/",
          "height": 173
        },
        "id": "kYjvRJG4d6fQ",
        "outputId": "0a6d0777-316b-4ed2-b4c8-b36f16478ec2"
      },
      "source": [
        "df1"
      ],
      "execution_count": null,
      "outputs": [
        {
          "output_type": "execute_result",
          "data": {
            "text/html": [
              "<div>\n",
              "<style scoped>\n",
              "    .dataframe tbody tr th:only-of-type {\n",
              "        vertical-align: middle;\n",
              "    }\n",
              "\n",
              "    .dataframe tbody tr th {\n",
              "        vertical-align: top;\n",
              "    }\n",
              "\n",
              "    .dataframe thead th {\n",
              "        text-align: right;\n",
              "    }\n",
              "</style>\n",
              "<table border=\"1\" class=\"dataframe\">\n",
              "  <thead>\n",
              "    <tr style=\"text-align: right;\">\n",
              "      <th></th>\n",
              "      <th>item</th>\n",
              "      <th>value</th>\n",
              "    </tr>\n",
              "  </thead>\n",
              "  <tbody>\n",
              "    <tr>\n",
              "      <th>0</th>\n",
              "      <td>a</td>\n",
              "      <td>1</td>\n",
              "    </tr>\n",
              "    <tr>\n",
              "      <th>1</th>\n",
              "      <td>b</td>\n",
              "      <td>2</td>\n",
              "    </tr>\n",
              "    <tr>\n",
              "      <th>2</th>\n",
              "      <td>c</td>\n",
              "      <td>3</td>\n",
              "    </tr>\n",
              "    <tr>\n",
              "      <th>3</th>\n",
              "      <td>d</td>\n",
              "      <td>5</td>\n",
              "    </tr>\n",
              "  </tbody>\n",
              "</table>\n",
              "</div>"
            ],
            "text/plain": [
              "  item  value\n",
              "0    a      1\n",
              "1    b      2\n",
              "2    c      3\n",
              "3    d      5"
            ]
          },
          "metadata": {
            "tags": []
          },
          "execution_count": 694
        }
      ]
    },
    {
      "cell_type": "code",
      "metadata": {
        "colab": {
          "base_uri": "https://localhost:8080/",
          "height": 173
        },
        "id": "YnX4cSfTeEJS",
        "outputId": "574c6f05-bcc0-46eb-914d-1b3333554bdc"
      },
      "source": [
        "df2"
      ],
      "execution_count": null,
      "outputs": [
        {
          "output_type": "execute_result",
          "data": {
            "text/html": [
              "<div>\n",
              "<style scoped>\n",
              "    .dataframe tbody tr th:only-of-type {\n",
              "        vertical-align: middle;\n",
              "    }\n",
              "\n",
              "    .dataframe tbody tr th {\n",
              "        vertical-align: top;\n",
              "    }\n",
              "\n",
              "    .dataframe thead th {\n",
              "        text-align: right;\n",
              "    }\n",
              "</style>\n",
              "<table border=\"1\" class=\"dataframe\">\n",
              "  <thead>\n",
              "    <tr style=\"text-align: right;\">\n",
              "      <th></th>\n",
              "      <th>item</th>\n",
              "      <th>value</th>\n",
              "    </tr>\n",
              "  </thead>\n",
              "  <tbody>\n",
              "    <tr>\n",
              "      <th>0</th>\n",
              "      <td>e</td>\n",
              "      <td>5</td>\n",
              "    </tr>\n",
              "    <tr>\n",
              "      <th>1</th>\n",
              "      <td>f</td>\n",
              "      <td>6</td>\n",
              "    </tr>\n",
              "    <tr>\n",
              "      <th>2</th>\n",
              "      <td>g</td>\n",
              "      <td>7</td>\n",
              "    </tr>\n",
              "    <tr>\n",
              "      <th>3</th>\n",
              "      <td>h</td>\n",
              "      <td>8</td>\n",
              "    </tr>\n",
              "  </tbody>\n",
              "</table>\n",
              "</div>"
            ],
            "text/plain": [
              "  item  value\n",
              "0    e      5\n",
              "1    f      6\n",
              "2    g      7\n",
              "3    h      8"
            ]
          },
          "metadata": {
            "tags": []
          },
          "execution_count": 695
        }
      ]
    },
    {
      "cell_type": "code",
      "metadata": {
        "colab": {
          "base_uri": "https://localhost:8080/",
          "height": 297
        },
        "id": "wwTdL3G-eE7n",
        "outputId": "6f2e48f3-c76b-41ef-d734-af052b67c079"
      },
      "source": [
        "pd.concat([df1,df2])"
      ],
      "execution_count": null,
      "outputs": [
        {
          "output_type": "execute_result",
          "data": {
            "text/html": [
              "<div>\n",
              "<style scoped>\n",
              "    .dataframe tbody tr th:only-of-type {\n",
              "        vertical-align: middle;\n",
              "    }\n",
              "\n",
              "    .dataframe tbody tr th {\n",
              "        vertical-align: top;\n",
              "    }\n",
              "\n",
              "    .dataframe thead th {\n",
              "        text-align: right;\n",
              "    }\n",
              "</style>\n",
              "<table border=\"1\" class=\"dataframe\">\n",
              "  <thead>\n",
              "    <tr style=\"text-align: right;\">\n",
              "      <th></th>\n",
              "      <th>item</th>\n",
              "      <th>value</th>\n",
              "    </tr>\n",
              "  </thead>\n",
              "  <tbody>\n",
              "    <tr>\n",
              "      <th>0</th>\n",
              "      <td>a</td>\n",
              "      <td>1</td>\n",
              "    </tr>\n",
              "    <tr>\n",
              "      <th>1</th>\n",
              "      <td>b</td>\n",
              "      <td>2</td>\n",
              "    </tr>\n",
              "    <tr>\n",
              "      <th>2</th>\n",
              "      <td>c</td>\n",
              "      <td>3</td>\n",
              "    </tr>\n",
              "    <tr>\n",
              "      <th>3</th>\n",
              "      <td>d</td>\n",
              "      <td>5</td>\n",
              "    </tr>\n",
              "    <tr>\n",
              "      <th>0</th>\n",
              "      <td>e</td>\n",
              "      <td>5</td>\n",
              "    </tr>\n",
              "    <tr>\n",
              "      <th>1</th>\n",
              "      <td>f</td>\n",
              "      <td>6</td>\n",
              "    </tr>\n",
              "    <tr>\n",
              "      <th>2</th>\n",
              "      <td>g</td>\n",
              "      <td>7</td>\n",
              "    </tr>\n",
              "    <tr>\n",
              "      <th>3</th>\n",
              "      <td>h</td>\n",
              "      <td>8</td>\n",
              "    </tr>\n",
              "  </tbody>\n",
              "</table>\n",
              "</div>"
            ],
            "text/plain": [
              "  item  value\n",
              "0    a      1\n",
              "1    b      2\n",
              "2    c      3\n",
              "3    d      5\n",
              "0    e      5\n",
              "1    f      6\n",
              "2    g      7\n",
              "3    h      8"
            ]
          },
          "metadata": {
            "tags": []
          },
          "execution_count": 696
        }
      ]
    },
    {
      "cell_type": "code",
      "metadata": {
        "colab": {
          "base_uri": "https://localhost:8080/"
        },
        "id": "X9IJQX7DebMH",
        "outputId": "0a654c09-ba14-4a74-c6e3-66aab113c90c"
      },
      "source": [
        "import pandas as pd\n",
        "df1=pd.DataFrame({'item':['a','b','c','d'],'value':[1,2,3,5]})\n",
        "df2=pd.DataFrame({'item':['e','f','g','h'],'value':[6,7,8,9]})\n",
        "print(df1)\n",
        "print(df2)"
      ],
      "execution_count": null,
      "outputs": [
        {
          "output_type": "stream",
          "text": [
            "  item  value\n",
            "0    a      1\n",
            "1    b      2\n",
            "2    c      3\n",
            "3    d      5\n",
            "  item  value\n",
            "0    e      6\n",
            "1    f      7\n",
            "2    g      8\n",
            "3    h      9\n"
          ],
          "name": "stdout"
        }
      ]
    },
    {
      "cell_type": "code",
      "metadata": {
        "colab": {
          "base_uri": "https://localhost:8080/",
          "height": 297
        },
        "id": "d2nCiZqDerzO",
        "outputId": "d6bdad11-c0bd-4a0d-8347-1be995b05029"
      },
      "source": [
        "pd.concat([df1,df2])"
      ],
      "execution_count": null,
      "outputs": [
        {
          "output_type": "execute_result",
          "data": {
            "text/html": [
              "<div>\n",
              "<style scoped>\n",
              "    .dataframe tbody tr th:only-of-type {\n",
              "        vertical-align: middle;\n",
              "    }\n",
              "\n",
              "    .dataframe tbody tr th {\n",
              "        vertical-align: top;\n",
              "    }\n",
              "\n",
              "    .dataframe thead th {\n",
              "        text-align: right;\n",
              "    }\n",
              "</style>\n",
              "<table border=\"1\" class=\"dataframe\">\n",
              "  <thead>\n",
              "    <tr style=\"text-align: right;\">\n",
              "      <th></th>\n",
              "      <th>item</th>\n",
              "      <th>value</th>\n",
              "    </tr>\n",
              "  </thead>\n",
              "  <tbody>\n",
              "    <tr>\n",
              "      <th>0</th>\n",
              "      <td>a</td>\n",
              "      <td>1</td>\n",
              "    </tr>\n",
              "    <tr>\n",
              "      <th>1</th>\n",
              "      <td>b</td>\n",
              "      <td>2</td>\n",
              "    </tr>\n",
              "    <tr>\n",
              "      <th>2</th>\n",
              "      <td>c</td>\n",
              "      <td>3</td>\n",
              "    </tr>\n",
              "    <tr>\n",
              "      <th>3</th>\n",
              "      <td>d</td>\n",
              "      <td>5</td>\n",
              "    </tr>\n",
              "    <tr>\n",
              "      <th>0</th>\n",
              "      <td>e</td>\n",
              "      <td>6</td>\n",
              "    </tr>\n",
              "    <tr>\n",
              "      <th>1</th>\n",
              "      <td>f</td>\n",
              "      <td>7</td>\n",
              "    </tr>\n",
              "    <tr>\n",
              "      <th>2</th>\n",
              "      <td>g</td>\n",
              "      <td>8</td>\n",
              "    </tr>\n",
              "    <tr>\n",
              "      <th>3</th>\n",
              "      <td>h</td>\n",
              "      <td>9</td>\n",
              "    </tr>\n",
              "  </tbody>\n",
              "</table>\n",
              "</div>"
            ],
            "text/plain": [
              "  item  value\n",
              "0    a      1\n",
              "1    b      2\n",
              "2    c      3\n",
              "3    d      5\n",
              "0    e      6\n",
              "1    f      7\n",
              "2    g      8\n",
              "3    h      9"
            ]
          },
          "metadata": {
            "tags": []
          },
          "execution_count": 698
        }
      ]
    },
    {
      "cell_type": "code",
      "metadata": {
        "colab": {
          "base_uri": "https://localhost:8080/",
          "height": 297
        },
        "id": "5ZszfFgmewLE",
        "outputId": "351ae086-e306-4bb5-a443-1c6e4de6a389"
      },
      "source": [
        "df1=pd.DataFrame({'item':['a','b','c','d'],'value':[1,2,3,5]})\n",
        "df2=pd.DataFrame({'item':['e','f','g','h'],'quantity':[5,6,7,8]})\n",
        "pd.concat([df1,df2])"
      ],
      "execution_count": null,
      "outputs": [
        {
          "output_type": "execute_result",
          "data": {
            "text/html": [
              "<div>\n",
              "<style scoped>\n",
              "    .dataframe tbody tr th:only-of-type {\n",
              "        vertical-align: middle;\n",
              "    }\n",
              "\n",
              "    .dataframe tbody tr th {\n",
              "        vertical-align: top;\n",
              "    }\n",
              "\n",
              "    .dataframe thead th {\n",
              "        text-align: right;\n",
              "    }\n",
              "</style>\n",
              "<table border=\"1\" class=\"dataframe\">\n",
              "  <thead>\n",
              "    <tr style=\"text-align: right;\">\n",
              "      <th></th>\n",
              "      <th>item</th>\n",
              "      <th>value</th>\n",
              "      <th>quantity</th>\n",
              "    </tr>\n",
              "  </thead>\n",
              "  <tbody>\n",
              "    <tr>\n",
              "      <th>0</th>\n",
              "      <td>a</td>\n",
              "      <td>1.0</td>\n",
              "      <td>NaN</td>\n",
              "    </tr>\n",
              "    <tr>\n",
              "      <th>1</th>\n",
              "      <td>b</td>\n",
              "      <td>2.0</td>\n",
              "      <td>NaN</td>\n",
              "    </tr>\n",
              "    <tr>\n",
              "      <th>2</th>\n",
              "      <td>c</td>\n",
              "      <td>3.0</td>\n",
              "      <td>NaN</td>\n",
              "    </tr>\n",
              "    <tr>\n",
              "      <th>3</th>\n",
              "      <td>d</td>\n",
              "      <td>5.0</td>\n",
              "      <td>NaN</td>\n",
              "    </tr>\n",
              "    <tr>\n",
              "      <th>0</th>\n",
              "      <td>e</td>\n",
              "      <td>NaN</td>\n",
              "      <td>5.0</td>\n",
              "    </tr>\n",
              "    <tr>\n",
              "      <th>1</th>\n",
              "      <td>f</td>\n",
              "      <td>NaN</td>\n",
              "      <td>6.0</td>\n",
              "    </tr>\n",
              "    <tr>\n",
              "      <th>2</th>\n",
              "      <td>g</td>\n",
              "      <td>NaN</td>\n",
              "      <td>7.0</td>\n",
              "    </tr>\n",
              "    <tr>\n",
              "      <th>3</th>\n",
              "      <td>h</td>\n",
              "      <td>NaN</td>\n",
              "      <td>8.0</td>\n",
              "    </tr>\n",
              "  </tbody>\n",
              "</table>\n",
              "</div>"
            ],
            "text/plain": [
              "  item  value  quantity\n",
              "0    a    1.0       NaN\n",
              "1    b    2.0       NaN\n",
              "2    c    3.0       NaN\n",
              "3    d    5.0       NaN\n",
              "0    e    NaN       5.0\n",
              "1    f    NaN       6.0\n",
              "2    g    NaN       7.0\n",
              "3    h    NaN       8.0"
            ]
          },
          "metadata": {
            "tags": []
          },
          "execution_count": 699
        }
      ]
    },
    {
      "cell_type": "code",
      "metadata": {
        "colab": {
          "base_uri": "https://localhost:8080/",
          "height": 297
        },
        "id": "1eNFnQEgfiWg",
        "outputId": "40dd71d6-bd58-4cea-9295-0015f776ead5"
      },
      "source": [
        "df1=pd.DataFrame({'item':['a','b','c','d'],'value':[1,2,3,5]})\n",
        "df2=pd.DataFrame({'item':['e','f','g','h'],'quantity':[5,6,7,8]})\n",
        "pd.concat([df1,df2]).reset_index()"
      ],
      "execution_count": null,
      "outputs": [
        {
          "output_type": "execute_result",
          "data": {
            "text/html": [
              "<div>\n",
              "<style scoped>\n",
              "    .dataframe tbody tr th:only-of-type {\n",
              "        vertical-align: middle;\n",
              "    }\n",
              "\n",
              "    .dataframe tbody tr th {\n",
              "        vertical-align: top;\n",
              "    }\n",
              "\n",
              "    .dataframe thead th {\n",
              "        text-align: right;\n",
              "    }\n",
              "</style>\n",
              "<table border=\"1\" class=\"dataframe\">\n",
              "  <thead>\n",
              "    <tr style=\"text-align: right;\">\n",
              "      <th></th>\n",
              "      <th>index</th>\n",
              "      <th>item</th>\n",
              "      <th>value</th>\n",
              "      <th>quantity</th>\n",
              "    </tr>\n",
              "  </thead>\n",
              "  <tbody>\n",
              "    <tr>\n",
              "      <th>0</th>\n",
              "      <td>0</td>\n",
              "      <td>a</td>\n",
              "      <td>1.0</td>\n",
              "      <td>NaN</td>\n",
              "    </tr>\n",
              "    <tr>\n",
              "      <th>1</th>\n",
              "      <td>1</td>\n",
              "      <td>b</td>\n",
              "      <td>2.0</td>\n",
              "      <td>NaN</td>\n",
              "    </tr>\n",
              "    <tr>\n",
              "      <th>2</th>\n",
              "      <td>2</td>\n",
              "      <td>c</td>\n",
              "      <td>3.0</td>\n",
              "      <td>NaN</td>\n",
              "    </tr>\n",
              "    <tr>\n",
              "      <th>3</th>\n",
              "      <td>3</td>\n",
              "      <td>d</td>\n",
              "      <td>5.0</td>\n",
              "      <td>NaN</td>\n",
              "    </tr>\n",
              "    <tr>\n",
              "      <th>4</th>\n",
              "      <td>0</td>\n",
              "      <td>e</td>\n",
              "      <td>NaN</td>\n",
              "      <td>5.0</td>\n",
              "    </tr>\n",
              "    <tr>\n",
              "      <th>5</th>\n",
              "      <td>1</td>\n",
              "      <td>f</td>\n",
              "      <td>NaN</td>\n",
              "      <td>6.0</td>\n",
              "    </tr>\n",
              "    <tr>\n",
              "      <th>6</th>\n",
              "      <td>2</td>\n",
              "      <td>g</td>\n",
              "      <td>NaN</td>\n",
              "      <td>7.0</td>\n",
              "    </tr>\n",
              "    <tr>\n",
              "      <th>7</th>\n",
              "      <td>3</td>\n",
              "      <td>h</td>\n",
              "      <td>NaN</td>\n",
              "      <td>8.0</td>\n",
              "    </tr>\n",
              "  </tbody>\n",
              "</table>\n",
              "</div>"
            ],
            "text/plain": [
              "   index item  value  quantity\n",
              "0      0    a    1.0       NaN\n",
              "1      1    b    2.0       NaN\n",
              "2      2    c    3.0       NaN\n",
              "3      3    d    5.0       NaN\n",
              "4      0    e    NaN       5.0\n",
              "5      1    f    NaN       6.0\n",
              "6      2    g    NaN       7.0\n",
              "7      3    h    NaN       8.0"
            ]
          },
          "metadata": {
            "tags": []
          },
          "execution_count": 700
        }
      ]
    },
    {
      "cell_type": "code",
      "metadata": {
        "colab": {
          "base_uri": "https://localhost:8080/",
          "height": 173
        },
        "id": "hpPXjuLBgOz_",
        "outputId": "1652f16f-865d-4f08-d795-13857e6cfa22"
      },
      "source": [
        "pd.concat([df1,df2], axis=1)"
      ],
      "execution_count": null,
      "outputs": [
        {
          "output_type": "execute_result",
          "data": {
            "text/html": [
              "<div>\n",
              "<style scoped>\n",
              "    .dataframe tbody tr th:only-of-type {\n",
              "        vertical-align: middle;\n",
              "    }\n",
              "\n",
              "    .dataframe tbody tr th {\n",
              "        vertical-align: top;\n",
              "    }\n",
              "\n",
              "    .dataframe thead th {\n",
              "        text-align: right;\n",
              "    }\n",
              "</style>\n",
              "<table border=\"1\" class=\"dataframe\">\n",
              "  <thead>\n",
              "    <tr style=\"text-align: right;\">\n",
              "      <th></th>\n",
              "      <th>item</th>\n",
              "      <th>value</th>\n",
              "      <th>item</th>\n",
              "      <th>quantity</th>\n",
              "    </tr>\n",
              "  </thead>\n",
              "  <tbody>\n",
              "    <tr>\n",
              "      <th>0</th>\n",
              "      <td>a</td>\n",
              "      <td>1</td>\n",
              "      <td>e</td>\n",
              "      <td>5</td>\n",
              "    </tr>\n",
              "    <tr>\n",
              "      <th>1</th>\n",
              "      <td>b</td>\n",
              "      <td>2</td>\n",
              "      <td>f</td>\n",
              "      <td>6</td>\n",
              "    </tr>\n",
              "    <tr>\n",
              "      <th>2</th>\n",
              "      <td>c</td>\n",
              "      <td>3</td>\n",
              "      <td>g</td>\n",
              "      <td>7</td>\n",
              "    </tr>\n",
              "    <tr>\n",
              "      <th>3</th>\n",
              "      <td>d</td>\n",
              "      <td>5</td>\n",
              "      <td>h</td>\n",
              "      <td>8</td>\n",
              "    </tr>\n",
              "  </tbody>\n",
              "</table>\n",
              "</div>"
            ],
            "text/plain": [
              "  item  value item  quantity\n",
              "0    a      1    e         5\n",
              "1    b      2    f         6\n",
              "2    c      3    g         7\n",
              "3    d      5    h         8"
            ]
          },
          "metadata": {
            "tags": []
          },
          "execution_count": 701
        }
      ]
    },
    {
      "cell_type": "markdown",
      "metadata": {
        "id": "0pu1CRY3g2uR"
      },
      "source": [
        "*also use append to add multiple DataFrame to another*"
      ]
    },
    {
      "cell_type": "code",
      "metadata": {
        "colab": {
          "base_uri": "https://localhost:8080/",
          "height": 421
        },
        "id": "fR9GZnSOggI_",
        "outputId": "303556b7-1a32-4f23-eb66-8ef2b223adff"
      },
      "source": [
        "df1=pd.DataFrame({'item':['a','b','c','d'],'value':[1,2,3,5]})\n",
        "df2=pd.DataFrame({'item':['e','f','g','h'],'quantity':[5,6,7,8]})\n",
        "df3=pd.DataFrame({'item':['i','j','k','l'],'quantity':[3,7,4,25]})\n",
        "df1.append([df2,df3])"
      ],
      "execution_count": null,
      "outputs": [
        {
          "output_type": "execute_result",
          "data": {
            "text/html": [
              "<div>\n",
              "<style scoped>\n",
              "    .dataframe tbody tr th:only-of-type {\n",
              "        vertical-align: middle;\n",
              "    }\n",
              "\n",
              "    .dataframe tbody tr th {\n",
              "        vertical-align: top;\n",
              "    }\n",
              "\n",
              "    .dataframe thead th {\n",
              "        text-align: right;\n",
              "    }\n",
              "</style>\n",
              "<table border=\"1\" class=\"dataframe\">\n",
              "  <thead>\n",
              "    <tr style=\"text-align: right;\">\n",
              "      <th></th>\n",
              "      <th>item</th>\n",
              "      <th>value</th>\n",
              "      <th>quantity</th>\n",
              "    </tr>\n",
              "  </thead>\n",
              "  <tbody>\n",
              "    <tr>\n",
              "      <th>0</th>\n",
              "      <td>a</td>\n",
              "      <td>1.0</td>\n",
              "      <td>NaN</td>\n",
              "    </tr>\n",
              "    <tr>\n",
              "      <th>1</th>\n",
              "      <td>b</td>\n",
              "      <td>2.0</td>\n",
              "      <td>NaN</td>\n",
              "    </tr>\n",
              "    <tr>\n",
              "      <th>2</th>\n",
              "      <td>c</td>\n",
              "      <td>3.0</td>\n",
              "      <td>NaN</td>\n",
              "    </tr>\n",
              "    <tr>\n",
              "      <th>3</th>\n",
              "      <td>d</td>\n",
              "      <td>5.0</td>\n",
              "      <td>NaN</td>\n",
              "    </tr>\n",
              "    <tr>\n",
              "      <th>0</th>\n",
              "      <td>e</td>\n",
              "      <td>NaN</td>\n",
              "      <td>5.0</td>\n",
              "    </tr>\n",
              "    <tr>\n",
              "      <th>1</th>\n",
              "      <td>f</td>\n",
              "      <td>NaN</td>\n",
              "      <td>6.0</td>\n",
              "    </tr>\n",
              "    <tr>\n",
              "      <th>2</th>\n",
              "      <td>g</td>\n",
              "      <td>NaN</td>\n",
              "      <td>7.0</td>\n",
              "    </tr>\n",
              "    <tr>\n",
              "      <th>3</th>\n",
              "      <td>h</td>\n",
              "      <td>NaN</td>\n",
              "      <td>8.0</td>\n",
              "    </tr>\n",
              "    <tr>\n",
              "      <th>0</th>\n",
              "      <td>i</td>\n",
              "      <td>NaN</td>\n",
              "      <td>3.0</td>\n",
              "    </tr>\n",
              "    <tr>\n",
              "      <th>1</th>\n",
              "      <td>j</td>\n",
              "      <td>NaN</td>\n",
              "      <td>7.0</td>\n",
              "    </tr>\n",
              "    <tr>\n",
              "      <th>2</th>\n",
              "      <td>k</td>\n",
              "      <td>NaN</td>\n",
              "      <td>4.0</td>\n",
              "    </tr>\n",
              "    <tr>\n",
              "      <th>3</th>\n",
              "      <td>l</td>\n",
              "      <td>NaN</td>\n",
              "      <td>25.0</td>\n",
              "    </tr>\n",
              "  </tbody>\n",
              "</table>\n",
              "</div>"
            ],
            "text/plain": [
              "  item  value  quantity\n",
              "0    a    1.0       NaN\n",
              "1    b    2.0       NaN\n",
              "2    c    3.0       NaN\n",
              "3    d    5.0       NaN\n",
              "0    e    NaN       5.0\n",
              "1    f    NaN       6.0\n",
              "2    g    NaN       7.0\n",
              "3    h    NaN       8.0\n",
              "0    i    NaN       3.0\n",
              "1    j    NaN       7.0\n",
              "2    k    NaN       4.0\n",
              "3    l    NaN      25.0"
            ]
          },
          "metadata": {
            "tags": []
          },
          "execution_count": 702
        }
      ]
    },
    {
      "cell_type": "code",
      "metadata": {
        "colab": {
          "base_uri": "https://localhost:8080/",
          "height": 49
        },
        "id": "jwf2MjQPhoUT",
        "outputId": "8190d95a-0f45-4784-d9ec-99cd3df5fc3d"
      },
      "source": [
        "dfa=pd.DataFrame({'key':['a','b','c','d'],'A':[1,2,3,5]})\n",
        "dfb=pd.DataFrame({'key':['e','f','g','h'],'B':[5,6,7,8]})\n",
        "pd.merge(dfa,dfb, on='key')\n"
      ],
      "execution_count": null,
      "outputs": [
        {
          "output_type": "execute_result",
          "data": {
            "text/html": [
              "<div>\n",
              "<style scoped>\n",
              "    .dataframe tbody tr th:only-of-type {\n",
              "        vertical-align: middle;\n",
              "    }\n",
              "\n",
              "    .dataframe tbody tr th {\n",
              "        vertical-align: top;\n",
              "    }\n",
              "\n",
              "    .dataframe thead th {\n",
              "        text-align: right;\n",
              "    }\n",
              "</style>\n",
              "<table border=\"1\" class=\"dataframe\">\n",
              "  <thead>\n",
              "    <tr style=\"text-align: right;\">\n",
              "      <th></th>\n",
              "      <th>key</th>\n",
              "      <th>A</th>\n",
              "      <th>B</th>\n",
              "    </tr>\n",
              "  </thead>\n",
              "  <tbody>\n",
              "  </tbody>\n",
              "</table>\n",
              "</div>"
            ],
            "text/plain": [
              "Empty DataFrame\n",
              "Columns: [key, A, B]\n",
              "Index: []"
            ]
          },
          "metadata": {
            "tags": []
          },
          "execution_count": 703
        }
      ]
    },
    {
      "cell_type": "code",
      "metadata": {
        "colab": {
          "base_uri": "https://localhost:8080/",
          "height": 173
        },
        "id": "jfgAwXDViZW0",
        "outputId": "10af2f6f-98b0-4833-d19b-1230893b1ef9"
      },
      "source": [
        "dfa=pd.DataFrame({'key':['k0','k1','k2','k3'],'A':['A0','A1','A2','A3'],'B':['B0','B1','B2','B3']})\n",
        "dfb=pd.DataFrame({'key':['k0','k1','k2','k3'],'C':['C0','C1','C2','C3'],'D':['D0','D1','D2','D3']})\n",
        "pd.merge(dfa,dfb, on='key')\n"
      ],
      "execution_count": null,
      "outputs": [
        {
          "output_type": "execute_result",
          "data": {
            "text/html": [
              "<div>\n",
              "<style scoped>\n",
              "    .dataframe tbody tr th:only-of-type {\n",
              "        vertical-align: middle;\n",
              "    }\n",
              "\n",
              "    .dataframe tbody tr th {\n",
              "        vertical-align: top;\n",
              "    }\n",
              "\n",
              "    .dataframe thead th {\n",
              "        text-align: right;\n",
              "    }\n",
              "</style>\n",
              "<table border=\"1\" class=\"dataframe\">\n",
              "  <thead>\n",
              "    <tr style=\"text-align: right;\">\n",
              "      <th></th>\n",
              "      <th>key</th>\n",
              "      <th>A</th>\n",
              "      <th>B</th>\n",
              "      <th>C</th>\n",
              "      <th>D</th>\n",
              "    </tr>\n",
              "  </thead>\n",
              "  <tbody>\n",
              "    <tr>\n",
              "      <th>0</th>\n",
              "      <td>k0</td>\n",
              "      <td>A0</td>\n",
              "      <td>B0</td>\n",
              "      <td>C0</td>\n",
              "      <td>D0</td>\n",
              "    </tr>\n",
              "    <tr>\n",
              "      <th>1</th>\n",
              "      <td>k1</td>\n",
              "      <td>A1</td>\n",
              "      <td>B1</td>\n",
              "      <td>C1</td>\n",
              "      <td>D1</td>\n",
              "    </tr>\n",
              "    <tr>\n",
              "      <th>2</th>\n",
              "      <td>k2</td>\n",
              "      <td>A2</td>\n",
              "      <td>B2</td>\n",
              "      <td>C2</td>\n",
              "      <td>D2</td>\n",
              "    </tr>\n",
              "    <tr>\n",
              "      <th>3</th>\n",
              "      <td>k3</td>\n",
              "      <td>A3</td>\n",
              "      <td>B3</td>\n",
              "      <td>C3</td>\n",
              "      <td>D3</td>\n",
              "    </tr>\n",
              "  </tbody>\n",
              "</table>\n",
              "</div>"
            ],
            "text/plain": [
              "  key   A   B   C   D\n",
              "0  k0  A0  B0  C0  D0\n",
              "1  k1  A1  B1  C1  D1\n",
              "2  k2  A2  B2  C2  D2\n",
              "3  k3  A3  B3  C3  D3"
            ]
          },
          "metadata": {
            "tags": []
          },
          "execution_count": 704
        }
      ]
    },
    {
      "cell_type": "code",
      "metadata": {
        "colab": {
          "base_uri": "https://localhost:8080/",
          "height": 173
        },
        "id": "V6r_0eCAjdli",
        "outputId": "c749353d-42be-41d4-ccee-f7d60df1f730"
      },
      "source": [
        "dfa=pd.DataFrame({'key':['k0','k1','k2','k3'],'A':['A0','A1','A2','A3'],'B':['B0','B1','B2','B3']})\n",
        "dfb=pd.DataFrame({'key':['k0','k1','k2','k3'],'C':['C0','C1','C2','C3'],'D':['D0','D1','D2','D3']})\n",
        "pd.merge(dfa,dfb,how='left', on='key')\n"
      ],
      "execution_count": null,
      "outputs": [
        {
          "output_type": "execute_result",
          "data": {
            "text/html": [
              "<div>\n",
              "<style scoped>\n",
              "    .dataframe tbody tr th:only-of-type {\n",
              "        vertical-align: middle;\n",
              "    }\n",
              "\n",
              "    .dataframe tbody tr th {\n",
              "        vertical-align: top;\n",
              "    }\n",
              "\n",
              "    .dataframe thead th {\n",
              "        text-align: right;\n",
              "    }\n",
              "</style>\n",
              "<table border=\"1\" class=\"dataframe\">\n",
              "  <thead>\n",
              "    <tr style=\"text-align: right;\">\n",
              "      <th></th>\n",
              "      <th>key</th>\n",
              "      <th>A</th>\n",
              "      <th>B</th>\n",
              "      <th>C</th>\n",
              "      <th>D</th>\n",
              "    </tr>\n",
              "  </thead>\n",
              "  <tbody>\n",
              "    <tr>\n",
              "      <th>0</th>\n",
              "      <td>k0</td>\n",
              "      <td>A0</td>\n",
              "      <td>B0</td>\n",
              "      <td>C0</td>\n",
              "      <td>D0</td>\n",
              "    </tr>\n",
              "    <tr>\n",
              "      <th>1</th>\n",
              "      <td>k1</td>\n",
              "      <td>A1</td>\n",
              "      <td>B1</td>\n",
              "      <td>C1</td>\n",
              "      <td>D1</td>\n",
              "    </tr>\n",
              "    <tr>\n",
              "      <th>2</th>\n",
              "      <td>k2</td>\n",
              "      <td>A2</td>\n",
              "      <td>B2</td>\n",
              "      <td>C2</td>\n",
              "      <td>D2</td>\n",
              "    </tr>\n",
              "    <tr>\n",
              "      <th>3</th>\n",
              "      <td>k3</td>\n",
              "      <td>A3</td>\n",
              "      <td>B3</td>\n",
              "      <td>C3</td>\n",
              "      <td>D3</td>\n",
              "    </tr>\n",
              "  </tbody>\n",
              "</table>\n",
              "</div>"
            ],
            "text/plain": [
              "  key   A   B   C   D\n",
              "0  k0  A0  B0  C0  D0\n",
              "1  k1  A1  B1  C1  D1\n",
              "2  k2  A2  B2  C2  D2\n",
              "3  k3  A3  B3  C3  D3"
            ]
          },
          "metadata": {
            "tags": []
          },
          "execution_count": 705
        }
      ]
    },
    {
      "cell_type": "code",
      "metadata": {
        "colab": {
          "base_uri": "https://localhost:8080/",
          "height": 173
        },
        "id": "cvr0NyNWjzHt",
        "outputId": "bb7418a0-ab9f-432d-adad-42751da1c9c5"
      },
      "source": [
        "dfa=pd.DataFrame({'key':['k0','k1','k2','k3'],'A':['A0','A1','A2','A3'],'B':['B0','B1','B2','B3']})\n",
        "dfb=pd.DataFrame({'key':['k0','k1','k2','k3'],'C':['C0','C1','C2','C3'],'D':['D0','D1','D2','D3']})\n",
        "pd.merge(dfa,dfb,how='right', on='key')\n"
      ],
      "execution_count": null,
      "outputs": [
        {
          "output_type": "execute_result",
          "data": {
            "text/html": [
              "<div>\n",
              "<style scoped>\n",
              "    .dataframe tbody tr th:only-of-type {\n",
              "        vertical-align: middle;\n",
              "    }\n",
              "\n",
              "    .dataframe tbody tr th {\n",
              "        vertical-align: top;\n",
              "    }\n",
              "\n",
              "    .dataframe thead th {\n",
              "        text-align: right;\n",
              "    }\n",
              "</style>\n",
              "<table border=\"1\" class=\"dataframe\">\n",
              "  <thead>\n",
              "    <tr style=\"text-align: right;\">\n",
              "      <th></th>\n",
              "      <th>key</th>\n",
              "      <th>A</th>\n",
              "      <th>B</th>\n",
              "      <th>C</th>\n",
              "      <th>D</th>\n",
              "    </tr>\n",
              "  </thead>\n",
              "  <tbody>\n",
              "    <tr>\n",
              "      <th>0</th>\n",
              "      <td>k0</td>\n",
              "      <td>A0</td>\n",
              "      <td>B0</td>\n",
              "      <td>C0</td>\n",
              "      <td>D0</td>\n",
              "    </tr>\n",
              "    <tr>\n",
              "      <th>1</th>\n",
              "      <td>k1</td>\n",
              "      <td>A1</td>\n",
              "      <td>B1</td>\n",
              "      <td>C1</td>\n",
              "      <td>D1</td>\n",
              "    </tr>\n",
              "    <tr>\n",
              "      <th>2</th>\n",
              "      <td>k2</td>\n",
              "      <td>A2</td>\n",
              "      <td>B2</td>\n",
              "      <td>C2</td>\n",
              "      <td>D2</td>\n",
              "    </tr>\n",
              "    <tr>\n",
              "      <th>3</th>\n",
              "      <td>k3</td>\n",
              "      <td>A3</td>\n",
              "      <td>B3</td>\n",
              "      <td>C3</td>\n",
              "      <td>D3</td>\n",
              "    </tr>\n",
              "  </tbody>\n",
              "</table>\n",
              "</div>"
            ],
            "text/plain": [
              "  key   A   B   C   D\n",
              "0  k0  A0  B0  C0  D0\n",
              "1  k1  A1  B1  C1  D1\n",
              "2  k2  A2  B2  C2  D2\n",
              "3  k3  A3  B3  C3  D3"
            ]
          },
          "metadata": {
            "tags": []
          },
          "execution_count": 706
        }
      ]
    },
    {
      "cell_type": "code",
      "metadata": {
        "colab": {
          "base_uri": "https://localhost:8080/",
          "height": 173
        },
        "id": "t71jRlm9j5Zi",
        "outputId": "8d0d662b-7503-4e3f-8f8f-62d32411f305"
      },
      "source": [
        "dfa=pd.DataFrame({'key':['k0','k1','k2','k3'],'A':['A0','A1','A2','A3'],'B':['B0','B1','B2','B3']})\n",
        "dfb=pd.DataFrame({'key':['k0','k1','k2','k3'],'C':['C0','C1','C2','C3'],'D':['D0','D1','D2','D3']})\n",
        "pd.merge(dfa,dfb,how='inner', on='key')\n"
      ],
      "execution_count": null,
      "outputs": [
        {
          "output_type": "execute_result",
          "data": {
            "text/html": [
              "<div>\n",
              "<style scoped>\n",
              "    .dataframe tbody tr th:only-of-type {\n",
              "        vertical-align: middle;\n",
              "    }\n",
              "\n",
              "    .dataframe tbody tr th {\n",
              "        vertical-align: top;\n",
              "    }\n",
              "\n",
              "    .dataframe thead th {\n",
              "        text-align: right;\n",
              "    }\n",
              "</style>\n",
              "<table border=\"1\" class=\"dataframe\">\n",
              "  <thead>\n",
              "    <tr style=\"text-align: right;\">\n",
              "      <th></th>\n",
              "      <th>key</th>\n",
              "      <th>A</th>\n",
              "      <th>B</th>\n",
              "      <th>C</th>\n",
              "      <th>D</th>\n",
              "    </tr>\n",
              "  </thead>\n",
              "  <tbody>\n",
              "    <tr>\n",
              "      <th>0</th>\n",
              "      <td>k0</td>\n",
              "      <td>A0</td>\n",
              "      <td>B0</td>\n",
              "      <td>C0</td>\n",
              "      <td>D0</td>\n",
              "    </tr>\n",
              "    <tr>\n",
              "      <th>1</th>\n",
              "      <td>k1</td>\n",
              "      <td>A1</td>\n",
              "      <td>B1</td>\n",
              "      <td>C1</td>\n",
              "      <td>D1</td>\n",
              "    </tr>\n",
              "    <tr>\n",
              "      <th>2</th>\n",
              "      <td>k2</td>\n",
              "      <td>A2</td>\n",
              "      <td>B2</td>\n",
              "      <td>C2</td>\n",
              "      <td>D2</td>\n",
              "    </tr>\n",
              "    <tr>\n",
              "      <th>3</th>\n",
              "      <td>k3</td>\n",
              "      <td>A3</td>\n",
              "      <td>B3</td>\n",
              "      <td>C3</td>\n",
              "      <td>D3</td>\n",
              "    </tr>\n",
              "  </tbody>\n",
              "</table>\n",
              "</div>"
            ],
            "text/plain": [
              "  key   A   B   C   D\n",
              "0  k0  A0  B0  C0  D0\n",
              "1  k1  A1  B1  C1  D1\n",
              "2  k2  A2  B2  C2  D2\n",
              "3  k3  A3  B3  C3  D3"
            ]
          },
          "metadata": {
            "tags": []
          },
          "execution_count": 707
        }
      ]
    },
    {
      "cell_type": "code",
      "metadata": {
        "id": "7-lA8fAjj-vF"
      },
      "source": [
        "left=pd.DataFrame({'A':['k0','k1','k2','k3'],'b':['A0','A1','A2','A3']},index=['B0','B1','B2','B3'])\n"
      ],
      "execution_count": null,
      "outputs": []
    },
    {
      "cell_type": "code",
      "metadata": {
        "colab": {
          "base_uri": "https://localhost:8080/",
          "height": 173
        },
        "id": "QACqXRF5kvKv",
        "outputId": "045c2d82-99a2-4ef4-cd34-9989f4e330cf"
      },
      "source": [
        "left"
      ],
      "execution_count": null,
      "outputs": [
        {
          "output_type": "execute_result",
          "data": {
            "text/html": [
              "<div>\n",
              "<style scoped>\n",
              "    .dataframe tbody tr th:only-of-type {\n",
              "        vertical-align: middle;\n",
              "    }\n",
              "\n",
              "    .dataframe tbody tr th {\n",
              "        vertical-align: top;\n",
              "    }\n",
              "\n",
              "    .dataframe thead th {\n",
              "        text-align: right;\n",
              "    }\n",
              "</style>\n",
              "<table border=\"1\" class=\"dataframe\">\n",
              "  <thead>\n",
              "    <tr style=\"text-align: right;\">\n",
              "      <th></th>\n",
              "      <th>A</th>\n",
              "      <th>b</th>\n",
              "    </tr>\n",
              "  </thead>\n",
              "  <tbody>\n",
              "    <tr>\n",
              "      <th>B0</th>\n",
              "      <td>k0</td>\n",
              "      <td>A0</td>\n",
              "    </tr>\n",
              "    <tr>\n",
              "      <th>B1</th>\n",
              "      <td>k1</td>\n",
              "      <td>A1</td>\n",
              "    </tr>\n",
              "    <tr>\n",
              "      <th>B2</th>\n",
              "      <td>k2</td>\n",
              "      <td>A2</td>\n",
              "    </tr>\n",
              "    <tr>\n",
              "      <th>B3</th>\n",
              "      <td>k3</td>\n",
              "      <td>A3</td>\n",
              "    </tr>\n",
              "  </tbody>\n",
              "</table>\n",
              "</div>"
            ],
            "text/plain": [
              "     A   b\n",
              "B0  k0  A0\n",
              "B1  k1  A1\n",
              "B2  k2  A2\n",
              "B3  k3  A3"
            ]
          },
          "metadata": {
            "tags": []
          },
          "execution_count": 709
        }
      ]
    },
    {
      "cell_type": "code",
      "metadata": {
        "colab": {
          "base_uri": "https://localhost:8080/",
          "height": 142
        },
        "id": "_GSgZ3c1k6Ez",
        "outputId": "1eace21f-d276-4440-e4ad-c3ef43e1138a"
      },
      "source": [
        "left=pd.DataFrame({'A':['A0','A1','A2'],'b':['B0','B1','B2']},index=['K0','K1','K2'])\n",
        "left"
      ],
      "execution_count": null,
      "outputs": [
        {
          "output_type": "execute_result",
          "data": {
            "text/html": [
              "<div>\n",
              "<style scoped>\n",
              "    .dataframe tbody tr th:only-of-type {\n",
              "        vertical-align: middle;\n",
              "    }\n",
              "\n",
              "    .dataframe tbody tr th {\n",
              "        vertical-align: top;\n",
              "    }\n",
              "\n",
              "    .dataframe thead th {\n",
              "        text-align: right;\n",
              "    }\n",
              "</style>\n",
              "<table border=\"1\" class=\"dataframe\">\n",
              "  <thead>\n",
              "    <tr style=\"text-align: right;\">\n",
              "      <th></th>\n",
              "      <th>A</th>\n",
              "      <th>b</th>\n",
              "    </tr>\n",
              "  </thead>\n",
              "  <tbody>\n",
              "    <tr>\n",
              "      <th>K0</th>\n",
              "      <td>A0</td>\n",
              "      <td>B0</td>\n",
              "    </tr>\n",
              "    <tr>\n",
              "      <th>K1</th>\n",
              "      <td>A1</td>\n",
              "      <td>B1</td>\n",
              "    </tr>\n",
              "    <tr>\n",
              "      <th>K2</th>\n",
              "      <td>A2</td>\n",
              "      <td>B2</td>\n",
              "    </tr>\n",
              "  </tbody>\n",
              "</table>\n",
              "</div>"
            ],
            "text/plain": [
              "     A   b\n",
              "K0  A0  B0\n",
              "K1  A1  B1\n",
              "K2  A2  B2"
            ]
          },
          "metadata": {
            "tags": []
          },
          "execution_count": 710
        }
      ]
    },
    {
      "cell_type": "code",
      "metadata": {
        "colab": {
          "base_uri": "https://localhost:8080/",
          "height": 142
        },
        "id": "eO_xhX1llMBY",
        "outputId": "f0fc885a-7189-4484-bcac-f02a94889fe7"
      },
      "source": [
        "right=pd.DataFrame({'c':['c0','c1','c2'],'d':['d0','d1','d2']},index=['K0','K1','K2'])\n",
        "right"
      ],
      "execution_count": null,
      "outputs": [
        {
          "output_type": "execute_result",
          "data": {
            "text/html": [
              "<div>\n",
              "<style scoped>\n",
              "    .dataframe tbody tr th:only-of-type {\n",
              "        vertical-align: middle;\n",
              "    }\n",
              "\n",
              "    .dataframe tbody tr th {\n",
              "        vertical-align: top;\n",
              "    }\n",
              "\n",
              "    .dataframe thead th {\n",
              "        text-align: right;\n",
              "    }\n",
              "</style>\n",
              "<table border=\"1\" class=\"dataframe\">\n",
              "  <thead>\n",
              "    <tr style=\"text-align: right;\">\n",
              "      <th></th>\n",
              "      <th>c</th>\n",
              "      <th>d</th>\n",
              "    </tr>\n",
              "  </thead>\n",
              "  <tbody>\n",
              "    <tr>\n",
              "      <th>K0</th>\n",
              "      <td>c0</td>\n",
              "      <td>d0</td>\n",
              "    </tr>\n",
              "    <tr>\n",
              "      <th>K1</th>\n",
              "      <td>c1</td>\n",
              "      <td>d1</td>\n",
              "    </tr>\n",
              "    <tr>\n",
              "      <th>K2</th>\n",
              "      <td>c2</td>\n",
              "      <td>d2</td>\n",
              "    </tr>\n",
              "  </tbody>\n",
              "</table>\n",
              "</div>"
            ],
            "text/plain": [
              "     c   d\n",
              "K0  c0  d0\n",
              "K1  c1  d1\n",
              "K2  c2  d2"
            ]
          },
          "metadata": {
            "tags": []
          },
          "execution_count": 711
        }
      ]
    },
    {
      "cell_type": "code",
      "metadata": {
        "colab": {
          "base_uri": "https://localhost:8080/",
          "height": 142
        },
        "id": "hUY__LjNmHMx",
        "outputId": "d04bfea2-a1a8-41cc-ea9b-639ea70b4cb1"
      },
      "source": [
        "left.join(right)"
      ],
      "execution_count": null,
      "outputs": [
        {
          "output_type": "execute_result",
          "data": {
            "text/html": [
              "<div>\n",
              "<style scoped>\n",
              "    .dataframe tbody tr th:only-of-type {\n",
              "        vertical-align: middle;\n",
              "    }\n",
              "\n",
              "    .dataframe tbody tr th {\n",
              "        vertical-align: top;\n",
              "    }\n",
              "\n",
              "    .dataframe thead th {\n",
              "        text-align: right;\n",
              "    }\n",
              "</style>\n",
              "<table border=\"1\" class=\"dataframe\">\n",
              "  <thead>\n",
              "    <tr style=\"text-align: right;\">\n",
              "      <th></th>\n",
              "      <th>A</th>\n",
              "      <th>b</th>\n",
              "      <th>c</th>\n",
              "      <th>d</th>\n",
              "    </tr>\n",
              "  </thead>\n",
              "  <tbody>\n",
              "    <tr>\n",
              "      <th>K0</th>\n",
              "      <td>A0</td>\n",
              "      <td>B0</td>\n",
              "      <td>c0</td>\n",
              "      <td>d0</td>\n",
              "    </tr>\n",
              "    <tr>\n",
              "      <th>K1</th>\n",
              "      <td>A1</td>\n",
              "      <td>B1</td>\n",
              "      <td>c1</td>\n",
              "      <td>d1</td>\n",
              "    </tr>\n",
              "    <tr>\n",
              "      <th>K2</th>\n",
              "      <td>A2</td>\n",
              "      <td>B2</td>\n",
              "      <td>c2</td>\n",
              "      <td>d2</td>\n",
              "    </tr>\n",
              "  </tbody>\n",
              "</table>\n",
              "</div>"
            ],
            "text/plain": [
              "     A   b   c   d\n",
              "K0  A0  B0  c0  d0\n",
              "K1  A1  B1  c1  d1\n",
              "K2  A2  B2  c2  d2"
            ]
          },
          "metadata": {
            "tags": []
          },
          "execution_count": 712
        }
      ]
    },
    {
      "cell_type": "code",
      "metadata": {
        "colab": {
          "base_uri": "https://localhost:8080/",
          "height": 142
        },
        "id": "BnaEk-HYmKhh",
        "outputId": "22dd39a9-712c-4503-8231-af978b832709"
      },
      "source": [
        "left.join(right,how='outer')"
      ],
      "execution_count": null,
      "outputs": [
        {
          "output_type": "execute_result",
          "data": {
            "text/html": [
              "<div>\n",
              "<style scoped>\n",
              "    .dataframe tbody tr th:only-of-type {\n",
              "        vertical-align: middle;\n",
              "    }\n",
              "\n",
              "    .dataframe tbody tr th {\n",
              "        vertical-align: top;\n",
              "    }\n",
              "\n",
              "    .dataframe thead th {\n",
              "        text-align: right;\n",
              "    }\n",
              "</style>\n",
              "<table border=\"1\" class=\"dataframe\">\n",
              "  <thead>\n",
              "    <tr style=\"text-align: right;\">\n",
              "      <th></th>\n",
              "      <th>A</th>\n",
              "      <th>b</th>\n",
              "      <th>c</th>\n",
              "      <th>d</th>\n",
              "    </tr>\n",
              "  </thead>\n",
              "  <tbody>\n",
              "    <tr>\n",
              "      <th>K0</th>\n",
              "      <td>A0</td>\n",
              "      <td>B0</td>\n",
              "      <td>c0</td>\n",
              "      <td>d0</td>\n",
              "    </tr>\n",
              "    <tr>\n",
              "      <th>K1</th>\n",
              "      <td>A1</td>\n",
              "      <td>B1</td>\n",
              "      <td>c1</td>\n",
              "      <td>d1</td>\n",
              "    </tr>\n",
              "    <tr>\n",
              "      <th>K2</th>\n",
              "      <td>A2</td>\n",
              "      <td>B2</td>\n",
              "      <td>c2</td>\n",
              "      <td>d2</td>\n",
              "    </tr>\n",
              "  </tbody>\n",
              "</table>\n",
              "</div>"
            ],
            "text/plain": [
              "     A   b   c   d\n",
              "K0  A0  B0  c0  d0\n",
              "K1  A1  B1  c1  d1\n",
              "K2  A2  B2  c2  d2"
            ]
          },
          "metadata": {
            "tags": []
          },
          "execution_count": 713
        }
      ]
    },
    {
      "cell_type": "code",
      "metadata": {
        "colab": {
          "base_uri": "https://localhost:8080/"
        },
        "id": "0hNzIY5omcCJ",
        "outputId": "934ef217-8e47-4bc5-ba3f-372fe52aa09a"
      },
      "source": [
        "#python program for finding H.C.F of two input numbers\n",
        "def computeHCF(x,y):\n",
        "\n",
        "\n",
        "#choose the smaller number\n",
        "  if x>y:\n",
        "    smaller=y\n",
        "  else:\n",
        "    smaller=x\n",
        "  for i in range(1,smaller+1):\n",
        "    if ((x%i)==0) and ((y%i)==0):\n",
        "      hcf=i\n",
        "  return hcf\n",
        "num1=int(input(\"enter first number\"))\n",
        "num2=int(input(\"enter second number\"))\n",
        "print(\"HCF of\",num1,\"and\",num2,\"is\",computeHCF(num1,num2))"
      ],
      "execution_count": null,
      "outputs": [
        {
          "output_type": "stream",
          "text": [
            "enter first number36\n",
            "enter second number56\n",
            "HCF of 36 and 56 is 4\n"
          ],
          "name": "stdout"
        }
      ]
    },
    {
      "cell_type": "code",
      "metadata": {
        "id": "JJG3njz5o1sM",
        "colab": {
          "base_uri": "https://localhost:8080/"
        },
        "outputId": "3322951f-88bf-42ef-f2b4-bcccd2c784cf"
      },
      "source": [
        "computeHCF(5,10)"
      ],
      "execution_count": null,
      "outputs": [
        {
          "output_type": "execute_result",
          "data": {
            "text/plain": [
              "5"
            ]
          },
          "metadata": {
            "tags": []
          },
          "execution_count": 715
        }
      ]
    },
    {
      "cell_type": "markdown",
      "metadata": {
        "id": "E7Ge6-ExTcyv"
      },
      "source": [
        "**python dictionaries**"
      ]
    },
    {
      "cell_type": "code",
      "metadata": {
        "colab": {
          "base_uri": "https://localhost:8080/"
        },
        "id": "RTD5XADCTP6q",
        "outputId": "feb9c0ab-025e-40fb-b06f-c4e75669549a"
      },
      "source": [
        "thisdict={\"brand\":\"ford\",\"model\":\"mustang\",\"year\":1964}\n",
        "print(thisdict)"
      ],
      "execution_count": null,
      "outputs": [
        {
          "output_type": "stream",
          "text": [
            "{'brand': 'ford', 'model': 'mustang', 'year': 1964}\n"
          ],
          "name": "stdout"
        }
      ]
    },
    {
      "cell_type": "code",
      "metadata": {
        "colab": {
          "base_uri": "https://localhost:8080/"
        },
        "id": "JE-7WJ5SXIP-",
        "outputId": "0e840997-8fa4-44eb-dc50-b96b82e29977"
      },
      "source": [
        "thisdict={\"brand\":\"ford\",\"model\":\"mustang\",\"country\":\"india\",\"year\":1964,\"colour\":[\"red\",\"white\",\"blue\"]}\n",
        "print(thisdict)"
      ],
      "execution_count": null,
      "outputs": [
        {
          "output_type": "stream",
          "text": [
            "{'brand': 'ford', 'model': 'mustang', 'country': 'india', 'year': 1964, 'colour': ['red', 'white', 'blue']}\n"
          ],
          "name": "stdout"
        }
      ]
    },
    {
      "cell_type": "code",
      "metadata": {
        "colab": {
          "base_uri": "https://localhost:8080/"
        },
        "id": "pfg12YYBYDXh",
        "outputId": "eb2a285f-04ad-46a1-d6a3-f6a944ff515c"
      },
      "source": [
        "print(type(thisdict))"
      ],
      "execution_count": null,
      "outputs": [
        {
          "output_type": "stream",
          "text": [
            "<class 'dict'>\n"
          ],
          "name": "stdout"
        }
      ]
    },
    {
      "cell_type": "code",
      "metadata": {
        "colab": {
          "base_uri": "https://localhost:8080/"
        },
        "id": "lDtaLYPZY0YN",
        "outputId": "82311403-cf86-4e35-e398-5c2181b85754"
      },
      "source": [
        "thisdict={\"brand\":\"ford\",\"model\":\"mustang\",\"country\":\"india\",\"year\":1964,\"colour\":[\"red\",\"white\",\"blue\"]}\n",
        "thisdict[\"year\"]= 2020\n",
        "print(thisdict)\n",
        "print(len(thisdict[\"colour\"]))"
      ],
      "execution_count": null,
      "outputs": [
        {
          "output_type": "stream",
          "text": [
            "{'brand': 'ford', 'model': 'mustang', 'country': 'india', 'year': 2020, 'colour': ['red', 'white', 'blue']}\n",
            "3\n"
          ],
          "name": "stdout"
        }
      ]
    },
    {
      "cell_type": "code",
      "metadata": {
        "colab": {
          "base_uri": "https://localhost:8080/"
        },
        "id": "5GsQianYa_W3",
        "outputId": "7a5beaf3-837a-42d1-c510-aa3c0960cae3"
      },
      "source": [
        "thisdict={\"brand\":\"ford\",\"model\":\"mustang\",\"country\":\"india\",\"year\":2022,\"colour\":[\"red\",\"white\",\"blue\"]}\n",
        "thisdict.update({\"aditya\":\"first owner\"})\n",
        "print(thisdict)"
      ],
      "execution_count": null,
      "outputs": [
        {
          "output_type": "stream",
          "text": [
            "{'brand': 'ford', 'model': 'mustang', 'country': 'india', 'year': 2022, 'colour': ['red', 'white', 'blue'], 'aditya': 'first owner'}\n"
          ],
          "name": "stdout"
        }
      ]
    },
    {
      "cell_type": "code",
      "metadata": {
        "colab": {
          "base_uri": "https://localhost:8080/"
        },
        "id": "e7em_iLPbuh1",
        "outputId": "30298a55-eb3f-4533-8969-ecb0ee116300"
      },
      "source": [
        "thisdict={\"brand\":\"ford\",\"model\":\"mustang\",\"country\":\"india\",\"year\":2022,\"colour\":[\"red\",\"white\",\"blue\"]}\n",
        "thisdict.pop(\"colour\")\n",
        "print(thisdict)"
      ],
      "execution_count": null,
      "outputs": [
        {
          "output_type": "stream",
          "text": [
            "{'brand': 'ford', 'model': 'mustang', 'country': 'india', 'year': 2022}\n"
          ],
          "name": "stdout"
        }
      ]
    },
    {
      "cell_type": "code",
      "metadata": {
        "colab": {
          "base_uri": "https://localhost:8080/"
        },
        "id": "goMpKE6ycK8F",
        "outputId": "e1f70e71-4c7f-4eb2-b723-a9c6975707f3"
      },
      "source": [
        "thisdict={\"brand\":\"ford\",\"model\":\"mustang\",\"country\":\"india\",\"year\":2022,\"colour\":[\"red\",\"white\",\"blue\"]}\n",
        "del thisdict[\"year\"]\n",
        "print(thisdict)"
      ],
      "execution_count": null,
      "outputs": [
        {
          "output_type": "stream",
          "text": [
            "{'brand': 'ford', 'model': 'mustang', 'country': 'india', 'colour': ['red', 'white', 'blue']}\n"
          ],
          "name": "stdout"
        }
      ]
    },
    {
      "cell_type": "code",
      "metadata": {
        "colab": {
          "base_uri": "https://localhost:8080/"
        },
        "id": "16oDYZ1uchBa",
        "outputId": "195c98c1-aea1-4d2b-d5f6-25506792e0ed"
      },
      "source": [
        "thisdict={\"brand\":\"ford\",\"model\":\"mustang\",\"country\":\"india\",\"year\":2022,\"colour\":[\"red\",\"white\",\"blue\"]}\n",
        "thisdict.clear()\n",
        "print(thisdict)"
      ],
      "execution_count": null,
      "outputs": [
        {
          "output_type": "stream",
          "text": [
            "{}\n"
          ],
          "name": "stdout"
        }
      ]
    },
    {
      "cell_type": "code",
      "metadata": {
        "colab": {
          "base_uri": "https://localhost:8080/"
        },
        "id": "gJsbLxRhc1uJ",
        "outputId": "73621bd3-229a-4c03-be2d-eda6a2a22155"
      },
      "source": [
        "thisdict={\"brand\":\"ford\",\"model\":\"mustang\",\"country\":\"india\",\"year\":2022,\"colour\":[\"red\",\"white\",\"blue\"]}\n",
        "newdict=thisdict.copy()\n",
        "print(newdict)"
      ],
      "execution_count": null,
      "outputs": [
        {
          "output_type": "stream",
          "text": [
            "{'brand': 'ford', 'model': 'mustang', 'country': 'india', 'year': 2022, 'colour': ['red', 'white', 'blue']}\n"
          ],
          "name": "stdout"
        }
      ]
    },
    {
      "cell_type": "code",
      "metadata": {
        "colab": {
          "base_uri": "https://localhost:8080/"
        },
        "id": "GaVizhOpdRnR",
        "outputId": "c8d89c9b-c520-47d3-ed50-6d491241cf06"
      },
      "source": [
        "thisdict={\"child1\":{\"name\":\"mansi\",\"year\":2002},\"child2\":{\"name\":\"vikas\",\"year\":1985},\"child3\":{\"name\":\"payal\",\"year\":2007}}\n",
        "print(thisdict)"
      ],
      "execution_count": null,
      "outputs": [
        {
          "output_type": "stream",
          "text": [
            "{'child1': {'name': 'mansi', 'year': 2002}, 'child2': {'name': 'vikas', 'year': 1985}, 'child3': {'name': 'payal', 'year': 2007}}\n"
          ],
          "name": "stdout"
        }
      ]
    },
    {
      "cell_type": "markdown",
      "metadata": {
        "id": "6tWIGZRfe12I"
      },
      "source": [
        "dictionary methods"
      ]
    },
    {
      "cell_type": "markdown",
      "metadata": {
        "id": "Q5iV51uue5Xt"
      },
      "source": [
        "**1)clear() , 2)copy() , 3)fromkey() , 4)get() , 5)items() , 6)keys() , 7)pop() , 8)popitem() , 9)setdefault() , 10)update() , 11)values()**"
      ]
    },
    {
      "cell_type": "code",
      "metadata": {
        "colab": {
          "base_uri": "https://localhost:8080/"
        },
        "id": "V-e-WwxTecAl",
        "outputId": "45ba6592-f8c0-441d-e5b5-2299c4b24569"
      },
      "source": [
        "a=33\n",
        "b=200\n",
        "if b>a :\n",
        "  print(\"b is greater\")\n"
      ],
      "execution_count": null,
      "outputs": [
        {
          "output_type": "stream",
          "text": [
            "b is greater\n"
          ],
          "name": "stdout"
        }
      ]
    },
    {
      "cell_type": "code",
      "metadata": {
        "colab": {
          "base_uri": "https://localhost:8080/"
        },
        "id": "vxS8MckXgEbd",
        "outputId": "eae87bc3-a9d8-4a54-e839-a1b6062bdf44"
      },
      "source": [
        "a=33\n",
        "b=33\n",
        "if b>a :\n",
        "  print(\"b is greater\")\n",
        "elif a==b :\n",
        "  print(\"a and b are equal\")\n"
      ],
      "execution_count": null,
      "outputs": [
        {
          "output_type": "stream",
          "text": [
            "a and b are equal\n"
          ],
          "name": "stdout"
        }
      ]
    },
    {
      "cell_type": "code",
      "metadata": {
        "colab": {
          "base_uri": "https://localhost:8080/"
        },
        "id": "EAlMQiAqgcLU",
        "outputId": "91d4a6a5-800a-4923-da14-bbf014be6f94"
      },
      "source": [
        "a=333\n",
        "b=33\n",
        "if b>a :\n",
        "  print(\"b is greater\")\n",
        "elif a==b :\n",
        "  print(\"a and b are equal\")\n",
        "else :\n",
        "  print(\"a is greater than b\")"
      ],
      "execution_count": null,
      "outputs": [
        {
          "output_type": "stream",
          "text": [
            "a is greater than b\n"
          ],
          "name": "stdout"
        }
      ]
    },
    {
      "cell_type": "code",
      "metadata": {
        "colab": {
          "base_uri": "https://localhost:8080/"
        },
        "id": "pluAGApVgsa4",
        "outputId": "4cfdc174-059a-4e4b-ad95-7ea195dce343"
      },
      "source": [
        "a=333\n",
        "b=33\n",
        "if b>a :\n",
        "  print(\"b is greater\")\n",
        "else :\n",
        "  print(\"a is greater than b\")"
      ],
      "execution_count": null,
      "outputs": [
        {
          "output_type": "stream",
          "text": [
            "a is greater than b\n"
          ],
          "name": "stdout"
        }
      ]
    },
    {
      "cell_type": "code",
      "metadata": {
        "colab": {
          "base_uri": "https://localhost:8080/"
        },
        "id": "64Pb8hD-g89j",
        "outputId": "6d76f0f2-0811-491d-977f-2b879623abde"
      },
      "source": [
        "a=333\n",
        "b=3333\n",
        "if b>a : print(\"b is greater\")"
      ],
      "execution_count": null,
      "outputs": [
        {
          "output_type": "stream",
          "text": [
            "b is greater\n"
          ],
          "name": "stdout"
        }
      ]
    },
    {
      "cell_type": "code",
      "metadata": {
        "colab": {
          "base_uri": "https://localhost:8080/"
        },
        "id": "lqHdxx01hNun",
        "outputId": "8171e258-81fb-4014-e86a-c3980221731c"
      },
      "source": [
        "a=333\n",
        "b=33\n",
        "c=444\n",
        "if a>b and c>a :\n",
        "  print(\"both conditions are true.\",a,\"and\",c,\"are greater than\",b)"
      ],
      "execution_count": null,
      "outputs": [
        {
          "output_type": "stream",
          "text": [
            "both conditions are true. 333 and 444 are greater than 33\n"
          ],
          "name": "stdout"
        }
      ]
    },
    {
      "cell_type": "code",
      "metadata": {
        "colab": {
          "base_uri": "https://localhost:8080/"
        },
        "id": "cIMQMNQ-hxZO",
        "outputId": "ecacab76-0fa9-4818-ce6b-384e82b9ead6"
      },
      "source": [
        "a=333\n",
        "b=33\n",
        "c=444\n",
        "if b>a or c>a :\n",
        "  print(\"at least one of the conditions is true\")"
      ],
      "execution_count": null,
      "outputs": [
        {
          "output_type": "stream",
          "text": [
            "at least one of the conditions is true\n"
          ],
          "name": "stdout"
        }
      ]
    },
    {
      "cell_type": "markdown",
      "metadata": {
        "id": "Jvf_bZGIiHxV"
      },
      "source": [
        "***nested if***"
      ]
    },
    {
      "cell_type": "code",
      "metadata": {
        "colab": {
          "base_uri": "https://localhost:8080/"
        },
        "id": "dYmrPWsiiCv6",
        "outputId": "ee65111e-9e0e-47f8-fee1-f3a4f0d8a486"
      },
      "source": [
        "x=42\n",
        "if x>10:\n",
        "  print(\"value is greater than 10\")\n",
        "  if x>20:\n",
        "    print(\"value is greater than 20\")\n",
        "else:\n",
        "  print(\"value is less than 10\")"
      ],
      "execution_count": null,
      "outputs": [
        {
          "output_type": "stream",
          "text": [
            "value is greater than 10\n",
            "value is greater than 20\n"
          ],
          "name": "stdout"
        }
      ]
    },
    {
      "cell_type": "markdown",
      "metadata": {
        "id": "W5yV4qH5jNKM"
      },
      "source": [
        "***while loop***"
      ]
    },
    {
      "cell_type": "code",
      "metadata": {
        "colab": {
          "base_uri": "https://localhost:8080/"
        },
        "id": "WgQLrjepi2Vy",
        "outputId": "8eaa864e-7ad8-46b5-9855-903590f8ba28"
      },
      "source": [
        "i=1\n",
        "while i<6 :\n",
        "  print(i)\n",
        "  i+=1\n"
      ],
      "execution_count": null,
      "outputs": [
        {
          "output_type": "stream",
          "text": [
            "1\n",
            "2\n",
            "3\n",
            "4\n",
            "5\n"
          ],
          "name": "stdout"
        }
      ]
    },
    {
      "cell_type": "code",
      "metadata": {
        "colab": {
          "base_uri": "https://localhost:8080/"
        },
        "id": "7qpTkGH1jcRV",
        "outputId": "3e2b6725-788d-4491-dc6e-387195d5565f"
      },
      "source": [
        "i=1\n",
        "while i<6 :\n",
        "  print(i)\n",
        "  if i==3:\n",
        "    break\n",
        "  i+=1\n"
      ],
      "execution_count": null,
      "outputs": [
        {
          "output_type": "stream",
          "text": [
            "1\n",
            "2\n",
            "3\n"
          ],
          "name": "stdout"
        }
      ]
    },
    {
      "cell_type": "code",
      "metadata": {
        "colab": {
          "base_uri": "https://localhost:8080/"
        },
        "id": "MQbre4pFjs9s",
        "outputId": "55d398d7-6e25-4045-a894-5dc19fccb7f1"
      },
      "source": [
        "i=1\n",
        "while i<6 :\n",
        "  print(i)\n",
        "  i+=1\n",
        "else:\n",
        "  print(\"i is no longer less than 6\")"
      ],
      "execution_count": null,
      "outputs": [
        {
          "output_type": "stream",
          "text": [
            "1\n",
            "2\n",
            "3\n",
            "4\n",
            "5\n",
            "i is no longer less than 6\n"
          ],
          "name": "stdout"
        }
      ]
    },
    {
      "cell_type": "markdown",
      "metadata": {
        "id": "gzWLlqEmkiF5"
      },
      "source": [
        "***python program to find the L.C.M of 2 input numbers***"
      ]
    },
    {
      "cell_type": "code",
      "metadata": {
        "colab": {
          "base_uri": "https://localhost:8080/"
        },
        "id": "PbKB_u_7kO3I",
        "outputId": "a5f0f0b7-75f8-46cb-b930-f41468da5941"
      },
      "source": [
        "def lcm(x,y):\n",
        "  if x>y:\n",
        "    greater = x\n",
        "  else:\n",
        "    greater=y\n",
        "  while(True):\n",
        "    if ((greater%x==0) and (greater%y==0)):\n",
        "      lcm=greater\n",
        "      break\n",
        "    greater+=1\n",
        "  return lcm\n",
        "num1=int(input(\"enter first number:\"))\n",
        "num2=int(input(\"enter second number:\"))\n",
        "print(\"lcm of\",num1,\"and\",num2,\"is\",lcm(num1,num2))"
      ],
      "execution_count": null,
      "outputs": [
        {
          "output_type": "stream",
          "text": [
            "enter first number:36\n",
            "enter second number:56\n",
            "lcm of 36 and 56 is 504\n"
          ],
          "name": "stdout"
        }
      ]
    },
    {
      "cell_type": "markdown",
      "metadata": {
        "id": "cxN_YjcatyqM"
      },
      "source": [
        "starting with numpy"
      ]
    },
    {
      "cell_type": "code",
      "metadata": {
        "id": "0vq7P9bTmMeM",
        "colab": {
          "base_uri": "https://localhost:8080/"
        },
        "outputId": "318e94a7-4575-4f8b-f0fa-ce38c6602d5b"
      },
      "source": [
        "import numpy as np\n",
        "arr = np.array([[1,2,3,4,5],[6,7,8,9,10]])\n",
        "print(arr)\n",
        "print(type(arr))"
      ],
      "execution_count": null,
      "outputs": [
        {
          "output_type": "stream",
          "text": [
            "[[ 1  2  3  4  5]\n",
            " [ 6  7  8  9 10]]\n",
            "<class 'numpy.ndarray'>\n"
          ],
          "name": "stdout"
        }
      ]
    },
    {
      "cell_type": "code",
      "metadata": {
        "colab": {
          "base_uri": "https://localhost:8080/"
        },
        "id": "mWq1ZWmxuGr0",
        "outputId": "a43e9ac2-c513-4000-9b05-911a29f1b51c"
      },
      "source": [
        "import numpy as np\n",
        "arr = np.array([[[1,2,3],[4,5,6]],[[6,7,8],[9,10,11]]])\n",
        "print(arr)\n",
        "print(type(arr))"
      ],
      "execution_count": null,
      "outputs": [
        {
          "output_type": "stream",
          "text": [
            "[[[ 1  2  3]\n",
            "  [ 4  5  6]]\n",
            "\n",
            " [[ 6  7  8]\n",
            "  [ 9 10 11]]]\n",
            "<class 'numpy.ndarray'>\n"
          ],
          "name": "stdout"
        }
      ]
    },
    {
      "cell_type": "code",
      "metadata": {
        "colab": {
          "base_uri": "https://localhost:8080/"
        },
        "id": "Uwz2lQdAuZaf",
        "outputId": "00131984-0553-4946-86c7-5d02828fa886"
      },
      "source": [
        "import numpy as np\n",
        "a=np.array(456)\n",
        "b=np.array([1,2,3,4,5,6,7])\n",
        "c= np.array([[1,2,3,4,5],[6,7,8,9,10]])\n",
        "d = np.array([[[1,2,3],[4,5,6]],[[6,7,8],[9,10,11]]])\n",
        "print(a.ndim)\n",
        "print(b.ndim)\n",
        "print(c.ndim)\n",
        "print(d.ndim)"
      ],
      "execution_count": null,
      "outputs": [
        {
          "output_type": "stream",
          "text": [
            "0\n",
            "1\n",
            "2\n",
            "3\n"
          ],
          "name": "stdout"
        }
      ]
    },
    {
      "cell_type": "code",
      "metadata": {
        "colab": {
          "base_uri": "https://localhost:8080/"
        },
        "id": "8S-k5Ls5vrTP",
        "outputId": "4cbc75f2-4ffc-4a22-d205-d0dab8b31304"
      },
      "source": [
        "import numpy as np\n",
        "arr=np.array([1,2,3,4,5,6,7])\n",
        "print(arr[2]+arr[4])"
      ],
      "execution_count": null,
      "outputs": [
        {
          "output_type": "stream",
          "text": [
            "8\n"
          ],
          "name": "stdout"
        }
      ]
    },
    {
      "cell_type": "code",
      "metadata": {
        "colab": {
          "base_uri": "https://localhost:8080/"
        },
        "id": "U_F7ncjWwYD0",
        "outputId": "a6d0b6f9-8d7c-4f1b-a83b-5e5fbfee09cd"
      },
      "source": [
        "import numpy as np\n",
        "c=np.array([[[1,2,3],[4,5,6]],[[6,7,8],[9,10,11]]])\n",
        "print(c)\n",
        "print('3rd element on 2nd array of 1st array:',c[0,1,2])"
      ],
      "execution_count": null,
      "outputs": [
        {
          "output_type": "stream",
          "text": [
            "[[[ 1  2  3]\n",
            "  [ 4  5  6]]\n",
            "\n",
            " [[ 6  7  8]\n",
            "  [ 9 10 11]]]\n",
            "3rd element on 2nd array of 1st array: 6\n"
          ],
          "name": "stdout"
        }
      ]
    },
    {
      "cell_type": "code",
      "metadata": {
        "colab": {
          "base_uri": "https://localhost:8080/"
        },
        "id": "74kAat-XxIGW",
        "outputId": "be94e4de-3a47-47f9-b3a3-239a3edc9187"
      },
      "source": [
        "import numpy as np\n",
        "c=np.array([[1,2,3,4,5],[6,7,8,9,10]])\n",
        "print('last element of 2nd dim:', c[1,-1])"
      ],
      "execution_count": null,
      "outputs": [
        {
          "output_type": "stream",
          "text": [
            "last element of 2nd dim: 10\n"
          ],
          "name": "stdout"
        }
      ]
    },
    {
      "cell_type": "code",
      "metadata": {
        "colab": {
          "base_uri": "https://localhost:8080/"
        },
        "id": "Fyg1_tXgy4-8",
        "outputId": "d5f251ce-7e44-4b4d-eb73-e1ff187e2f1f"
      },
      "source": [
        "import numpy as np\n",
        "c=np.array([1,2,3,4,5,6,7,8,9,10])\n",
        "print(c[1:6])\n",
        "print(c[1:5])"
      ],
      "execution_count": null,
      "outputs": [
        {
          "output_type": "stream",
          "text": [
            "[2 3 4 5 6]\n",
            "[2 3 4 5]\n"
          ],
          "name": "stdout"
        }
      ]
    },
    {
      "cell_type": "code",
      "metadata": {
        "colab": {
          "base_uri": "https://localhost:8080/"
        },
        "id": "DbAlkBp1zPkB",
        "outputId": "17237500-a6a8-4456-b59c-765ef84b05e2"
      },
      "source": [
        "import numpy as np\n",
        "c=np.array([1,2,3,4,5,6,7,8,9,10])\n",
        "print(c[5:])"
      ],
      "execution_count": null,
      "outputs": [
        {
          "output_type": "stream",
          "text": [
            "[ 6  7  8  9 10]\n"
          ],
          "name": "stdout"
        }
      ]
    },
    {
      "cell_type": "code",
      "metadata": {
        "colab": {
          "base_uri": "https://localhost:8080/"
        },
        "id": "ETN0C3MHzqka",
        "outputId": "91df6710-2c7d-44db-88f7-f1d5fda5edec"
      },
      "source": [
        "import numpy as np\n",
        "c=np.array([1,2,3,4,5,6,7,8,9,10])\n",
        "print(c[:8])"
      ],
      "execution_count": null,
      "outputs": [
        {
          "output_type": "stream",
          "text": [
            "[1 2 3 4 5 6 7 8]\n"
          ],
          "name": "stdout"
        }
      ]
    },
    {
      "cell_type": "code",
      "metadata": {
        "colab": {
          "base_uri": "https://localhost:8080/"
        },
        "id": "gezamqpiz0uf",
        "outputId": "f1ae178a-e43a-473e-f4f0-6d0401ed6df0"
      },
      "source": [
        "import numpy as np\n",
        "c=np.array([1,2,3,4,5,6,7,8,9,10])\n",
        "print(c[1:-2])"
      ],
      "execution_count": null,
      "outputs": [
        {
          "output_type": "stream",
          "text": [
            "[2 3 4 5 6 7 8]\n"
          ],
          "name": "stdout"
        }
      ]
    },
    {
      "cell_type": "code",
      "metadata": {
        "colab": {
          "base_uri": "https://localhost:8080/"
        },
        "id": "Ko2PWDS7z5QC",
        "outputId": "19ad67f1-48aa-460c-9972-6b6b5c03ac5e"
      },
      "source": [
        "import numpy as np\n",
        "c=np.array([1,2,3,4,5,6,7,8,9,10])\n",
        "print(c[-3:-1])"
      ],
      "execution_count": null,
      "outputs": [
        {
          "output_type": "stream",
          "text": [
            "[8 9]\n"
          ],
          "name": "stdout"
        }
      ]
    },
    {
      "cell_type": "code",
      "metadata": {
        "colab": {
          "base_uri": "https://localhost:8080/"
        },
        "id": "XdoPP0Kiz9ni",
        "outputId": "9e22cbae-c91e-4d9c-e74d-cdb29c75f7b7"
      },
      "source": [
        "import numpy as np\n",
        "c=np.array([1,2,3,4,5,6,7,8,9,10])\n",
        "print(c[1:5:3])"
      ],
      "execution_count": null,
      "outputs": [
        {
          "output_type": "stream",
          "text": [
            "[2 5]\n"
          ],
          "name": "stdout"
        }
      ]
    },
    {
      "cell_type": "code",
      "metadata": {
        "colab": {
          "base_uri": "https://localhost:8080/"
        },
        "id": "maPX5Xv00Rtj",
        "outputId": "a398518d-117a-4bf0-ed7e-0820e05d9ce8"
      },
      "source": [
        "import numpy as np\n",
        "c=np.array([1,2,3,4,5,6,7,8,9,10])\n",
        "print(c[1:5:2])"
      ],
      "execution_count": null,
      "outputs": [
        {
          "output_type": "stream",
          "text": [
            "[2 4]\n"
          ],
          "name": "stdout"
        }
      ]
    },
    {
      "cell_type": "code",
      "metadata": {
        "colab": {
          "base_uri": "https://localhost:8080/"
        },
        "id": "qCGGifN10abo",
        "outputId": "d8ea1f54-0c1a-4cac-bd43-40ec9420016a"
      },
      "source": [
        "import numpy as np\n",
        "c=np.array([1,2,3,4,5,6,7,8,9,10])\n",
        "print(c[::2])"
      ],
      "execution_count": null,
      "outputs": [
        {
          "output_type": "stream",
          "text": [
            "[1 3 5 7 9]\n"
          ],
          "name": "stdout"
        }
      ]
    },
    {
      "cell_type": "code",
      "metadata": {
        "colab": {
          "base_uri": "https://localhost:8080/"
        },
        "id": "LI3wOeV2006U",
        "outputId": "8c52d62b-6f66-441d-aad0-84bb4731c260"
      },
      "source": [
        "import numpy as np\n",
        "c=np.array([[1,2,3,4,5],[6,7,8,9,10]])\n",
        "print(c[0:4,0:3])"
      ],
      "execution_count": null,
      "outputs": [
        {
          "output_type": "stream",
          "text": [
            "[[1 2 3]\n",
            " [6 7 8]]\n"
          ],
          "name": "stdout"
        }
      ]
    },
    {
      "cell_type": "code",
      "metadata": {
        "colab": {
          "base_uri": "https://localhost:8080/"
        },
        "id": "ZI5I8NNy1dsb",
        "outputId": "026cfddb-5b27-4dd7-9c88-340da427e336"
      },
      "source": [
        "import numpy as np\n",
        "c=np.array([1,2,3,4,5,6,7,8,9,10])\n",
        "print(c.dtype)"
      ],
      "execution_count": null,
      "outputs": [
        {
          "output_type": "stream",
          "text": [
            "int64\n"
          ],
          "name": "stdout"
        }
      ]
    },
    {
      "cell_type": "code",
      "metadata": {
        "colab": {
          "base_uri": "https://localhost:8080/"
        },
        "id": "7VDLb47o2X8x",
        "outputId": "3abe1da0-9dec-4797-dd03-15f529581783"
      },
      "source": [
        "import numpy as np\n",
        "c=np.array(['madhu','sai','mansi','payal','ashwini','rahul'])\n",
        "print(c.dtype)"
      ],
      "execution_count": null,
      "outputs": [
        {
          "output_type": "stream",
          "text": [
            "<U7\n"
          ],
          "name": "stdout"
        }
      ]
    },
    {
      "cell_type": "code",
      "metadata": {
        "colab": {
          "base_uri": "https://localhost:8080/"
        },
        "id": "llkDWy8_2sGw",
        "outputId": "9a9f009a-8889-4fca-b66c-5994740111f2"
      },
      "source": [
        "import numpy as np\n",
        "c=np.array([1.23,2.34,3.44,4.44])\n",
        "newarray=c.astype(int)\n",
        "print(newarray)\n",
        "print(newarray.dtype)"
      ],
      "execution_count": null,
      "outputs": [
        {
          "output_type": "stream",
          "text": [
            "[1 2 3 4]\n",
            "int64\n"
          ],
          "name": "stdout"
        }
      ]
    },
    {
      "cell_type": "code",
      "metadata": {
        "colab": {
          "base_uri": "https://localhost:8080/"
        },
        "id": "qwg9d-J651XM",
        "outputId": "6059b84e-62c6-4754-b811-7b74a516abba"
      },
      "source": [
        "import numpy as np\n",
        "c=np.array([1.23,2.34,3.44,4.44])\n",
        "newarray=c.astype(bool)\n",
        "print(newarray)\n",
        "print(newarray.dtype)"
      ],
      "execution_count": null,
      "outputs": [
        {
          "output_type": "stream",
          "text": [
            "[ True  True  True  True]\n",
            "bool\n"
          ],
          "name": "stdout"
        }
      ]
    },
    {
      "cell_type": "code",
      "metadata": {
        "colab": {
          "base_uri": "https://localhost:8080/"
        },
        "id": "mBvEFBdf56d3",
        "outputId": "19dfddc4-8f82-4978-c125-07706b1f7ef6"
      },
      "source": [
        "import numpy as np\n",
        "c=np.array([1.23,2.34,3.44,4.44])\n",
        "x=c.copy()\n",
        "print(x)\n",
        "print(x.dtype)"
      ],
      "execution_count": null,
      "outputs": [
        {
          "output_type": "stream",
          "text": [
            "[1.23 2.34 3.44 4.44]\n",
            "float64\n"
          ],
          "name": "stdout"
        }
      ]
    },
    {
      "cell_type": "code",
      "metadata": {
        "colab": {
          "base_uri": "https://localhost:8080/"
        },
        "id": "L2XoDs6N6Hrh",
        "outputId": "1fff0451-e7f6-4a09-95cc-5f1d8bdcb623"
      },
      "source": [
        "import numpy as np\n",
        "c=np.array([1.23,2.34,3.44,4.44])\n",
        "x=c.view()\n",
        "x[0]=34\n",
        "print(x)\n",
        "print(x.dtype)"
      ],
      "execution_count": null,
      "outputs": [
        {
          "output_type": "stream",
          "text": [
            "[34.    2.34  3.44  4.44]\n",
            "float64\n"
          ],
          "name": "stdout"
        }
      ]
    },
    {
      "cell_type": "code",
      "metadata": {
        "colab": {
          "base_uri": "https://localhost:8080/"
        },
        "id": "0F6Jk90u67dK",
        "outputId": "4a5c19fd-8474-4b3f-fbae-95bf88a78a4e"
      },
      "source": [
        "import numpy as np\n",
        "c=np.array([1.23,2.34,3.44,4.44])\n",
        "x=c.view()#print the value of base attribute at the end to check if ana rray owns its data or not\n",
        "y=c.copy()\n",
        "print(x)\n",
        "print(y)\n",
        "print(x.base)\n",
        "print(y.base)\n",
        "print(x.dtype)"
      ],
      "execution_count": null,
      "outputs": [
        {
          "output_type": "stream",
          "text": [
            "[1.23 2.34 3.44 4.44]\n",
            "[1.23 2.34 3.44 4.44]\n",
            "[1.23 2.34 3.44 4.44]\n",
            "None\n",
            "float64\n"
          ],
          "name": "stdout"
        }
      ]
    },
    {
      "cell_type": "code",
      "metadata": {
        "colab": {
          "base_uri": "https://localhost:8080/"
        },
        "id": "LiKU7dtA7gX3",
        "outputId": "f70faf31-6f2c-4122-f339-06743d64668b"
      },
      "source": [
        "import numpy as np\n",
        "c=np.array([1.23,2.34,3.44,4.44])\n",
        "y=np.array([[1,2,3,4,5],[6,7,8,9,10,]])\n",
        "print(c.shape)\n",
        "print(y.shape)"
      ],
      "execution_count": null,
      "outputs": [
        {
          "output_type": "stream",
          "text": [
            "(4,)\n",
            "(2, 5)\n"
          ],
          "name": "stdout"
        }
      ]
    },
    {
      "cell_type": "code",
      "metadata": {
        "colab": {
          "base_uri": "https://localhost:8080/"
        },
        "id": "NCsvdP-B8TBs",
        "outputId": "0da3098f-ea23-4bf2-ade9-df8e8478749a"
      },
      "source": [
        "import numpy as np\n",
        "c=np.array([1,2,3,4,5,6,7,8,9,10,11,12])\n",
        "newarray=c.reshape(4,3)\n",
        "print(c)\n",
        "print(newarray)"
      ],
      "execution_count": null,
      "outputs": [
        {
          "output_type": "stream",
          "text": [
            "[ 1  2  3  4  5  6  7  8  9 10 11 12]\n",
            "[[ 1  2  3]\n",
            " [ 4  5  6]\n",
            " [ 7  8  9]\n",
            " [10 11 12]]\n"
          ],
          "name": "stdout"
        }
      ]
    },
    {
      "cell_type": "code",
      "metadata": {
        "colab": {
          "base_uri": "https://localhost:8080/"
        },
        "id": "uLro1rXc811f",
        "outputId": "1a0c0838-6c1c-483b-c4c5-115ddc787ca2"
      },
      "source": [
        "import numpy as np\n",
        "c=np.array([1,2,3,4,5,6,7,8,9,10,11,12])\n",
        "newarray=c.reshape(2,3,2)\n",
        "print(c)\n",
        "print(newarray)"
      ],
      "execution_count": null,
      "outputs": [
        {
          "output_type": "stream",
          "text": [
            "[ 1  2  3  4  5  6  7  8  9 10 11 12]\n",
            "[[[ 1  2]\n",
            "  [ 3  4]\n",
            "  [ 5  6]]\n",
            "\n",
            " [[ 7  8]\n",
            "  [ 9 10]\n",
            "  [11 12]]]\n"
          ],
          "name": "stdout"
        }
      ]
    },
    {
      "cell_type": "code",
      "metadata": {
        "id": "wxg28Swp9sml",
        "colab": {
          "base_uri": "https://localhost:8080/"
        },
        "outputId": "d637996d-0dd1-4f78-d2d9-a48a28563802"
      },
      "source": [
        "import numpy as np\n",
        "arr=np.array([[1,2,3],[4,5,6]])\n",
        "newarray=arr.reshape(-1)\n",
        "print(newarray)"
      ],
      "execution_count": null,
      "outputs": [
        {
          "output_type": "stream",
          "text": [
            "[1 2 3 4 5 6]\n"
          ],
          "name": "stdout"
        }
      ]
    },
    {
      "cell_type": "code",
      "metadata": {
        "colab": {
          "base_uri": "https://localhost:8080/"
        },
        "id": "QIqW866st-LJ",
        "outputId": "85f6a713-4a9a-4474-dac1-cb7e969b488c"
      },
      "source": [
        "import numpy as np\n",
        "arr1=np.array([1,2,3])\n",
        "arr2=np.array([4,5,6])\n",
        "newarray=np.concatenate((arr1,arr2))\n",
        "print(arr1)\n",
        "print(arr2)\n",
        "print(newarray)"
      ],
      "execution_count": null,
      "outputs": [
        {
          "output_type": "stream",
          "text": [
            "[1 2 3]\n",
            "[4 5 6]\n",
            "[1 2 3 4 5 6]\n"
          ],
          "name": "stdout"
        }
      ]
    },
    {
      "cell_type": "code",
      "metadata": {
        "colab": {
          "base_uri": "https://localhost:8080/"
        },
        "id": "npuQjcnXu3le",
        "outputId": "09fa6bff-82a3-4adf-c3e0-4547426081aa"
      },
      "source": [
        "import numpy as np\n",
        "arr1=np.array([1,2,3])\n",
        "arr2=np.array([4,5,6])\n",
        "newarray=np.stack((arr1,arr2),axis=0)\n",
        "print(arr1)\n",
        "print(arr2)\n",
        "print(newarray)"
      ],
      "execution_count": null,
      "outputs": [
        {
          "output_type": "stream",
          "text": [
            "[1 2 3]\n",
            "[4 5 6]\n",
            "[[1 2 3]\n",
            " [4 5 6]]\n"
          ],
          "name": "stdout"
        }
      ]
    },
    {
      "cell_type": "code",
      "metadata": {
        "colab": {
          "base_uri": "https://localhost:8080/"
        },
        "id": "24oL3a__v2Hf",
        "outputId": "3d714d37-502d-4caf-e866-83820f5d1e6d"
      },
      "source": [
        "import numpy as np\n",
        "arr1=np.array([1,2,3])\n",
        "arr2=np.array([4,5,6])\n",
        "newarray=np.stack((arr1,arr2),axis=1)\n",
        "print(arr1)\n",
        "print(arr2)\n",
        "print(newarray)"
      ],
      "execution_count": null,
      "outputs": [
        {
          "output_type": "stream",
          "text": [
            "[1 2 3]\n",
            "[4 5 6]\n",
            "[[1 4]\n",
            " [2 5]\n",
            " [3 6]]\n"
          ],
          "name": "stdout"
        }
      ]
    },
    {
      "cell_type": "code",
      "metadata": {
        "colab": {
          "base_uri": "https://localhost:8080/"
        },
        "id": "3HXuS1WZwDsy",
        "outputId": "15e00cd9-1dfd-4a6d-d4be-335b45aede0d"
      },
      "source": [
        "import numpy as np\n",
        "arr1=np.array([1,2,3])\n",
        "arr2=np.array([4,5,6])\n",
        "newarray=np.hstack((arr1,arr2))\n",
        "print(arr1)\n",
        "print(arr2)\n",
        "print(newarray)"
      ],
      "execution_count": null,
      "outputs": [
        {
          "output_type": "stream",
          "text": [
            "[1 2 3]\n",
            "[4 5 6]\n",
            "[1 2 3 4 5 6]\n"
          ],
          "name": "stdout"
        }
      ]
    },
    {
      "cell_type": "code",
      "metadata": {
        "colab": {
          "base_uri": "https://localhost:8080/"
        },
        "id": "7hOkdQLxwSQe",
        "outputId": "f822f062-1bd3-477a-d23b-52f394ba4c81"
      },
      "source": [
        "import numpy as np\n",
        "arr1=np.array([1,2,3])\n",
        "arr2=np.array([4,5,6])\n",
        "newarray=np.vstack((arr1,arr2))\n",
        "print(arr1)\n",
        "print(arr2)\n",
        "print(newarray)"
      ],
      "execution_count": null,
      "outputs": [
        {
          "output_type": "stream",
          "text": [
            "[1 2 3]\n",
            "[4 5 6]\n",
            "[[1 2 3]\n",
            " [4 5 6]]\n"
          ],
          "name": "stdout"
        }
      ]
    },
    {
      "cell_type": "code",
      "metadata": {
        "colab": {
          "base_uri": "https://localhost:8080/"
        },
        "id": "CWxemFxvwcwv",
        "outputId": "862a8912-c42a-4d38-ae95-e1f39cfe0213"
      },
      "source": [
        "import numpy as np\n",
        "arr1=np.array([1,2,3])\n",
        "arr2=np.array([4,5,6])\n",
        "newarray=np.dstack((arr1,arr2))\n",
        "print(newarray)"
      ],
      "execution_count": null,
      "outputs": [
        {
          "output_type": "stream",
          "text": [
            "[[[1 4]\n",
            "  [2 5]\n",
            "  [3 6]]]\n"
          ],
          "name": "stdout"
        }
      ]
    },
    {
      "cell_type": "markdown",
      "metadata": {
        "id": "ZnuJ8SRrw4HG"
      },
      "source": [
        "***split the array***"
      ]
    },
    {
      "cell_type": "code",
      "metadata": {
        "colab": {
          "base_uri": "https://localhost:8080/"
        },
        "id": "zR-_FaY-wtDm",
        "outputId": "4ae79f76-c05c-4ff3-d9e7-7bf7f709bbc7"
      },
      "source": [
        "import numpy as np\n",
        "arr1=np.array([1,2,3,4,5,6])\n",
        "newarray=np.array_split(arr1,3)\n",
        "print(arr1)\n",
        "print(newarray)"
      ],
      "execution_count": null,
      "outputs": [
        {
          "output_type": "stream",
          "text": [
            "[1 2 3 4 5 6]\n",
            "[array([1, 2]), array([3, 4]), array([5, 6])]\n"
          ],
          "name": "stdout"
        }
      ]
    },
    {
      "cell_type": "code",
      "metadata": {
        "colab": {
          "base_uri": "https://localhost:8080/"
        },
        "id": "JcfFLTrixS_x",
        "outputId": "3e4f94a4-6823-4aba-b5c2-f07cc0a6a59a"
      },
      "source": [
        "import numpy as np\n",
        "arr1=np.array([1,2,3,4,5,6])\n",
        "newarray=np.array_split(arr1,4)\n",
        "print(arr1)\n",
        "print(newarray)"
      ],
      "execution_count": null,
      "outputs": [
        {
          "output_type": "stream",
          "text": [
            "[1 2 3 4 5 6]\n",
            "[array([1, 2]), array([3, 4]), array([5]), array([6])]\n"
          ],
          "name": "stdout"
        }
      ]
    },
    {
      "cell_type": "code",
      "metadata": {
        "colab": {
          "base_uri": "https://localhost:8080/"
        },
        "id": "xJ2q3Wz3xius",
        "outputId": "66cf5d6f-07ea-4ea7-ed8e-eebe582542d6"
      },
      "source": [
        "import numpy as np\n",
        "arr=np.array([1,2,3,4,5,6])\n",
        "newarray=np.array_split(arr,3)\n",
        "print(newarray[0])\n",
        "print(newarray[1])\n",
        "print(newarray[2])"
      ],
      "execution_count": null,
      "outputs": [
        {
          "output_type": "stream",
          "text": [
            "[1 2]\n",
            "[3 4]\n",
            "[5 6]\n"
          ],
          "name": "stdout"
        }
      ]
    },
    {
      "cell_type": "code",
      "metadata": {
        "colab": {
          "base_uri": "https://localhost:8080/"
        },
        "id": "CJIag82o0ET3",
        "outputId": "3618cf7a-5095-47a6-c792-d0008811d86e"
      },
      "source": [
        "import numpy as np\n",
        "arr=np.array([1,2,3,4,5,4,4])\n",
        "newarray=np.where(arr==3)\n",
        "print(newarray)"
      ],
      "execution_count": null,
      "outputs": [
        {
          "output_type": "stream",
          "text": [
            "(array([2]),)\n"
          ],
          "name": "stdout"
        }
      ]
    },
    {
      "cell_type": "code",
      "metadata": {
        "colab": {
          "base_uri": "https://localhost:8080/"
        },
        "id": "EBlqfm3QyRum",
        "outputId": "1cea4a0e-c46d-4ba6-aff8-b1e43e52b2b5"
      },
      "source": [
        "import numpy as np\n",
        "arr=np.array([1,2,3,4,5,4,4])\n",
        "newarray=np.where(arr==4)\n",
        "print(newarray)"
      ],
      "execution_count": null,
      "outputs": [
        {
          "output_type": "stream",
          "text": [
            "(array([3, 5, 6]),)\n"
          ],
          "name": "stdout"
        }
      ]
    },
    {
      "cell_type": "code",
      "metadata": {
        "colab": {
          "base_uri": "https://localhost:8080/"
        },
        "id": "CFQlAuz_z3-Z",
        "outputId": "b8b8fb37-8121-429a-af5c-cd4e36db31fe"
      },
      "source": [
        "import numpy as np\n",
        "arr=np.array([1,2,3,4,5,6,7,8])\n",
        "newarray=np.where(arr%2==0)\n",
        "print(newarray)"
      ],
      "execution_count": null,
      "outputs": [
        {
          "output_type": "stream",
          "text": [
            "(array([1, 3, 5, 7]),)\n"
          ],
          "name": "stdout"
        }
      ]
    },
    {
      "cell_type": "code",
      "metadata": {
        "colab": {
          "base_uri": "https://localhost:8080/"
        },
        "id": "tDLmACO-0e27",
        "outputId": "38878fe0-f727-4dd3-9ed1-64df3b6a64d1"
      },
      "source": [
        "import numpy as np\n",
        "arr=np.array([1,2,3,4,5,6,7,8])\n",
        "newarray=np.where(arr%2==1)\n",
        "print(newarray)"
      ],
      "execution_count": null,
      "outputs": [
        {
          "output_type": "stream",
          "text": [
            "(array([0, 2, 4, 6]),)\n"
          ],
          "name": "stdout"
        }
      ]
    },
    {
      "cell_type": "code",
      "metadata": {
        "colab": {
          "base_uri": "https://localhost:8080/"
        },
        "id": "ETeVdoXG0mFx",
        "outputId": "fa960855-1bf8-4db1-f7c7-ff26ded0a950"
      },
      "source": [
        "import numpy as np\n",
        "arr=np.array([6,7,8,9])\n",
        "newarray=np.searchsorted(arr,7)\n",
        "print(newarray)"
      ],
      "execution_count": null,
      "outputs": [
        {
          "output_type": "stream",
          "text": [
            "1\n"
          ],
          "name": "stdout"
        }
      ]
    },
    {
      "cell_type": "code",
      "metadata": {
        "colab": {
          "base_uri": "https://localhost:8080/"
        },
        "id": "eCGo8WmT1Odb",
        "outputId": "85accc0e-1184-419f-84de-1012f7d9e0f7"
      },
      "source": [
        "import numpy as np\n",
        "arr=np.array([1,2,3,4,5,6,7,8])\n",
        "newarray=np.where(arr==7)\n",
        "print(newarray)"
      ],
      "execution_count": null,
      "outputs": [
        {
          "output_type": "stream",
          "text": [
            "(array([6]),)\n"
          ],
          "name": "stdout"
        }
      ]
    },
    {
      "cell_type": "code",
      "metadata": {
        "colab": {
          "base_uri": "https://localhost:8080/"
        },
        "id": "hWGUcPre1sLq",
        "outputId": "d420aac6-46ea-486c-e2f2-b13764501f93"
      },
      "source": [
        "import numpy as np\n",
        "arr=np.array([6,7,8,9])\n",
        "newarray=np.searchsorted(arr,7,side='right')\n",
        "print(newarray)"
      ],
      "execution_count": null,
      "outputs": [
        {
          "output_type": "stream",
          "text": [
            "2\n"
          ],
          "name": "stdout"
        }
      ]
    },
    {
      "cell_type": "code",
      "metadata": {
        "colab": {
          "base_uri": "https://localhost:8080/"
        },
        "id": "cSXorsUi19x_",
        "outputId": "3de78036-64a7-47c1-c270-dbd5a5b18a3b"
      },
      "source": [
        "import numpy as np\n",
        "arr=np.array([41,42,43,44])\n",
        "x=arr[[True,False,True,False]]\n",
        "print(x)"
      ],
      "execution_count": null,
      "outputs": [
        {
          "output_type": "stream",
          "text": [
            "[41 43]\n"
          ],
          "name": "stdout"
        }
      ]
    },
    {
      "cell_type": "code",
      "metadata": {
        "colab": {
          "base_uri": "https://localhost:8080/"
        },
        "id": "1fMu1UIu232G",
        "outputId": "67e01dc4-90d6-446c-9603-96c2a541bb45"
      },
      "source": [
        "import numpy as np\n",
        "arr=np.array([1,2,3,5])\n",
        "x=arr[[True,True,True,False]]\n",
        "print(x)"
      ],
      "execution_count": null,
      "outputs": [
        {
          "output_type": "stream",
          "text": [
            "[1 2 3]\n"
          ],
          "name": "stdout"
        }
      ]
    },
    {
      "cell_type": "code",
      "metadata": {
        "colab": {
          "base_uri": "https://localhost:8080/"
        },
        "id": "uUvjfNE43MBo",
        "outputId": "936d09b1-777b-48d0-91e5-ad3b76d39d81"
      },
      "source": [
        "import numpy as np\n",
        "arr=np.array([1,2,3,5])\n",
        "filter_arr=arr>2\n",
        "newarray=arr[filter_arr]\n",
        "print(filter_arr)\n",
        "print(newarray)"
      ],
      "execution_count": null,
      "outputs": [
        {
          "output_type": "stream",
          "text": [
            "[False False  True  True]\n",
            "[3 5]\n"
          ],
          "name": "stdout"
        }
      ]
    },
    {
      "cell_type": "markdown",
      "metadata": {
        "id": "XmQAqwXh4son"
      },
      "source": [
        "what is Matplotlib?-Matplotlib is a comprehensive library for creating static, animated, and interactive visualizations in Python"
      ]
    },
    {
      "cell_type": "code",
      "metadata": {
        "colab": {
          "base_uri": "https://localhost:8080/"
        },
        "id": "s9MfE93G4EhV",
        "outputId": "3c9c9e57-e546-4887-e91f-30078dca4715"
      },
      "source": [
        "import matplotlib\n",
        "print(matplotlib.__version__)"
      ],
      "execution_count": null,
      "outputs": [
        {
          "output_type": "stream",
          "text": [
            "3.2.2\n"
          ],
          "name": "stdout"
        }
      ]
    },
    {
      "cell_type": "code",
      "metadata": {
        "colab": {
          "base_uri": "https://localhost:8080/",
          "height": 265
        },
        "id": "sEY75qKq5MGv",
        "outputId": "22bd8d39-9816-41bf-d133-f729d311a184"
      },
      "source": [
        "import matplotlib.pyplot as plt\n",
        "import numpy as np\n",
        "xpoints=np.array([0,6])\n",
        "ypoints=np.array([0,6])\n",
        "plt.plot(xpoints,ypoints)\n",
        "plt.show()"
      ],
      "execution_count": null,
      "outputs": [
        {
          "output_type": "display_data",
          "data": {
            "image/png": "[encoded data removed]",
            "text/plain": [
              "<Figure size 432x288 with 1 Axes>"
            ]
          },
          "metadata": {
            "tags": [],
            "needs_background": "light"
          }
        }
      ]
    },
    {
      "cell_type": "code",
      "metadata": {
        "colab": {
          "base_uri": "https://localhost:8080/",
          "height": 265
        },
        "id": "S1tSxipo6WBo",
        "outputId": "54a82f54-24a9-44d7-ea85-39d469c661ba"
      },
      "source": [
        "import matplotlib.pyplot as plt\n",
        "import numpy as np\n",
        "xpoints=np.array([1,8])\n",
        "ypoints=np.array([3,10])\n",
        "plt.plot(xpoints,ypoints)\n",
        "plt.show()"
      ],
      "execution_count": null,
      "outputs": [
        {
          "output_type": "display_data",
          "data": {
            "image/png": "[encoded data removed]",
            "text/plain": [
              "<Figure size 432x288 with 1 Axes>"
            ]
          },
          "metadata": {
            "tags": [],
            "needs_background": "light"
          }
        }
      ]
    },
    {
      "cell_type": "code",
      "metadata": {
        "colab": {
          "base_uri": "https://localhost:8080/",
          "height": 265
        },
        "id": "e_lmPh5b6gFk",
        "outputId": "05acf533-e802-4128-ea71-fa7e98aa2810"
      },
      "source": [
        "import matplotlib.pyplot as plt\n",
        "import numpy as np\n",
        "xpoints=np.array([1,8])\n",
        "ypoints=np.array([3,10])\n",
        "plt.plot(xpoints,ypoints,'o')\n",
        "plt.show()"
      ],
      "execution_count": null,
      "outputs": [
        {
          "output_type": "display_data",
          "data": {
            "image/png": "[encoded data removed]",
            "text/plain": [
              "<Figure size 432x288 with 1 Axes>"
            ]
          },
          "metadata": {
            "tags": [],
            "needs_background": "light"
          }
        }
      ]
    },
    {
      "cell_type": "code",
      "metadata": {
        "colab": {
          "base_uri": "https://localhost:8080/",
          "height": 265
        },
        "id": "OycTUAKA76HW",
        "outputId": "6e783597-b15b-45b7-b6ed-cdfd8e57f045"
      },
      "source": [
        "import matplotlib.pyplot as plt\n",
        "import numpy as np\n",
        "xpoints=np.array([1,2,6,8])\n",
        "ypoints=np.array([3,8,1,10])\n",
        "plt.plot(xpoints,ypoints)\n",
        "plt.show()"
      ],
      "execution_count": null,
      "outputs": [
        {
          "output_type": "display_data",
          "data": {
            "image/png": "[encoded data removed]",
            "text/plain": [
              "<Figure size 432x288 with 1 Axes>"
            ]
          },
          "metadata": {
            "tags": [],
            "needs_background": "light"
          }
        }
      ]
    },
    {
      "cell_type": "code",
      "metadata": {
        "colab": {
          "base_uri": "https://localhost:8080/",
          "height": 265
        },
        "id": "TC85S_u18C3T",
        "outputId": "7927e5c2-0757-4888-b353-a3df9dbff7cd"
      },
      "source": [
        "import matplotlib.pyplot as plt\n",
        "import numpy as np\n",
        "xpoints=np.array([1,2,6,8])\n",
        "plt.plot(xpoints)\n",
        "plt.show()"
      ],
      "execution_count": null,
      "outputs": [
        {
          "output_type": "display_data",
          "data": {
            "image/png": "[encoded data removed]",
            "text/plain": [
              "<Figure size 432x288 with 1 Axes>"
            ]
          },
          "metadata": {
            "tags": [],
            "needs_background": "light"
          }
        }
      ]
    },
    {
      "cell_type": "code",
      "metadata": {
        "colab": {
          "base_uri": "https://localhost:8080/",
          "height": 265
        },
        "id": "q0Hq5jdz8cNB",
        "outputId": "8d215973-bea9-4f96-d660-7fceaf449cd7"
      },
      "source": [
        "import matplotlib.pyplot as plt\n",
        "import numpy as np\n",
        "xpoints=np.array([1,2,6,8])\n",
        "plt.plot(xpoints, marker='o')\n",
        "plt.show()"
      ],
      "execution_count": null,
      "outputs": [
        {
          "output_type": "display_data",
          "data": {
            "image/png": "[encoded data removed]",
            "text/plain": [
              "<Figure size 432x288 with 1 Axes>"
            ]
          },
          "metadata": {
            "tags": [],
            "needs_background": "light"
          }
        }
      ]
    },
    {
      "cell_type": "code",
      "metadata": {
        "colab": {
          "base_uri": "https://localhost:8080/",
          "height": 265
        },
        "id": "AabCKd8o8sxs",
        "outputId": "44ed2f50-1a23-443d-8a36-05057b5fe6f1"
      },
      "source": [
        "import matplotlib.pyplot as plt\n",
        "import numpy as np\n",
        "xpoints=np.array([1,2,6,8])\n",
        "plt.plot(xpoints,marker='*')\n",
        "plt.show()"
      ],
      "execution_count": null,
      "outputs": [
        {
          "output_type": "display_data",
          "data": {
            "image/png": "[encoded data removed]",
            "text/plain": [
              "<Figure size 432x288 with 1 Axes>"
            ]
          },
          "metadata": {
            "tags": [],
            "needs_background": "light"
          }
        }
      ]
    },
    {
      "cell_type": "code",
      "metadata": {
        "colab": {
          "base_uri": "https://localhost:8080/",
          "height": 265
        },
        "id": "Aqu8mIPZ8w9-",
        "outputId": "86be6d06-6d76-4649-f3cf-636fbaa4a306"
      },
      "source": [
        "import matplotlib.pyplot as plt\n",
        "import numpy as np\n",
        "xpoints=np.array([1,2,6,8])\n",
        "plt.plot(xpoints,'o:r')\n",
        "plt.show()"
      ],
      "execution_count": null,
      "outputs": [
        {
          "output_type": "display_data",
          "data": {
            "image/png": "[encoded data removed]",
            "text/plain": [
              "<Figure size 432x288 with 1 Axes>"
            ]
          },
          "metadata": {
            "tags": [],
            "needs_background": "light"
          }
        }
      ]
    },
    {
      "cell_type": "code",
      "metadata": {
        "colab": {
          "base_uri": "https://localhost:8080/",
          "height": 265
        },
        "id": "XrhsJskX9SQ4",
        "outputId": "733d02f9-3dc3-4a2c-bd47-43ac5b868b42"
      },
      "source": [
        "import matplotlib.pyplot as plt\n",
        "import numpy as np\n",
        "xpoints=np.array([1,2,6,8])\n",
        "plt.plot(xpoints,'o-b')\n",
        "plt.show()"
      ],
      "execution_count": null,
      "outputs": [
        {
          "output_type": "display_data",
          "data": {
            "image/png": "[encoded data removed]",
            "text/plain": [
              "<Figure size 432x288 with 1 Axes>"
            ]
          },
          "metadata": {
            "tags": [],
            "needs_background": "light"
          }
        }
      ]
    },
    {
      "cell_type": "code",
      "metadata": {
        "colab": {
          "base_uri": "https://localhost:8080/",
          "height": 265
        },
        "id": "SmzThARh9iyC",
        "outputId": "461dbd1a-a876-47be-a1a2-af1bbd82caa0"
      },
      "source": [
        "import matplotlib.pyplot as plt\n",
        "import numpy as np\n",
        "xpoints=np.array([1,2,6,8])\n",
        "plt.plot(xpoints,'o--b')\n",
        "plt.show()"
      ],
      "execution_count": null,
      "outputs": [
        {
          "output_type": "display_data",
          "data": {
            "image/png": "[encoded data removed]",
            "text/plain": [
              "<Figure size 432x288 with 1 Axes>"
            ]
          },
          "metadata": {
            "tags": [],
            "needs_background": "light"
          }
        }
      ]
    },
    {
      "cell_type": "code",
      "metadata": {
        "colab": {
          "base_uri": "https://localhost:8080/",
          "height": 265
        },
        "id": "jlsTp4vp9sTf",
        "outputId": "c545bad3-a8bb-414b-fb1b-c4b786dcad6c"
      },
      "source": [
        "import matplotlib.pyplot as plt\n",
        "import numpy as np\n",
        "xpoints=np.array([1,2,6,8])\n",
        "plt.plot(xpoints,'o-.b')\n",
        "plt.show()"
      ],
      "execution_count": null,
      "outputs": [
        {
          "output_type": "display_data",
          "data": {
            "image/png": "[encoded data removed]",
            "text/plain": [
              "<Figure size 432x288 with 1 Axes>"
            ]
          },
          "metadata": {
            "tags": [],
            "needs_background": "light"
          }
        }
      ]
    },
    {
      "cell_type": "code",
      "metadata": {
        "colab": {
          "base_uri": "https://localhost:8080/",
          "height": 282
        },
        "id": "agrD3Lfs9yzq",
        "outputId": "ecfaba11-dc36-4b18-b8c4-e103868fc616"
      },
      "source": [
        "import matplotlib.pyplot as plt\n",
        "import numpy as np\n",
        "x=np.array([0,1,2,3])\n",
        "y=np.array([3,5,2,10])\n",
        "plt.subplot(1,2,1)\n",
        "plt.plot(x,y)"
      ],
      "execution_count": null,
      "outputs": [
        {
          "output_type": "execute_result",
          "data": {
            "text/plain": [
              "[<matplotlib.lines.Line2D at 0x7f8c83dad208>]"
            ]
          },
          "metadata": {
            "tags": []
          },
          "execution_count": 795
        },
        {
          "output_type": "display_data",
          "data": {
            "image/png": "[encoded data removed]",
            "text/plain": [
              "<Figure size 432x288 with 1 Axes>"
            ]
          },
          "metadata": {
            "tags": [],
            "needs_background": "light"
          }
        }
      ]
    },
    {
      "cell_type": "code",
      "metadata": {
        "colab": {
          "base_uri": "https://localhost:8080/",
          "height": 265
        },
        "id": "kq4WNVKW-kFV",
        "outputId": "9acd9d64-fc5c-47f5-ab4e-0e043bef2794"
      },
      "source": [
        "import matplotlib.pyplot as plt\n",
        "import numpy as np\n",
        "\n",
        "x=np.array([0,1,2,3])\n",
        "y=np.array([3,5,2,10])\n",
        "\n",
        "plt.subplot(2,1,1)\n",
        "plt.plot(x,y)\n",
        "\n",
        "x=np.array([0,1,2,3])\n",
        "y=np.array([13,25,32,40])\n",
        "plt.subplot(2,1,2)\n",
        "plt.plot(x,y)\n",
        "\n",
        "plt.show()"
      ],
      "execution_count": null,
      "outputs": [
        {
          "output_type": "display_data",
          "data": {
            "image/png": "[encoded data removed]",
            "text/plain": [
              "<Figure size 432x288 with 2 Axes>"
            ]
          },
          "metadata": {
            "tags": [],
            "needs_background": "light"
          }
        }
      ]
    },
    {
      "cell_type": "code",
      "metadata": {
        "colab": {
          "base_uri": "https://localhost:8080/",
          "height": 265
        },
        "id": "BDFwkeLY_p6m",
        "outputId": "2139dd6b-6549-4360-acf9-fabadd5d687f"
      },
      "source": [
        "import matplotlib.pyplot as plt\n",
        "import numpy as np\n",
        "x = np.array([0,1,2,3])\n",
        "y = np.array([3,5,2,10])\n",
        "plt.subplot(2,3,1)\n",
        "plt.plot(x,y)\n",
        "\n",
        "x = np.array([0,1,2,3])\n",
        "y = np.array([13,25,32,40])\n",
        "plt.subplot(2,3,2)\n",
        "plt.plot(x,y)\n",
        "\n",
        "x = np.array([2,13,2,13])\n",
        "y = np.array([13,5,32,40])\n",
        "plt.subplot(2,3,3)\n",
        "plt.plot(x,y)\n",
        "\n",
        "x = np.array([10,11,12,13])\n",
        "y = np.array([3,5,32,20])\n",
        "plt.subplot(2,3,4)\n",
        "plt.plot(x,y)\n",
        "\n",
        "x = np.array([12,13,2,113])\n",
        "y = np.array([13,15,132,40])\n",
        "plt.subplot(2,3,5)\n",
        "plt.plot(x,y)\n",
        "\n",
        "plt.show()"
      ],
      "execution_count": null,
      "outputs": [
        {
          "output_type": "display_data",
          "data": {
            "image/png": "[encoded data removed]",
            "text/plain": [
              "<Figure size 432x288 with 5 Axes>"
            ]
          },
          "metadata": {
            "tags": [],
            "needs_background": "light"
          }
        }
      ]
    },
    {
      "cell_type": "code",
      "metadata": {
        "colab": {
          "base_uri": "https://localhost:8080/",
          "height": 294
        },
        "id": "iCS53-NFAfpd",
        "outputId": "d4579d8c-81e3-4ea0-a48a-0c349d48e93d"
      },
      "source": [
        "import matplotlib.pyplot as plt\n",
        "import numpy as np\n",
        "\n",
        "x=np.array([0,1,2,3])\n",
        "y=np.array([3,5,2,10])\n",
        "\n",
        "plt.subplot(1,2,1)\n",
        "plt.plot(x,y)\n",
        "plt.title('SALES')\n",
        "\n",
        "x=np.array([0,1,2,3])\n",
        "y=np.array([13,25,32,40])\n",
        "plt.subplot(1,2,2)\n",
        "plt.plot(x,y)\n",
        "plt.title('INCOME')\n",
        "plt.suptitle('WORKSHOP OF ACHARYA COLLEGE')\n",
        "plt.show()"
      ],
      "execution_count": null,
      "outputs": [
        {
          "output_type": "display_data",
          "data": {
            "image/png": "[encoded data removed]",
            "text/plain": [
              "<Figure size 432x288 with 2 Axes>"
            ]
          },
          "metadata": {
            "tags": [],
            "needs_background": "light"
          }
        }
      ]
    },
    {
      "cell_type": "code",
      "metadata": {
        "colab": {
          "base_uri": "https://localhost:8080/",
          "height": 294
        },
        "id": "Z3azVjGzBAiO",
        "outputId": "17e46864-0145-48cf-b6b7-c3634ba91084"
      },
      "source": [
        "import matplotlib.pyplot as plt\n",
        "import numpy as np\n",
        "\n",
        "x=np.array([10,20,30,40])\n",
        "y=np.array([30,40,50,60])\n",
        "\n",
        "plt.subplot(1,2,1)\n",
        "plt.plot(x,y)\n",
        "plt.title('first')\n",
        "\n",
        "x=np.array([50,60,70,80])\n",
        "y=np.array([40,50,60,70])\n",
        "plt.subplot(1,2,2)\n",
        "plt.plot(x,y)\n",
        "plt.title('second')\n",
        "plt.suptitle('first & second')\n",
        "\n",
        "plt.show()"
      ],
      "execution_count": null,
      "outputs": [
        {
          "output_type": "display_data",
          "data": {
            "image/png": "[encoded data removed]",
            "text/plain": [
              "<Figure size 432x288 with 2 Axes>"
            ]
          },
          "metadata": {
            "tags": [],
            "needs_background": "light"
          }
        }
      ]
    },
    {
      "cell_type": "code",
      "metadata": {
        "colab": {
          "base_uri": "https://localhost:8080/",
          "height": 281
        },
        "id": "XWa0ORw-CTsX",
        "outputId": "17251a53-514d-4138-bd5e-82ebb81a2a0a"
      },
      "source": [
        "import matplotlib.pyplot as plt\n",
        "import numpy as np\n",
        "\n",
        "x=np.array([0,1,3,5,2,7,6,9,3,4,0,1,4,7,6,8])\n",
        "y=np.array([5,8,1,0,4,9,7,3,2,5,7,3,5,2,4,6])\n",
        "\n",
        "plt.scatter(x,y)\n",
        "plt.title('scatter plot')\n",
        "plt.show()"
      ],
      "execution_count": null,
      "outputs": [
        {
          "output_type": "display_data",
          "data": {
            "image/png": "[encoded data removed]",
            "text/plain": [
              "<Figure size 432x288 with 1 Axes>"
            ]
          },
          "metadata": {
            "tags": [],
            "needs_background": "light"
          }
        }
      ]
    },
    {
      "cell_type": "code",
      "metadata": {
        "colab": {
          "base_uri": "https://localhost:8080/",
          "height": 281
        },
        "id": "6T7mmod8DMeo",
        "outputId": "c50f3bf3-76a9-4653-864c-1832c9e7cedc"
      },
      "source": [
        "import matplotlib.pyplot as plt\n",
        "import numpy as np\n",
        "\n",
        "x=np.array([0,1,3,5,2,7,6,9,3,4,0,1,4,7,6,8])\n",
        "y=np.array([5,8,1,0,4,9,7,3,2,5,7,3,5,2,4,6])\n",
        "plt.scatter(x,y)\n",
        "\n",
        "x=np.array([1,2,3,4,5,6,3,7,4,7,5,8,9,3,5,6,7])\n",
        "y=np.array([9,8,7,6,5,4,2,8,4,6,4,6,4,6,4,2,1])\n",
        "plt.scatter(x,y)\n",
        "plt.title('scatter plot')\n",
        "plt.show()"
      ],
      "execution_count": null,
      "outputs": [
        {
          "output_type": "display_data",
          "data": {
            "image/png": "[encoded data removed]",
            "text/plain": [
              "<Figure size 432x288 with 1 Axes>"
            ]
          },
          "metadata": {
            "tags": [],
            "needs_background": "light"
          }
        }
      ]
    },
    {
      "cell_type": "code",
      "metadata": {
        "colab": {
          "base_uri": "https://localhost:8080/",
          "height": 281
        },
        "id": "lJyjO9K5D1GT",
        "outputId": "0634ad46-9857-4b35-f794-458149d8e7ef"
      },
      "source": [
        "import matplotlib.pyplot as plt\n",
        "import numpy as np\n",
        "\n",
        "x=np.array([0,1,3,5,2,7,6,9,3,4,0,1,4,7,6,8])\n",
        "y=np.array([5,8,1,0,4,9,7,3,2,5,7,3,5,2,4,6])\n",
        "plt.scatter(x,y, color='red')\n",
        "\n",
        "x=np.array([1,2,3,4,5,6,3,7,4,7,5,8,9,3,5,6,7])\n",
        "y=np.array([9,8,7,6,5,4,2,8,4,6,4,6,4,6,4,2,1])\n",
        "plt.scatter(x,y, color='black')\n",
        "plt.title('scatter plot')\n",
        "plt.show()"
      ],
      "execution_count": null,
      "outputs": [
        {
          "output_type": "display_data",
          "data": {
            "image/png": "[encoded data removed]",
            "text/plain": [
              "<Figure size 432x288 with 1 Axes>"
            ]
          },
          "metadata": {
            "tags": [],
            "needs_background": "light"
          }
        }
      ]
    },
    {
      "cell_type": "code",
      "metadata": {
        "colab": {
          "base_uri": "https://localhost:8080/",
          "height": 281
        },
        "id": "iLZwkctsEDlD",
        "outputId": "a8363724-7974-40b9-9979-bdb37468681e"
      },
      "source": [
        "import matplotlib.pyplot as plt\n",
        "import numpy as np\n",
        "\n",
        "x=np.array([0,1,3,5,2,7,6,9,3,4,0,1,4,7,6,8])\n",
        "y=np.array([5,8,1,0,4,9,7,3,2,5,7,3,5,2,4,6])\n",
        "plt.scatter(x,y, color='r')\n",
        "\n",
        "x=np.array([1,2,3,4,5,6,3,7,4,7,5,8,9,3,5,6,7])\n",
        "y=np.array([9,8,7,6,5,4,2,8,4,6,4,6,4,6,4,2,1])\n",
        "plt.scatter(x,y, color='b')\n",
        "plt.title('scatter plot')\n",
        "plt.show()"
      ],
      "execution_count": null,
      "outputs": [
        {
          "output_type": "display_data",
          "data": {
            "image/png": "[encoded data removed]",
            "text/plain": [
              "<Figure size 432x288 with 1 Axes>"
            ]
          },
          "metadata": {
            "tags": [],
            "needs_background": "light"
          }
        }
      ]
    },
    {
      "cell_type": "code",
      "metadata": {
        "id": "Gcbqc3FpEiyT",
        "colab": {
          "base_uri": "https://localhost:8080/",
          "height": 265
        },
        "outputId": "04f9c66f-313b-42fc-8d6b-c6ceb1d47c60"
      },
      "source": [
        "import matplotlib.pyplot as plt\r\n",
        "import numpy as np\r\n",
        "\r\n",
        "x=np.array([1,3,5,3,6,8,4,6,8,9,1])\r\n",
        "y=np.array([99,86,54,32,98,111,87,44,13,90,99])\r\n",
        "colors =np.array([0,10,20,30,40,50,60,70,80,90,100])\r\n",
        "plt.scatter(x,y,c=colors,cmap='viridis')\r\n",
        "plt.show()"
      ],
      "execution_count": null,
      "outputs": [
        {
          "output_type": "display_data",
          "data": {
            "image/png": "[encoded data removed]",
            "text/plain": [
              "<Figure size 432x288 with 1 Axes>"
            ]
          },
          "metadata": {
            "tags": [],
            "needs_background": "light"
          }
        }
      ]
    },
    {
      "cell_type": "code",
      "metadata": {
        "colab": {
          "base_uri": "https://localhost:8080/",
          "height": 269
        },
        "id": "wxM_kjdH_CyE",
        "outputId": "172acb56-4555-43bf-d6ad-73bf2ec6d3ec"
      },
      "source": [
        "import matplotlib.pyplot as plt\r\n",
        "import numpy as np\r\n",
        "\r\n",
        "x=np.array([1,3,5,3,6,8,4,6,8,9,1])\r\n",
        "y=np.array([99,86,54,32,98,111,87,44,13,90,99])\r\n",
        "colors =np.array([0,10,20,30,40,50,60,70,80,90,100])\r\n",
        "plt.scatter(x,y,c=colors,cmap='viridis')\r\n",
        "plt.colorbar()\r\n",
        "plt.show()"
      ],
      "execution_count": null,
      "outputs": [
        {
          "output_type": "display_data",
          "data": {
            "image/png": "[encoded data removed]",
            "text/plain": [
              "<Figure size 432x288 with 2 Axes>"
            ]
          },
          "metadata": {
            "tags": [],
            "needs_background": "light"
          }
        }
      ]
    },
    {
      "cell_type": "code",
      "metadata": {
        "colab": {
          "base_uri": "https://localhost:8080/",
          "height": 265
        },
        "id": "-jvH-Rrv_vbK",
        "outputId": "30223e64-d6a4-42ad-8162-1cf80ad2a22b"
      },
      "source": [
        "import matplotlib.pyplot as plt\r\n",
        "import numpy as np\r\n",
        "\r\n",
        "x=np.array([1,3,5,3,6,8,4,6,8,9,1])\r\n",
        "y=np.array([99,86,54,32,98,111,87,44,13,90,99])\r\n",
        "colors =np.array([0,10,20,30,40,50,60,70,80,90,100])\r\n",
        "plt.scatter(x,y,c=colors,cmap='Accent')\r\n",
        "plt.show()"
      ],
      "execution_count": null,
      "outputs": [
        {
          "output_type": "display_data",
          "data": {
            "image/png": "[encoded data removed]",
            "text/plain": [
              "<Figure size 432x288 with 1 Axes>"
            ]
          },
          "metadata": {
            "tags": [],
            "needs_background": "light"
          }
        }
      ]
    },
    {
      "cell_type": "code",
      "metadata": {
        "colab": {
          "base_uri": "https://localhost:8080/",
          "height": 269
        },
        "id": "pjJKV9dhAEfJ",
        "outputId": "e3a3772f-21b5-433c-c4e7-b094b218e608"
      },
      "source": [
        "import matplotlib.pyplot as plt\r\n",
        "import numpy as np\r\n",
        "\r\n",
        "x=np.array([1,3,5,3,6,8,4,6,8,9,1])\r\n",
        "y=np.array([99,86,54,32,98,111,87,44,13,90,99])\r\n",
        "sizes =np.array([0,10,20,30,40,50,60,70,80,90,100])\r\n",
        "plt.scatter(x,y,s=sizes,alpha=0.5)\r\n",
        "plt.colorbar()\r\n",
        "plt.show()"
      ],
      "execution_count": null,
      "outputs": [
        {
          "output_type": "display_data",
          "data": {
            "image/png": "[encoded data removed]",
            "text/plain": [
              "<Figure size 432x288 with 2 Axes>"
            ]
          },
          "metadata": {
            "tags": [],
            "needs_background": "light"
          }
        }
      ]
    },
    {
      "cell_type": "code",
      "metadata": {
        "colab": {
          "base_uri": "https://localhost:8080/",
          "height": 265
        },
        "id": "T2-rNnfvAnI7",
        "outputId": "9f93c7b9-90b6-4ea4-c464-e2c1ce3c7e99"
      },
      "source": [
        "import matplotlib.pyplot as plt\r\n",
        "import numpy as np\r\n",
        "\r\n",
        "x =np.random.randint(100,size=(100))\r\n",
        "y =np.random.randint(100,size=(100))\r\n",
        "colors =np.random.randint(100,size=(100))\r\n",
        "sizes =10*np.random.randint(100,size=(100))\r\n",
        "plt.scatter(x,y,c=colors,s=sizes,alpha=0.7,cmap='nipy_spectral')\r\n",
        "plt.show()"
      ],
      "execution_count": null,
      "outputs": [
        {
          "output_type": "display_data",
          "data": {
            "image/png": "[encoded data removed]",
            "text/plain": [
              "<Figure size 432x288 with 1 Axes>"
            ]
          },
          "metadata": {
            "tags": [],
            "needs_background": "light"
          }
        }
      ]
    },
    {
      "cell_type": "code",
      "metadata": {
        "colab": {
          "base_uri": "https://localhost:8080/",
          "height": 265
        },
        "id": "341XAg-MB_37",
        "outputId": "4b977814-dc97-430a-b963-95bebcf636b9"
      },
      "source": [
        "import matplotlib.pyplot as plt\r\n",
        "import numpy as np\r\n",
        "\r\n",
        "x = np.random.randint(100,size=(100))\r\n",
        "y = np.random.randint(100,size=(100))\r\n",
        "colors = np.random.randint(100,size=(100))\r\n",
        "sizes = 10 * np.random.randint(100,size=(100))\r\n",
        "\r\n",
        "plt.scatter(x,y,c=colors,s=sizes,alpha=0.5,cmap='nipy_spectral')\r\n",
        "plt.colorbar()\r\n",
        "\r\n",
        "plt.show()"
      ],
      "execution_count": null,
      "outputs": [
        {
          "output_type": "display_data",
          "data": {
            "image/png": "[encoded data removed]",
            "text/plain": [
              "<Figure size 432x288 with 2 Axes>"
            ]
          },
          "metadata": {
            "tags": [],
            "needs_background": "light"
          }
        }
      ]
    },
    {
      "cell_type": "markdown",
      "metadata": {
        "id": "CBynGjcnCX-N"
      },
      "source": [
        "***bar plots/charts***"
      ]
    },
    {
      "cell_type": "code",
      "metadata": {
        "colab": {
          "base_uri": "https://localhost:8080/",
          "height": 265
        },
        "id": "EZo6ed6nCG1_",
        "outputId": "93a2fdb7-b2ec-4b20-be09-5832878c6ac9"
      },
      "source": [
        "import matplotlib.pyplot as plt\r\n",
        "import numpy as np\r\n",
        "x=np.array([\"a\",\"b\",\"c\",\"d\"])\r\n",
        "y=np.array([23,50,87,39])\r\n",
        "plt.bar(x,y)\r\n",
        "plt.show()"
      ],
      "execution_count": null,
      "outputs": [
        {
          "output_type": "display_data",
          "data": {
            "image/png": "[encoded data removed]",
            "text/plain": [
              "<Figure size 432x288 with 1 Axes>"
            ]
          },
          "metadata": {
            "tags": [],
            "needs_background": "light"
          }
        }
      ]
    },
    {
      "cell_type": "code",
      "metadata": {
        "colab": {
          "base_uri": "https://localhost:8080/",
          "height": 265
        },
        "id": "ryFm1OARDi9r",
        "outputId": "f2ee83d5-0e44-4481-f25b-0e0aacb438f4"
      },
      "source": [
        "import matplotlib.pyplot as plt\r\n",
        "import numpy as np\r\n",
        "x=np.array([\"a\",\"b\",\"c\",\"d\"])\r\n",
        "y=np.array([23,50,87,39])\r\n",
        "plt.barh(x,y)\r\n",
        "plt.show()"
      ],
      "execution_count": null,
      "outputs": [
        {
          "output_type": "display_data",
          "data": {
            "image/png": "[encoded data removed]",
            "text/plain": [
              "<Figure size 432x288 with 1 Axes>"
            ]
          },
          "metadata": {
            "tags": [],
            "needs_background": "light"
          }
        }
      ]
    },
    {
      "cell_type": "code",
      "metadata": {
        "colab": {
          "base_uri": "https://localhost:8080/",
          "height": 265
        },
        "id": "uBC1lWG3DzcM",
        "outputId": "76eb1b72-2792-45ca-8b23-723dea852f0d"
      },
      "source": [
        "import matplotlib.pyplot as plt\r\n",
        "import numpy as np\r\n",
        "x=np.array([\"a\",\"b\",\"c\",\"d\"])\r\n",
        "y=np.array([23,50,87,39])\r\n",
        "plt.bar(x,y,color='r')\r\n",
        "plt.show()"
      ],
      "execution_count": null,
      "outputs": [
        {
          "output_type": "display_data",
          "data": {
            "image/png": "[encoded data removed]",
            "text/plain": [
              "<Figure size 432x288 with 1 Axes>"
            ]
          },
          "metadata": {
            "tags": [],
            "needs_background": "light"
          }
        }
      ]
    },
    {
      "cell_type": "code",
      "metadata": {
        "colab": {
          "base_uri": "https://localhost:8080/",
          "height": 265
        },
        "id": "2cCepSn6D6Ze",
        "outputId": "dade691f-e221-42cf-d6f5-138c670b09a7"
      },
      "source": [
        "import matplotlib.pyplot as plt\r\n",
        "import numpy as np\r\n",
        "x=np.array([\"a\",\"b\",\"c\",\"d\"])\r\n",
        "y=np.array([23,50,87,39])\r\n",
        "plt.bar(x,y,width=0.1)\r\n",
        "plt.show()"
      ],
      "execution_count": null,
      "outputs": [
        {
          "output_type": "display_data",
          "data": {
            "image/png": "[encoded data removed]",
            "text/plain": [
              "<Figure size 432x288 with 1 Axes>"
            ]
          },
          "metadata": {
            "tags": [],
            "needs_background": "light"
          }
        }
      ]
    },
    {
      "cell_type": "code",
      "metadata": {
        "colab": {
          "base_uri": "https://localhost:8080/",
          "height": 265
        },
        "id": "177WtQDHEoWX",
        "outputId": "0ccdc965-50dd-4128-85fa-16eb253e3323"
      },
      "source": [
        "import matplotlib.pyplot as plt\r\n",
        "import numpy as np\r\n",
        "x=np.array([\"a\",\"b\",\"c\",\"d\"])\r\n",
        "y=np.array([23,50,87,39])\r\n",
        "plt.bar(x,y,width=0.5)\r\n",
        "plt.show()"
      ],
      "execution_count": null,
      "outputs": [
        {
          "output_type": "display_data",
          "data": {
            "image/png": "[encoded data removed]",
            "text/plain": [
              "<Figure size 432x288 with 1 Axes>"
            ]
          },
          "metadata": {
            "tags": [],
            "needs_background": "light"
          }
        }
      ]
    },
    {
      "cell_type": "code",
      "metadata": {
        "colab": {
          "base_uri": "https://localhost:8080/",
          "height": 265
        },
        "id": "NnXNoItuEsfk",
        "outputId": "06264fb1-5664-4e1a-affa-6f00f1b3971b"
      },
      "source": [
        "import matplotlib.pyplot as plt\r\n",
        "import numpy as np\r\n",
        "x=np.array([\"a\",\"b\",\"c\",\"d\"])\r\n",
        "y=np.array([23,50,87,39])\r\n",
        "plt.barh(x,y,height=0.1)\r\n",
        "plt.show()"
      ],
      "execution_count": null,
      "outputs": [
        {
          "output_type": "display_data",
          "data": {
            "image/png": "[encoded data removed]",
            "text/plain": [
              "<Figure size 432x288 with 1 Axes>"
            ]
          },
          "metadata": {
            "tags": [],
            "needs_background": "light"
          }
        }
      ]
    },
    {
      "cell_type": "code",
      "metadata": {
        "id": "PcNxP8gjE7AU"
      },
      "source": [
        "import numpy as np\r\n",
        "\r\n",
        "x=np.random.normal(170,10,250)"
      ],
      "execution_count": null,
      "outputs": []
    },
    {
      "cell_type": "code",
      "metadata": {
        "colab": {
          "base_uri": "https://localhost:8080/",
          "height": 265
        },
        "id": "S5lFcAczF3SW",
        "outputId": "116bff78-4777-452f-80a8-b7a97070917c"
      },
      "source": [
        "import numpy as np\r\n",
        "import matplotlib.pyplot as plt\r\n",
        "\r\n",
        "\r\n",
        "x=np.random.normal(170,10,250)\r\n",
        "plt.hist(x)\r\n",
        "plt.show()\r\n"
      ],
      "execution_count": null,
      "outputs": [
        {
          "output_type": "display_data",
          "data": {
            "image/png": "[encoded data removed]",
            "text/plain": [
              "<Figure size 432x288 with 1 Axes>"
            ]
          },
          "metadata": {
            "tags": [],
            "needs_background": "light"
          }
        }
      ]
    },
    {
      "cell_type": "code",
      "metadata": {
        "colab": {
          "base_uri": "https://localhost:8080/",
          "height": 248
        },
        "id": "7PZ-ZKs6GCMV",
        "outputId": "00965b8b-82a5-4ebd-fd50-1c21b02dde43"
      },
      "source": [
        "import numpy as np\r\n",
        "import matplotlib.pyplot as plt\r\n",
        "y=np.array([35,15,25,25])\r\n",
        "plt.pie(y)\r\n",
        "plt.show()\r\n"
      ],
      "execution_count": null,
      "outputs": [
        {
          "output_type": "display_data",
          "data": {
            "image/png": "[encoded data removed]",
            "text/plain": [
              "<Figure size 432x288 with 1 Axes>"
            ]
          },
          "metadata": {
            "tags": []
          }
        }
      ]
    },
    {
      "cell_type": "code",
      "metadata": {
        "colab": {
          "base_uri": "https://localhost:8080/",
          "height": 247
        },
        "id": "y-FuKV1TGg-J",
        "outputId": "b003166d-7c0d-40d9-f81d-02637e12bfef"
      },
      "source": [
        "import numpy as np\r\n",
        "import matplotlib.pyplot as plt\r\n",
        "y=np.array([35,15,25,25])\r\n",
        "mylabels=['Klaus','John','Rebecca','Stefan']\r\n",
        "plt.pie(y,labels=mylabels)\r\n",
        "plt.show()"
      ],
      "execution_count": null,
      "outputs": [
        {
          "output_type": "display_data",
          "data": {
            "image/png": "[encoded data removed]",
            "text/plain": [
              "<Figure size 432x288 with 1 Axes>"
            ]
          },
          "metadata": {
            "tags": []
          }
        }
      ]
    },
    {
      "cell_type": "code",
      "metadata": {
        "colab": {
          "base_uri": "https://localhost:8080/",
          "height": 247
        },
        "id": "UC3rP_oJHSNM",
        "outputId": "f557f4ad-a06c-46be-dae2-64674be4e287"
      },
      "source": [
        "import numpy as np\r\n",
        "import matplotlib.pyplot as plt\r\n",
        "y=np.array([35,15,25,25])\r\n",
        "mylabels=['Klaus','John','Rebecca','Stefan']\r\n",
        "myexplode=[0.2,0,0,0]\r\n",
        "plt.pie(y,labels=mylabels,explode=myexplode)\r\n",
        "plt.show()"
      ],
      "execution_count": null,
      "outputs": [
        {
          "output_type": "display_data",
          "data": {
            "image/png": "[encoded data removed]",
            "text/plain": [
              "<Figure size 432x288 with 1 Axes>"
            ]
          },
          "metadata": {
            "tags": []
          }
        }
      ]
    },
    {
      "cell_type": "code",
      "metadata": {
        "colab": {
          "base_uri": "https://localhost:8080/",
          "height": 247
        },
        "id": "WzWCTewoHku0",
        "outputId": "4ecdc0c4-90b0-4a12-c518-5a5a529ab9ce"
      },
      "source": [
        "import numpy as np\r\n",
        "import matplotlib.pyplot as plt\r\n",
        "y=np.array([35,15,25,25])\r\n",
        "mylabels=['Klaus','John','Rebecca','Stefan']\r\n",
        "myexplode=[0.2,0,0,0]\r\n",
        "plt.pie(y,labels=mylabels,explode=myexplode,shadow=True)\r\n",
        "plt.show()"
      ],
      "execution_count": null,
      "outputs": [
        {
          "output_type": "display_data",
          "data": {
            "image/png": "[encoded data removed]",
            "text/plain": [
              "<Figure size 432x288 with 1 Axes>"
            ]
          },
          "metadata": {
            "tags": []
          }
        }
      ]
    },
    {
      "cell_type": "code",
      "metadata": {
        "colab": {
          "base_uri": "https://localhost:8080/",
          "height": 247
        },
        "id": "Aoa-XfKYHtJ1",
        "outputId": "c1ec6b39-8d0d-4ac4-ff7d-6a9d2f8255d1"
      },
      "source": [
        "import numpy as np\r\n",
        "import matplotlib.pyplot as plt\r\n",
        "y=np.array([35,15,25,25])\r\n",
        "mylabels=['Klaus','John','Rebecca','Stefan']\r\n",
        "myexplode=[0.2,0,0,0]\r\n",
        "plt.pie(y,labels=mylabels,explode=myexplode,shadow=True)\r\n",
        "plt.legend()\r\n",
        "plt.show()"
      ],
      "execution_count": null,
      "outputs": [
        {
          "output_type": "display_data",
          "data": {
            "image/png": "[encoded data removed]",
            "text/plain": [
              "<Figure size 432x288 with 1 Axes>"
            ]
          },
          "metadata": {
            "tags": []
          }
        }
      ]
    },
    {
      "cell_type": "code",
      "metadata": {
        "colab": {
          "base_uri": "https://localhost:8080/",
          "height": 247
        },
        "id": "sB1PtjwaICbK",
        "outputId": "16abca45-7d67-4491-dc2a-2799890d32e9"
      },
      "source": [
        "import numpy as np\r\n",
        "import matplotlib.pyplot as plt\r\n",
        "y=np.array([35,15,25,25])\r\n",
        "mylabels=['Klaus','John','Rebecca','Stefan']\r\n",
        "myexplode=[0.2,0,0,0]\r\n",
        "plt.pie(y,labels=mylabels,explode=myexplode,shadow=True)\r\n",
        "plt.legend(title='studentnames:')\r\n",
        "plt.show()"
      ],
      "execution_count": null,
      "outputs": [
        {
          "output_type": "display_data",
          "data": {
            "image/png": "[encoded data removed]",
            "text/plain": [
              "<Figure size 432x288 with 1 Axes>"
            ]
          },
          "metadata": {
            "tags": []
          }
        }
      ]
    },
    {
      "cell_type": "code",
      "metadata": {
        "colab": {
          "base_uri": "https://localhost:8080/",
          "height": 280
        },
        "id": "R1ZNq9PqIcGR",
        "outputId": "4f455fc6-543a-455d-e021-09fe0e6199d2"
      },
      "source": [
        "import numpy as np\r\n",
        "import matplotlib.pyplot as plt\r\n",
        "y=np.array([43,17,20,20])\r\n",
        "user_names=['Klaus','John','Rebecca','Stefan']\r\n",
        "myexplode=[0.5,0,0,0]\r\n",
        "plt.pie(y,labels=user_names,explode=myexplode,shadow=True)\r\n",
        "plt.legend(title='users:')\r\n",
        "plt.show()"
      ],
      "execution_count": null,
      "outputs": [
        {
          "output_type": "display_data",
          "data": {
            "image/png": "[encoded data removed]",
            "text/plain": [
              "<Figure size 432x288 with 1 Axes>"
            ]
          },
          "metadata": {
            "tags": []
          }
        }
      ]
    },
    {
      "cell_type": "code",
      "metadata": {
        "id": "DDPXwT2fJAbd"
      },
      "source": [
        ""
      ],
      "execution_count": null,
      "outputs": []
    }
  ]
}