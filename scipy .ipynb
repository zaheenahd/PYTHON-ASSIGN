{
  "nbformat": 4,
  "nbformat_minor": 0,
  "metadata": {
    "colab": {
      "name": "scipy.ipynb",
      "provenance": [],
      "collapsed_sections": []
    },
    "kernelspec": {
      "name": "python3",
      "display_name": "Python 3"
    }
  },
  "cells": [
    {
      "cell_type": "markdown",
      "metadata": {
        "id": "wUZFdcN5zcWr"
      },
      "source": [
        "Scientific Computing using Scipy"
      ]
    },
    {
      "cell_type": "code",
      "metadata": {
        "colab": {
          "base_uri": "https://localhost:8080/"
        },
        "id": "pxTQxaEKzhrb",
        "outputId": "9aca53d6-3e40-4f16-9949-0804e77675ee"
      },
      "source": [
        "from scipy import constants\r\n",
        "print(constants.pi)"
      ],
      "execution_count": null,
      "outputs": [
        {
          "output_type": "stream",
          "text": [
            "3.141592653589793\n"
          ],
          "name": "stdout"
        }
      ]
    },
    {
      "cell_type": "code",
      "metadata": {
        "colab": {
          "base_uri": "https://localhost:8080/"
        },
        "id": "Xv1gOW9OzrsN",
        "outputId": "c13a2d3c-e2b7-4a1d-bc98-1f120c85fbdc"
      },
      "source": [
        "print(dir(constants))"
      ],
      "execution_count": null,
      "outputs": [
        {
          "output_type": "stream",
          "text": [
            "['Avogadro', 'Boltzmann', 'Btu', 'Btu_IT', 'Btu_th', 'ConstantWarning', 'G', 'Julian_year', 'N_A', 'Planck', 'R', 'Rydberg', 'Stefan_Boltzmann', 'Wien', '__all__', '__builtins__', '__cached__', '__doc__', '__file__', '__loader__', '__name__', '__package__', '__path__', '__spec__', '_obsolete_constants', 'absolute_import', 'acre', 'alpha', 'angstrom', 'arcmin', 'arcminute', 'arcsec', 'arcsecond', 'astronomical_unit', 'atm', 'atmosphere', 'atomic_mass', 'atto', 'au', 'bar', 'barrel', 'bbl', 'blob', 'c', 'calorie', 'calorie_IT', 'calorie_th', 'carat', 'centi', 'codata', 'constants', 'convert_temperature', 'day', 'deci', 'degree', 'degree_Fahrenheit', 'deka', 'division', 'dyn', 'dyne', 'e', 'eV', 'electron_mass', 'electron_volt', 'elementary_charge', 'epsilon_0', 'erg', 'exa', 'exbi', 'femto', 'fermi', 'find', 'fine_structure', 'fluid_ounce', 'fluid_ounce_US', 'fluid_ounce_imp', 'foot', 'g', 'gallon', 'gallon_US', 'gallon_imp', 'gas_constant', 'gibi', 'giga', 'golden', 'golden_ratio', 'grain', 'gram', 'gravitational_constant', 'h', 'hbar', 'hectare', 'hecto', 'horsepower', 'hour', 'hp', 'inch', 'k', 'kgf', 'kibi', 'kilo', 'kilogram_force', 'kmh', 'knot', 'lambda2nu', 'lb', 'lbf', 'light_year', 'liter', 'litre', 'long_ton', 'm_e', 'm_n', 'm_p', 'm_u', 'mach', 'mebi', 'mega', 'metric_ton', 'micro', 'micron', 'mil', 'mile', 'milli', 'minute', 'mmHg', 'mph', 'mu_0', 'nano', 'nautical_mile', 'neutron_mass', 'nu2lambda', 'ounce', 'oz', 'parsec', 'pebi', 'peta', 'physical_constants', 'pi', 'pico', 'point', 'pound', 'pound_force', 'precision', 'print_function', 'proton_mass', 'psi', 'pt', 'short_ton', 'sigma', 'slinch', 'slug', 'speed_of_light', 'speed_of_sound', 'stone', 'survey_foot', 'survey_mile', 'tebi', 'tera', 'test', 'ton_TNT', 'torr', 'troy_ounce', 'troy_pound', 'u', 'unit', 'value', 'week', 'yard', 'year', 'yobi', 'yotta', 'zebi', 'zepto', 'zero_Celsius', 'zetta']\n"
          ],
          "name": "stdout"
        }
      ]
    },
    {
      "cell_type": "code",
      "metadata": {
        "colab": {
          "base_uri": "https://localhost:8080/"
        },
        "id": "PkQnIv1Jz1tb",
        "outputId": "5c23a06c-0a7a-4068-bd9a-909f7495e3d5"
      },
      "source": [
        "from scipy import constants\r\n",
        "print(constants.yotta)\r\n",
        "print(constants.zetta)\r\n",
        "print(constants.tera)\r\n",
        "print(constants.mega)\r\n",
        "print(constants.kilo)\r\n",
        "print(constants.astronomical_unit)\r\n",
        "print(constants.atomic_mass)\r\n",
        "print(constants.year)\r\n",
        "print(constants.Julian_year)"
      ],
      "execution_count": null,
      "outputs": [
        {
          "output_type": "stream",
          "text": [
            "1e+24\n",
            "1e+21\n",
            "1000000000000.0\n",
            "1000000.0\n",
            "1000.0\n",
            "149597870700.0\n",
            "1.6605390666e-27\n",
            "31536000.0\n",
            "31557600.0\n"
          ],
          "name": "stdout"
        }
      ]
    },
    {
      "cell_type": "code",
      "metadata": {
        "colab": {
          "base_uri": "https://localhost:8080/"
        },
        "id": "VM87fQiQ0FQb",
        "outputId": "d3b3da7a-c672-45dd-844f-33db9167da0c"
      },
      "source": [
        "print(constants.eV)\r\n",
        "print(constants.electron_volt)"
      ],
      "execution_count": null,
      "outputs": [
        {
          "output_type": "stream",
          "text": [
            "1.602176634e-19\n",
            "1.602176634e-19\n"
          ],
          "name": "stdout"
        }
      ]
    },
    {
      "cell_type": "code",
      "metadata": {
        "colab": {
          "base_uri": "https://localhost:8080/"
        },
        "id": "52Rn3XKo0f9_",
        "outputId": "13ef3d83-faeb-44fc-b9c5-4dd831ab7de4"
      },
      "source": [
        "from scipy.optimize import root\r\n",
        "from math import cos\r\n",
        "def eqn(x):\r\n",
        "  return x+cos(x)\r\n",
        "myroot=root(eqn,0)\r\n",
        "print(myroot.x)"
      ],
      "execution_count": null,
      "outputs": [
        {
          "output_type": "stream",
          "text": [
            "[-0.73908513]\n",
            "<class 'scipy.optimize.optimize.OptimizeResult'>\n"
          ],
          "name": "stdout"
        }
      ]
    },
    {
      "cell_type": "code",
      "metadata": {
        "colab": {
          "base_uri": "https://localhost:8080/"
        },
        "id": "tkTThprO3qpA",
        "outputId": "7699b2d4-2ad8-462f-8dc2-61f66d313c77"
      },
      "source": [
        "from scipy.optimize import root\r\n",
        "from math import cos\r\n",
        "def eqn(x):\r\n",
        "  return x+cos(x)\r\n",
        "myroot=root(eqn,0)\r\n",
        "print(myroot)"
      ],
      "execution_count": null,
      "outputs": [
        {
          "output_type": "stream",
          "text": [
            "    fjac: array([[-1.]])\n",
            "     fun: array([0.])\n",
            " message: 'The solution converged.'\n",
            "    nfev: 9\n",
            "     qtf: array([-2.66786593e-13])\n",
            "       r: array([-1.67361202])\n",
            "  status: 1\n",
            " success: True\n",
            "       x: array([-0.73908513])\n"
          ],
          "name": "stdout"
        }
      ]
    },
    {
      "cell_type": "code",
      "metadata": {
        "colab": {
          "base_uri": "https://localhost:8080/"
        },
        "id": "QX3AZCq24XRl",
        "outputId": "52097b0c-2d9d-4690-f388-6eeccf458e8e"
      },
      "source": [
        "from scipy.optimize import root\r\n",
        "from math import cos\r\n",
        "def eqn(x):\r\n",
        "  return x+cos(x)\r\n",
        "myroot=root(eqn,1)\r\n",
        "print(myroot.x)\r\n",
        "print(myroot)"
      ],
      "execution_count": null,
      "outputs": [
        {
          "output_type": "stream",
          "text": [
            "[-0.73908513]\n",
            "    fjac: array([[-1.]])\n",
            "     fun: array([0.])\n",
            " message: 'The solution converged.'\n",
            "    nfev: 11\n",
            "     qtf: array([2.57793786e-13])\n",
            "       r: array([-1.67361203])\n",
            "  status: 1\n",
            " success: True\n",
            "       x: array([-0.73908513])\n"
          ],
          "name": "stdout"
        }
      ]
    },
    {
      "cell_type": "code",
      "metadata": {
        "colab": {
          "base_uri": "https://localhost:8080/"
        },
        "id": "nc-J9W2e4e9D",
        "outputId": "f45f5135-e083-45de-e9a3-ec9962a7fdb3"
      },
      "source": [
        "from scipy.optimize import root\r\n",
        "from math import cos\r\n",
        "def eqn(x):\r\n",
        "  return x+cos(x)\r\n",
        "myroot=root(eqn,2)\r\n",
        "print(myroot.x)\r\n",
        "print(myroot)"
      ],
      "execution_count": null,
      "outputs": [
        {
          "output_type": "stream",
          "text": [
            "[-0.73908513]\n",
            "    fjac: array([[-1.]])\n",
            "     fun: array([0.])\n",
            " message: 'The solution converged.'\n",
            "    nfev: 11\n",
            "     qtf: array([-5.66612313e-11])\n",
            "       r: array([-1.67361183])\n",
            "  status: 1\n",
            " success: True\n",
            "       x: array([-0.73908513])\n"
          ],
          "name": "stdout"
        }
      ]
    },
    {
      "cell_type": "code",
      "metadata": {
        "colab": {
          "base_uri": "https://localhost:8080/"
        },
        "id": "MIu_eJMc4jIP",
        "outputId": "c6a2516b-653b-42bd-895c-44979b06941a"
      },
      "source": [
        "from scipy.optimize import minimize\r\n",
        "def eqn(x):\r\n",
        "  return x**2+x+2\r\n",
        "mymini=minimize(eqn,0,method='BFGS')\r\n",
        "print(mymini)"
      ],
      "execution_count": null,
      "outputs": [
        {
          "output_type": "stream",
          "text": [
            "      fun: 1.75\n",
            " hess_inv: array([[0.50000001]])\n",
            "      jac: array([0.])\n",
            "  message: 'Optimization terminated successfully.'\n",
            "     nfev: 12\n",
            "      nit: 2\n",
            "     njev: 4\n",
            "   status: 0\n",
            "  success: True\n",
            "        x: array([-0.50000001])\n"
          ],
          "name": "stdout"
        }
      ]
    },
    {
      "cell_type": "code",
      "metadata": {
        "id": "B86lllkb5RS2"
      },
      "source": [
        ""
      ],
      "execution_count": null,
      "outputs": []
    }
  ]
}